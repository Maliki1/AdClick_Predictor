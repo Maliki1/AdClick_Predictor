{
 "cells": [
  {
   "cell_type": "code",
   "execution_count": 1,
   "metadata": {
    "colab": {
     "base_uri": "https://localhost:8080/"
    },
    "executionInfo": {
     "elapsed": 18488,
     "status": "ok",
     "timestamp": 1702781646369,
     "user": {
      "displayName": "Aime Munezero",
      "userId": "06388141865929136468"
     },
     "user_tz": 300
    },
    "id": "9ZuK5BqsjLZI",
    "outputId": "a60c7870-ff48-461c-bc6c-e7f3dfa39dff"
   },
   "outputs": [
    {
     "name": "stdout",
     "output_type": "stream",
     "text": [
      "Mounted at /content/drive\n"
     ]
    }
   ],
   "source": [
    "from google.colab import drive # Importing Google Colab module for using Google Drive\n",
    "drive.mount('/content/drive')"
   ]
  },
  {
   "cell_type": "code",
   "execution_count": 2,
   "metadata": {
    "executionInfo": {
     "elapsed": 1854,
     "status": "ok",
     "timestamp": 1702781648216,
     "user": {
      "displayName": "Aime Munezero",
      "userId": "06388141865929136468"
     },
     "user_tz": 300
    },
    "id": "UN3FU9OjkndG"
   },
   "outputs": [],
   "source": [
    "import numpy as np # Importing libraries for data manipulation\n",
    "import pandas as pd # Importing libraries for data manipulation\n",
    "import xgboost as xgb # Importing XGBoost for gradient boosting\n",
    "from sklearn.metrics import confusion_matrix # Importing Scikit-learn modules for machine learning tasks\n",
    "from sklearn.model_selection import train_test_split # Importing Scikit-learn modules for machine learning tasks\n",
    "import matplotlib.pyplot as plt # Importing libraries for data visualization\n",
    "import seaborn as sns # Importing libraries for data visualization"
   ]
  },
  {
   "cell_type": "code",
   "execution_count": 3,
   "metadata": {
    "executionInfo": {
     "elapsed": 6,
     "status": "ok",
     "timestamp": 1702781648217,
     "user": {
      "displayName": "Aime Munezero",
      "userId": "06388141865929136468"
     },
     "user_tz": 300
    },
    "id": "Gp6k70tDin0Y"
   },
   "outputs": [],
   "source": [
    "# Define your calculate_log_loss function\n",
    "def calculate_log_loss(y_true, y_pred):\n",
    "    eps = 1e-15\n",
    "    y_pred = np.clip(y_pred, eps, 1 - eps)\n",
    "    return -np.mean(y_true * np.log(y_pred) + (1 - y_true) * np.log(1 - y_pred))"
   ]
  },
  {
   "cell_type": "code",
   "execution_count": 4,
   "metadata": {
    "colab": {
     "base_uri": "https://localhost:8080/",
     "height": 226
    },
    "executionInfo": {
     "elapsed": 10359,
     "status": "ok",
     "timestamp": 1702781658571,
     "user": {
      "displayName": "Aime Munezero",
      "userId": "06388141865929136468"
     },
     "user_tz": 300
    },
    "id": "FiJZuH4QjH18",
    "outputId": "8ec83ecb-dde8-4642-c919-9eb745557a95"
   },
   "outputs": [
    {
     "data": {
      "text/html": [
       "\n",
       "  <div id=\"df-e399a7a3-7588-4b57-9d16-0c638f86fa2e\" class=\"colab-df-container\">\n",
       "    <div>\n",
       "<style scoped>\n",
       "    .dataframe tbody tr th:only-of-type {\n",
       "        vertical-align: middle;\n",
       "    }\n",
       "\n",
       "    .dataframe tbody tr th {\n",
       "        vertical-align: top;\n",
       "    }\n",
       "\n",
       "    .dataframe thead th {\n",
       "        text-align: right;\n",
       "    }\n",
       "</style>\n",
       "<table border=\"1\" class=\"dataframe\">\n",
       "  <thead>\n",
       "    <tr style=\"text-align: right;\">\n",
       "      <th></th>\n",
       "      <th>C21</th>\n",
       "      <th>day_of_week</th>\n",
       "      <th>C14</th>\n",
       "      <th>site_domain</th>\n",
       "      <th>device_model</th>\n",
       "      <th>part_of_day</th>\n",
       "      <th>site_id</th>\n",
       "      <th>app_id</th>\n",
       "      <th>device_ip</th>\n",
       "      <th>C19</th>\n",
       "      <th>C15</th>\n",
       "      <th>site_category</th>\n",
       "      <th>device_id</th>\n",
       "      <th>C16</th>\n",
       "      <th>C20</th>\n",
       "      <th>click</th>\n",
       "    </tr>\n",
       "  </thead>\n",
       "  <tbody>\n",
       "    <tr>\n",
       "      <th>0</th>\n",
       "      <td>15</td>\n",
       "      <td>3</td>\n",
       "      <td>377</td>\n",
       "      <td>6124</td>\n",
       "      <td>4355</td>\n",
       "      <td>1</td>\n",
       "      <td>2546</td>\n",
       "      <td>8998</td>\n",
       "      <td>2147212</td>\n",
       "      <td>1319</td>\n",
       "      <td>320</td>\n",
       "      <td>6</td>\n",
       "      <td>1918736</td>\n",
       "      <td>50</td>\n",
       "      <td>-1</td>\n",
       "      <td>1</td>\n",
       "    </tr>\n",
       "    <tr>\n",
       "      <th>1</th>\n",
       "      <td>23</td>\n",
       "      <td>3</td>\n",
       "      <td>19950</td>\n",
       "      <td>746</td>\n",
       "      <td>4485</td>\n",
       "      <td>4</td>\n",
       "      <td>1856</td>\n",
       "      <td>8433</td>\n",
       "      <td>2284067</td>\n",
       "      <td>167</td>\n",
       "      <td>320</td>\n",
       "      <td>24</td>\n",
       "      <td>1918736</td>\n",
       "      <td>50</td>\n",
       "      <td>100079</td>\n",
       "      <td>0</td>\n",
       "    </tr>\n",
       "    <tr>\n",
       "      <th>2</th>\n",
       "      <td>20</td>\n",
       "      <td>2</td>\n",
       "      <td>787</td>\n",
       "      <td>6124</td>\n",
       "      <td>7947</td>\n",
       "      <td>3</td>\n",
       "      <td>2546</td>\n",
       "      <td>2834</td>\n",
       "      <td>431146</td>\n",
       "      <td>169</td>\n",
       "      <td>320</td>\n",
       "      <td>6</td>\n",
       "      <td>1918736</td>\n",
       "      <td>50</td>\n",
       "      <td>100094</td>\n",
       "      <td>0</td>\n",
       "    </tr>\n",
       "    <tr>\n",
       "      <th>3</th>\n",
       "      <td>156</td>\n",
       "      <td>1</td>\n",
       "      <td>17877</td>\n",
       "      <td>6124</td>\n",
       "      <td>1819</td>\n",
       "      <td>1</td>\n",
       "      <td>2546</td>\n",
       "      <td>3745</td>\n",
       "      <td>2339535</td>\n",
       "      <td>47</td>\n",
       "      <td>320</td>\n",
       "      <td>6</td>\n",
       "      <td>1918736</td>\n",
       "      <td>50</td>\n",
       "      <td>-1</td>\n",
       "      <td>1</td>\n",
       "    </tr>\n",
       "    <tr>\n",
       "      <th>4</th>\n",
       "      <td>221</td>\n",
       "      <td>2</td>\n",
       "      <td>23202</td>\n",
       "      <td>7495</td>\n",
       "      <td>4485</td>\n",
       "      <td>1</td>\n",
       "      <td>594</td>\n",
       "      <td>8433</td>\n",
       "      <td>4336748</td>\n",
       "      <td>163</td>\n",
       "      <td>320</td>\n",
       "      <td>2</td>\n",
       "      <td>1918736</td>\n",
       "      <td>50</td>\n",
       "      <td>100084</td>\n",
       "      <td>0</td>\n",
       "    </tr>\n",
       "  </tbody>\n",
       "</table>\n",
       "</div>\n",
       "    <div class=\"colab-df-buttons\">\n",
       "\n",
       "  <div class=\"colab-df-container\">\n",
       "    <button class=\"colab-df-convert\" onclick=\"convertToInteractive('df-e399a7a3-7588-4b57-9d16-0c638f86fa2e')\"\n",
       "            title=\"Convert this dataframe to an interactive table.\"\n",
       "            style=\"display:none;\">\n",
       "\n",
       "  <svg xmlns=\"http://www.w3.org/2000/svg\" height=\"24px\" viewBox=\"0 -960 960 960\">\n",
       "    <path d=\"M120-120v-720h720v720H120Zm60-500h600v-160H180v160Zm220 220h160v-160H400v160Zm0 220h160v-160H400v160ZM180-400h160v-160H180v160Zm440 0h160v-160H620v160ZM180-180h160v-160H180v160Zm440 0h160v-160H620v160Z\"/>\n",
       "  </svg>\n",
       "    </button>\n",
       "\n",
       "  <style>\n",
       "    .colab-df-container {\n",
       "      display:flex;\n",
       "      gap: 12px;\n",
       "    }\n",
       "\n",
       "    .colab-df-convert {\n",
       "      background-color: #E8F0FE;\n",
       "      border: none;\n",
       "      border-radius: 50%;\n",
       "      cursor: pointer;\n",
       "      display: none;\n",
       "      fill: #1967D2;\n",
       "      height: 32px;\n",
       "      padding: 0 0 0 0;\n",
       "      width: 32px;\n",
       "    }\n",
       "\n",
       "    .colab-df-convert:hover {\n",
       "      background-color: #E2EBFA;\n",
       "      box-shadow: 0px 1px 2px rgba(60, 64, 67, 0.3), 0px 1px 3px 1px rgba(60, 64, 67, 0.15);\n",
       "      fill: #174EA6;\n",
       "    }\n",
       "\n",
       "    .colab-df-buttons div {\n",
       "      margin-bottom: 4px;\n",
       "    }\n",
       "\n",
       "    [theme=dark] .colab-df-convert {\n",
       "      background-color: #3B4455;\n",
       "      fill: #D2E3FC;\n",
       "    }\n",
       "\n",
       "    [theme=dark] .colab-df-convert:hover {\n",
       "      background-color: #434B5C;\n",
       "      box-shadow: 0px 1px 3px 1px rgba(0, 0, 0, 0.15);\n",
       "      filter: drop-shadow(0px 1px 2px rgba(0, 0, 0, 0.3));\n",
       "      fill: #FFFFFF;\n",
       "    }\n",
       "  </style>\n",
       "\n",
       "    <script>\n",
       "      const buttonEl =\n",
       "        document.querySelector('#df-e399a7a3-7588-4b57-9d16-0c638f86fa2e button.colab-df-convert');\n",
       "      buttonEl.style.display =\n",
       "        google.colab.kernel.accessAllowed ? 'block' : 'none';\n",
       "\n",
       "      async function convertToInteractive(key) {\n",
       "        const element = document.querySelector('#df-e399a7a3-7588-4b57-9d16-0c638f86fa2e');\n",
       "        const dataTable =\n",
       "          await google.colab.kernel.invokeFunction('convertToInteractive',\n",
       "                                                    [key], {});\n",
       "        if (!dataTable) return;\n",
       "\n",
       "        const docLinkHtml = 'Like what you see? Visit the ' +\n",
       "          '<a target=\"_blank\" href=https://colab.research.google.com/notebooks/data_table.ipynb>data table notebook</a>'\n",
       "          + ' to learn more about interactive tables.';\n",
       "        element.innerHTML = '';\n",
       "        dataTable['output_type'] = 'display_data';\n",
       "        await google.colab.output.renderOutput(dataTable, element);\n",
       "        const docLink = document.createElement('div');\n",
       "        docLink.innerHTML = docLinkHtml;\n",
       "        element.appendChild(docLink);\n",
       "      }\n",
       "    </script>\n",
       "  </div>\n",
       "\n",
       "\n",
       "<div id=\"df-f069f49d-4e70-40c3-b158-442b88355abe\">\n",
       "  <button class=\"colab-df-quickchart\" onclick=\"quickchart('df-f069f49d-4e70-40c3-b158-442b88355abe')\"\n",
       "            title=\"Suggest charts\"\n",
       "            style=\"display:none;\">\n",
       "\n",
       "<svg xmlns=\"http://www.w3.org/2000/svg\" height=\"24px\"viewBox=\"0 0 24 24\"\n",
       "     width=\"24px\">\n",
       "    <g>\n",
       "        <path d=\"M19 3H5c-1.1 0-2 .9-2 2v14c0 1.1.9 2 2 2h14c1.1 0 2-.9 2-2V5c0-1.1-.9-2-2-2zM9 17H7v-7h2v7zm4 0h-2V7h2v10zm4 0h-2v-4h2v4z\"/>\n",
       "    </g>\n",
       "</svg>\n",
       "  </button>\n",
       "\n",
       "<style>\n",
       "  .colab-df-quickchart {\n",
       "      --bg-color: #E8F0FE;\n",
       "      --fill-color: #1967D2;\n",
       "      --hover-bg-color: #E2EBFA;\n",
       "      --hover-fill-color: #174EA6;\n",
       "      --disabled-fill-color: #AAA;\n",
       "      --disabled-bg-color: #DDD;\n",
       "  }\n",
       "\n",
       "  [theme=dark] .colab-df-quickchart {\n",
       "      --bg-color: #3B4455;\n",
       "      --fill-color: #D2E3FC;\n",
       "      --hover-bg-color: #434B5C;\n",
       "      --hover-fill-color: #FFFFFF;\n",
       "      --disabled-bg-color: #3B4455;\n",
       "      --disabled-fill-color: #666;\n",
       "  }\n",
       "\n",
       "  .colab-df-quickchart {\n",
       "    background-color: var(--bg-color);\n",
       "    border: none;\n",
       "    border-radius: 50%;\n",
       "    cursor: pointer;\n",
       "    display: none;\n",
       "    fill: var(--fill-color);\n",
       "    height: 32px;\n",
       "    padding: 0;\n",
       "    width: 32px;\n",
       "  }\n",
       "\n",
       "  .colab-df-quickchart:hover {\n",
       "    background-color: var(--hover-bg-color);\n",
       "    box-shadow: 0 1px 2px rgba(60, 64, 67, 0.3), 0 1px 3px 1px rgba(60, 64, 67, 0.15);\n",
       "    fill: var(--button-hover-fill-color);\n",
       "  }\n",
       "\n",
       "  .colab-df-quickchart-complete:disabled,\n",
       "  .colab-df-quickchart-complete:disabled:hover {\n",
       "    background-color: var(--disabled-bg-color);\n",
       "    fill: var(--disabled-fill-color);\n",
       "    box-shadow: none;\n",
       "  }\n",
       "\n",
       "  .colab-df-spinner {\n",
       "    border: 2px solid var(--fill-color);\n",
       "    border-color: transparent;\n",
       "    border-bottom-color: var(--fill-color);\n",
       "    animation:\n",
       "      spin 1s steps(1) infinite;\n",
       "  }\n",
       "\n",
       "  @keyframes spin {\n",
       "    0% {\n",
       "      border-color: transparent;\n",
       "      border-bottom-color: var(--fill-color);\n",
       "      border-left-color: var(--fill-color);\n",
       "    }\n",
       "    20% {\n",
       "      border-color: transparent;\n",
       "      border-left-color: var(--fill-color);\n",
       "      border-top-color: var(--fill-color);\n",
       "    }\n",
       "    30% {\n",
       "      border-color: transparent;\n",
       "      border-left-color: var(--fill-color);\n",
       "      border-top-color: var(--fill-color);\n",
       "      border-right-color: var(--fill-color);\n",
       "    }\n",
       "    40% {\n",
       "      border-color: transparent;\n",
       "      border-right-color: var(--fill-color);\n",
       "      border-top-color: var(--fill-color);\n",
       "    }\n",
       "    60% {\n",
       "      border-color: transparent;\n",
       "      border-right-color: var(--fill-color);\n",
       "    }\n",
       "    80% {\n",
       "      border-color: transparent;\n",
       "      border-right-color: var(--fill-color);\n",
       "      border-bottom-color: var(--fill-color);\n",
       "    }\n",
       "    90% {\n",
       "      border-color: transparent;\n",
       "      border-bottom-color: var(--fill-color);\n",
       "    }\n",
       "  }\n",
       "</style>\n",
       "\n",
       "  <script>\n",
       "    async function quickchart(key) {\n",
       "      const quickchartButtonEl =\n",
       "        document.querySelector('#' + key + ' button');\n",
       "      quickchartButtonEl.disabled = true;  // To prevent multiple clicks.\n",
       "      quickchartButtonEl.classList.add('colab-df-spinner');\n",
       "      try {\n",
       "        const charts = await google.colab.kernel.invokeFunction(\n",
       "            'suggestCharts', [key], {});\n",
       "      } catch (error) {\n",
       "        console.error('Error during call to suggestCharts:', error);\n",
       "      }\n",
       "      quickchartButtonEl.classList.remove('colab-df-spinner');\n",
       "      quickchartButtonEl.classList.add('colab-df-quickchart-complete');\n",
       "    }\n",
       "    (() => {\n",
       "      let quickchartButtonEl =\n",
       "        document.querySelector('#df-f069f49d-4e70-40c3-b158-442b88355abe button');\n",
       "      quickchartButtonEl.style.display =\n",
       "        google.colab.kernel.accessAllowed ? 'block' : 'none';\n",
       "    })();\n",
       "  </script>\n",
       "</div>\n",
       "\n",
       "    </div>\n",
       "  </div>\n"
      ],
      "text/plain": [
       "   C21  day_of_week    C14  site_domain  device_model  part_of_day  site_id  \\\n",
       "0   15            3    377         6124          4355            1     2546   \n",
       "1   23            3  19950          746          4485            4     1856   \n",
       "2   20            2    787         6124          7947            3     2546   \n",
       "3  156            1  17877         6124          1819            1     2546   \n",
       "4  221            2  23202         7495          4485            1      594   \n",
       "\n",
       "   app_id  device_ip   C19  C15  site_category  device_id  C16     C20  click  \n",
       "0    8998    2147212  1319  320              6    1918736   50      -1      1  \n",
       "1    8433    2284067   167  320             24    1918736   50  100079      0  \n",
       "2    2834     431146   169  320              6    1918736   50  100094      0  \n",
       "3    3745    2339535    47  320              6    1918736   50      -1      1  \n",
       "4    8433    4336748   163  320              2    1918736   50  100084      0  "
      ]
     },
     "execution_count": 4,
     "metadata": {},
     "output_type": "execute_result"
    }
   ],
   "source": [
    "data = pd.read_csv('/content/drive/MyDrive/Malik/pre-processed_data_modeling.csv')\n",
    "data.head()"
   ]
  },
  {
   "cell_type": "code",
   "execution_count": 5,
   "metadata": {
    "executionInfo": {
     "elapsed": 443,
     "status": "ok",
     "timestamp": 1702781659010,
     "user": {
      "displayName": "Aime Munezero",
      "userId": "06388141865929136468"
     },
     "user_tz": 300
    },
    "id": "QPs-cibvkS4k"
   },
   "outputs": [],
   "source": [
    "\n",
    "# Assuming 'data' is your DataFrame and 'target' is the name of the target variable\n",
    "X = data.drop('click', axis=1)  # Features\n",
    "Y = data['click']  # Target variable"
   ]
  },
  {
   "cell_type": "code",
   "execution_count": 6,
   "metadata": {
    "colab": {
     "base_uri": "https://localhost:8080/"
    },
    "executionInfo": {
     "elapsed": 8,
     "status": "ok",
     "timestamp": 1702781659011,
     "user": {
      "displayName": "Aime Munezero",
      "userId": "06388141865929136468"
     },
     "user_tz": 300
    },
    "id": "1Pjg3ysnka17",
    "outputId": "3bdc1a6f-1e63-4b75-d551-cb6212788bc6"
   },
   "outputs": [
    {
     "data": {
      "text/plain": [
       "(10000000, 15)"
      ]
     },
     "execution_count": 6,
     "metadata": {},
     "output_type": "execute_result"
    }
   ],
   "source": [
    "X.shape"
   ]
  },
  {
   "cell_type": "code",
   "execution_count": 7,
   "metadata": {
    "executionInfo": {
     "elapsed": 3695,
     "status": "ok",
     "timestamp": 1702781662700,
     "user": {
      "displayName": "Aime Munezero",
      "userId": "06388141865929136468"
     },
     "user_tz": 300
    },
    "id": "Ac1L5uK8jEUw"
   },
   "outputs": [],
   "source": [
    "# Split the dataset into training and test sets\n",
    "X_train, X_test, y_train, y_test = train_test_split(X, Y, test_size=0.25, random_state=42)"
   ]
  },
  {
   "cell_type": "code",
   "execution_count": 8,
   "metadata": {
    "colab": {
     "base_uri": "https://localhost:8080/",
     "height": 581
    },
    "executionInfo": {
     "elapsed": 103741,
     "status": "ok",
     "timestamp": 1702781766437,
     "user": {
      "displayName": "Aime Munezero",
      "userId": "06388141865929136468"
     },
     "user_tz": 300
    },
    "id": "eHYp22Dmi9c5",
    "outputId": "00bac760-4726-4f40-bbbb-11b5b6c33da4"
   },
   "outputs": [
    {
     "name": "stdout",
     "output_type": "stream",
     "text": [
      "Log Loss: 0.5713599920272827\n"
     ]
    },
    {
     "data": {
      "image/png": "[encoded data removed]",
      "text/plain": [
       "<Figure size 800x600 with 2 Axes>"
      ]
     },
     "metadata": {},
     "output_type": "display_data"
    }
   ],
   "source": [
    "# Initialize an XGBoost classifier\n",
    "model = xgb.XGBClassifier(\n",
    "    n_estimators=100,\n",
    "    max_depth=20,\n",
    "    learning_rate=0.1,\n",
    "    objective='binary:logistic',\n",
    "    n_jobs=-1,\n",
    "    random_state=42\n",
    ")\n",
    "\n",
    "# Fit the model to the training set\n",
    "model.fit(X_train, y_train)\n",
    "\n",
    "# Predict probabilities\n",
    "y_pred_prob = model.predict_proba(X_test)[:, 1]  # Assuming a binary classification; adjust if necessary\n",
    "\n",
    "# Calculate log loss\n",
    "log_loss = calculate_log_loss(y_test, y_pred_prob)\n",
    "print(f'Log Loss: {log_loss}')\n",
    "\n",
    "# Predict class labels based on a threshold\n",
    "threshold = 0.5\n",
    "y_pred_class = (y_pred_prob > threshold).astype(int)\n",
    "\n",
    "# Create the confusion matrix\n",
    "cm = confusion_matrix(y_test, y_pred_class)\n",
    "\n",
    "# Normalize the confusion matrix to show percentages\n",
    "cm_percentage = cm / cm.sum(axis=1).reshape(-1, 1)\n",
    "\n",
    "# Plotting the confusion matrix in percentage\n",
    "plt.figure(figsize=(8, 6))\n",
    "sns.heatmap(cm_percentage, annot=True, fmt='.2%', cmap='Blues', xticklabels=['Not Clicked', 'Clicked'], yticklabels=['Not Clicked', 'Clicked'])\n",
    "plt.title('Confusion Matrix (Percentage)')\n",
    "plt.xlabel('Predicted Label')\n",
    "plt.ylabel('True Label')\n",
    "plt.show()\n"
   ]
  },
  {
   "cell_type": "code",
   "execution_count": 9,
   "metadata": {
    "executionInfo": {
     "elapsed": 28001,
     "status": "ok",
     "timestamp": 1702781794429,
     "user": {
      "displayName": "Aime Munezero",
      "userId": "06388141865929136468"
     },
     "user_tz": 300
    },
    "id": "RjMBV-eElEQU"
   },
   "outputs": [],
   "source": [
    "## Predicting using the best model\n",
    "test = pd.read_csv('/content/drive/MyDrive/Malik/test_label_encoded.csv')"
   ]
  },
  {
   "cell_type": "code",
   "execution_count": 10,
   "metadata": {
    "executionInfo": {
     "elapsed": 3668,
     "status": "ok",
     "timestamp": 1702781798093,
     "user": {
      "displayName": "Aime Munezero",
      "userId": "06388141865929136468"
     },
     "user_tz": 300
    },
    "id": "5J8n4h2dsNVB"
   },
   "outputs": [],
   "source": [
    "data = pd.read_csv(\"/content/drive/MyDrive/AI ML Project/ProjectSubmission-TeamX.csv\", dtype={\"column1\": str, \"column2\": float})"
   ]
  },
  {
   "cell_type": "code",
   "execution_count": 11,
   "metadata": {
    "executionInfo": {
     "elapsed": 1490,
     "status": "ok",
     "timestamp": 1702781799579,
     "user": {
      "displayName": "Aime Munezero",
      "userId": "06388141865929136468"
     },
     "user_tz": 300
    },
    "id": "-Goa5vMHsQIV"
   },
   "outputs": [],
   "source": [
    "test = test.drop('hour', axis=1)"
   ]
  },
  {
   "cell_type": "code",
   "execution_count": 25,
   "metadata": {
    "colab": {
     "base_uri": "https://localhost:8080/"
    },
    "executionInfo": {
     "elapsed": 82,
     "status": "ok",
     "timestamp": 1702782370332,
     "user": {
      "displayName": "Aime Munezero",
      "userId": "06388141865929136468"
     },
     "user_tz": 300
    },
    "id": "eJjm8ilqqdpt",
    "outputId": "0dfdeea2-fa1e-4889-e678-8834da78cfeb"
   },
   "outputs": [
    {
     "data": {
      "text/plain": [
       "24"
      ]
     },
     "execution_count": 25,
     "metadata": {},
     "output_type": "execute_result"
    }
   ],
   "source": [
    "len(test.columns)"
   ]
  },
  {
   "cell_type": "code",
   "execution_count": 13,
   "metadata": {
    "executionInfo": {
     "elapsed": 124,
     "status": "ok",
     "timestamp": 1702781801528,
     "user": {
      "displayName": "Aime Munezero",
      "userId": "06388141865929136468"
     },
     "user_tz": 300
    },
    "id": "NKQFfHmKrTk6"
   },
   "outputs": [],
   "source": [
    "selected_columns = [\n",
    "    'device_ip', 'device_model', 'C14', 'device_id', 'day_of_week', 'C20',\n",
    "    'part_of_day', 'site_id', 'site_domain', 'C21', 'app_id', 'C16',\n",
    "    'site_category', 'C19', 'C15' # 'C17' is excluded since it is too correlated to column  C14\n",
    "]\n",
    "\n",
    "test_selected = test[selected_columns]"
   ]
  },
  {
   "cell_type": "code",
   "execution_count": 29,
   "metadata": {
    "colab": {
     "base_uri": "https://localhost:8080/"
    },
    "executionInfo": {
     "elapsed": 83,
     "status": "ok",
     "timestamp": 1702782541064,
     "user": {
      "displayName": "Aime Munezero",
      "userId": "06388141865929136468"
     },
     "user_tz": 300
    },
    "id": "MgsJm_Clrb-N",
    "outputId": "c2a75cb6-6e0e-4af8-ca21-58d3bdba44fc"
   },
   "outputs": [
    {
     "data": {
      "text/plain": [
       "Index(['C21', 'day_of_week', 'C14', 'site_domain', 'device_model',\n",
       "       'part_of_day', 'site_id', 'app_id', 'device_ip', 'C19', 'C15',\n",
       "       'site_category', 'device_id', 'C16', 'C20'],\n",
       "      dtype='object')"
      ]
     },
     "execution_count": 29,
     "metadata": {},
     "output_type": "execute_result"
    }
   ],
   "source": [
    "X_train.columns"
   ]
  },
  {
   "cell_type": "code",
   "execution_count": 31,
   "metadata": {
    "executionInfo": {
     "elapsed": 123,
     "status": "ok",
     "timestamp": 1702782784163,
     "user": {
      "displayName": "Aime Munezero",
      "userId": "06388141865929136468"
     },
     "user_tz": 300
    },
    "id": "vl3BoKKkuXiu"
   },
   "outputs": [],
   "source": [
    "# Reordering the columns of test_selected to match the order in X_train\n",
    "test_selected = test_selected[X_train.columns]"
   ]
  },
  {
   "cell_type": "code",
   "execution_count": 33,
   "metadata": {
    "executionInfo": {
     "elapsed": 142,
     "status": "ok",
     "timestamp": 1702782800613,
     "user": {
      "displayName": "Aime Munezero",
      "userId": "06388141865929136468"
     },
     "user_tz": 300
    },
    "id": "tW5R0iUBw1Q5"
   },
   "outputs": [],
   "source": [
    "# test_selected"
   ]
  },
  {
   "cell_type": "code",
   "execution_count": 34,
   "metadata": {
    "executionInfo": {
     "elapsed": 12176,
     "status": "ok",
     "timestamp": 1702782819297,
     "user": {
      "displayName": "Aime Munezero",
      "userId": "06388141865929136468"
     },
     "user_tz": 300
    },
    "id": "ya35E7STug-I"
   },
   "outputs": [],
   "source": [
    "data['P(click)'] = model.predict_proba(test_selected)"
   ]
  },
  {
   "cell_type": "code",
   "execution_count": 37,
   "metadata": {
    "colab": {
     "base_uri": "https://localhost:8080/",
     "height": 424
    },
    "executionInfo": {
     "elapsed": 95,
     "status": "ok",
     "timestamp": 1702782871597,
     "user": {
      "displayName": "Aime Munezero",
      "userId": "06388141865929136468"
     },
     "user_tz": 300
    },
    "id": "mavICaSxxAI9",
    "outputId": "34373008-ee0e-4107-b568-8bc161fc5cdf"
   },
   "outputs": [
    {
     "data": {
      "text/html": [
       "\n",
       "  <div id=\"df-47e4617a-7d6b-490b-a717-be7411517480\" class=\"colab-df-container\">\n",
       "    <div>\n",
       "<style scoped>\n",
       "    .dataframe tbody tr th:only-of-type {\n",
       "        vertical-align: middle;\n",
       "    }\n",
       "\n",
       "    .dataframe tbody tr th {\n",
       "        vertical-align: top;\n",
       "    }\n",
       "\n",
       "    .dataframe thead th {\n",
       "        text-align: right;\n",
       "    }\n",
       "</style>\n",
       "<table border=\"1\" class=\"dataframe\">\n",
       "  <thead>\n",
       "    <tr style=\"text-align: right;\">\n",
       "      <th></th>\n",
       "      <th>id</th>\n",
       "      <th>P(click)</th>\n",
       "    </tr>\n",
       "  </thead>\n",
       "  <tbody>\n",
       "    <tr>\n",
       "      <th>0</th>\n",
       "      <td>3295858251275419735</td>\n",
       "      <td>0.817290</td>\n",
       "    </tr>\n",
       "    <tr>\n",
       "      <th>1</th>\n",
       "      <td>12281702837842634283</td>\n",
       "      <td>0.928968</td>\n",
       "    </tr>\n",
       "    <tr>\n",
       "      <th>2</th>\n",
       "      <td>4638380339534007785</td>\n",
       "      <td>0.917126</td>\n",
       "    </tr>\n",
       "    <tr>\n",
       "      <th>3</th>\n",
       "      <td>17039804736879076347</td>\n",
       "      <td>0.398978</td>\n",
       "    </tr>\n",
       "    <tr>\n",
       "      <th>4</th>\n",
       "      <td>5753064066292192109</td>\n",
       "      <td>0.472236</td>\n",
       "    </tr>\n",
       "    <tr>\n",
       "      <th>...</th>\n",
       "      <td>...</td>\n",
       "      <td>...</td>\n",
       "    </tr>\n",
       "    <tr>\n",
       "      <th>13015336</th>\n",
       "      <td>13925888664291307582</td>\n",
       "      <td>0.666071</td>\n",
       "    </tr>\n",
       "    <tr>\n",
       "      <th>13015337</th>\n",
       "      <td>16609686573956964319</td>\n",
       "      <td>0.268713</td>\n",
       "    </tr>\n",
       "    <tr>\n",
       "      <th>13015338</th>\n",
       "      <td>4549134116722204000</td>\n",
       "      <td>0.333886</td>\n",
       "    </tr>\n",
       "    <tr>\n",
       "      <th>13015339</th>\n",
       "      <td>2114008866308662546</td>\n",
       "      <td>0.761223</td>\n",
       "    </tr>\n",
       "    <tr>\n",
       "      <th>13015340</th>\n",
       "      <td>7842936548778884133</td>\n",
       "      <td>0.834511</td>\n",
       "    </tr>\n",
       "  </tbody>\n",
       "</table>\n",
       "<p>13015341 rows × 2 columns</p>\n",
       "</div>\n",
       "    <div class=\"colab-df-buttons\">\n",
       "\n",
       "  <div class=\"colab-df-container\">\n",
       "    <button class=\"colab-df-convert\" onclick=\"convertToInteractive('df-47e4617a-7d6b-490b-a717-be7411517480')\"\n",
       "            title=\"Convert this dataframe to an interactive table.\"\n",
       "            style=\"display:none;\">\n",
       "\n",
       "  <svg xmlns=\"http://www.w3.org/2000/svg\" height=\"24px\" viewBox=\"0 -960 960 960\">\n",
       "    <path d=\"M120-120v-720h720v720H120Zm60-500h600v-160H180v160Zm220 220h160v-160H400v160Zm0 220h160v-160H400v160ZM180-400h160v-160H180v160Zm440 0h160v-160H620v160ZM180-180h160v-160H180v160Zm440 0h160v-160H620v160Z\"/>\n",
       "  </svg>\n",
       "    </button>\n",
       "\n",
       "  <style>\n",
       "    .colab-df-container {\n",
       "      display:flex;\n",
       "      gap: 12px;\n",
       "    }\n",
       "\n",
       "    .colab-df-convert {\n",
       "      background-color: #E8F0FE;\n",
       "      border: none;\n",
       "      border-radius: 50%;\n",
       "      cursor: pointer;\n",
       "      display: none;\n",
       "      fill: #1967D2;\n",
       "      height: 32px;\n",
       "      padding: 0 0 0 0;\n",
       "      width: 32px;\n",
       "    }\n",
       "\n",
       "    .colab-df-convert:hover {\n",
       "      background-color: #E2EBFA;\n",
       "      box-shadow: 0px 1px 2px rgba(60, 64, 67, 0.3), 0px 1px 3px 1px rgba(60, 64, 67, 0.15);\n",
       "      fill: #174EA6;\n",
       "    }\n",
       "\n",
       "    .colab-df-buttons div {\n",
       "      margin-bottom: 4px;\n",
       "    }\n",
       "\n",
       "    [theme=dark] .colab-df-convert {\n",
       "      background-color: #3B4455;\n",
       "      fill: #D2E3FC;\n",
       "    }\n",
       "\n",
       "    [theme=dark] .colab-df-convert:hover {\n",
       "      background-color: #434B5C;\n",
       "      box-shadow: 0px 1px 3px 1px rgba(0, 0, 0, 0.15);\n",
       "      filter: drop-shadow(0px 1px 2px rgba(0, 0, 0, 0.3));\n",
       "      fill: #FFFFFF;\n",
       "    }\n",
       "  </style>\n",
       "\n",
       "    <script>\n",
       "      const buttonEl =\n",
       "        document.querySelector('#df-47e4617a-7d6b-490b-a717-be7411517480 button.colab-df-convert');\n",
       "      buttonEl.style.display =\n",
       "        google.colab.kernel.accessAllowed ? 'block' : 'none';\n",
       "\n",
       "      async function convertToInteractive(key) {\n",
       "        const element = document.querySelector('#df-47e4617a-7d6b-490b-a717-be7411517480');\n",
       "        const dataTable =\n",
       "          await google.colab.kernel.invokeFunction('convertToInteractive',\n",
       "                                                    [key], {});\n",
       "        if (!dataTable) return;\n",
       "\n",
       "        const docLinkHtml = 'Like what you see? Visit the ' +\n",
       "          '<a target=\"_blank\" href=https://colab.research.google.com/notebooks/data_table.ipynb>data table notebook</a>'\n",
       "          + ' to learn more about interactive tables.';\n",
       "        element.innerHTML = '';\n",
       "        dataTable['output_type'] = 'display_data';\n",
       "        await google.colab.output.renderOutput(dataTable, element);\n",
       "        const docLink = document.createElement('div');\n",
       "        docLink.innerHTML = docLinkHtml;\n",
       "        element.appendChild(docLink);\n",
       "      }\n",
       "    </script>\n",
       "  </div>\n",
       "\n",
       "\n",
       "<div id=\"df-d0f5a028-452e-45ea-b089-c18e89488b60\">\n",
       "  <button class=\"colab-df-quickchart\" onclick=\"quickchart('df-d0f5a028-452e-45ea-b089-c18e89488b60')\"\n",
       "            title=\"Suggest charts\"\n",
       "            style=\"display:none;\">\n",
       "\n",
       "<svg xmlns=\"http://www.w3.org/2000/svg\" height=\"24px\"viewBox=\"0 0 24 24\"\n",
       "     width=\"24px\">\n",
       "    <g>\n",
       "        <path d=\"M19 3H5c-1.1 0-2 .9-2 2v14c0 1.1.9 2 2 2h14c1.1 0 2-.9 2-2V5c0-1.1-.9-2-2-2zM9 17H7v-7h2v7zm4 0h-2V7h2v10zm4 0h-2v-4h2v4z\"/>\n",
       "    </g>\n",
       "</svg>\n",
       "  </button>\n",
       "\n",
       "<style>\n",
       "  .colab-df-quickchart {\n",
       "      --bg-color: #E8F0FE;\n",
       "      --fill-color: #1967D2;\n",
       "      --hover-bg-color: #E2EBFA;\n",
       "      --hover-fill-color: #174EA6;\n",
       "      --disabled-fill-color: #AAA;\n",
       "      --disabled-bg-color: #DDD;\n",
       "  }\n",
       "\n",
       "  [theme=dark] .colab-df-quickchart {\n",
       "      --bg-color: #3B4455;\n",
       "      --fill-color: #D2E3FC;\n",
       "      --hover-bg-color: #434B5C;\n",
       "      --hover-fill-color: #FFFFFF;\n",
       "      --disabled-bg-color: #3B4455;\n",
       "      --disabled-fill-color: #666;\n",
       "  }\n",
       "\n",
       "  .colab-df-quickchart {\n",
       "    background-color: var(--bg-color);\n",
       "    border: none;\n",
       "    border-radius: 50%;\n",
       "    cursor: pointer;\n",
       "    display: none;\n",
       "    fill: var(--fill-color);\n",
       "    height: 32px;\n",
       "    padding: 0;\n",
       "    width: 32px;\n",
       "  }\n",
       "\n",
       "  .colab-df-quickchart:hover {\n",
       "    background-color: var(--hover-bg-color);\n",
       "    box-shadow: 0 1px 2px rgba(60, 64, 67, 0.3), 0 1px 3px 1px rgba(60, 64, 67, 0.15);\n",
       "    fill: var(--button-hover-fill-color);\n",
       "  }\n",
       "\n",
       "  .colab-df-quickchart-complete:disabled,\n",
       "  .colab-df-quickchart-complete:disabled:hover {\n",
       "    background-color: var(--disabled-bg-color);\n",
       "    fill: var(--disabled-fill-color);\n",
       "    box-shadow: none;\n",
       "  }\n",
       "\n",
       "  .colab-df-spinner {\n",
       "    border: 2px solid var(--fill-color);\n",
       "    border-color: transparent;\n",
       "    border-bottom-color: var(--fill-color);\n",
       "    animation:\n",
       "      spin 1s steps(1) infinite;\n",
       "  }\n",
       "\n",
       "  @keyframes spin {\n",
       "    0% {\n",
       "      border-color: transparent;\n",
       "      border-bottom-color: var(--fill-color);\n",
       "      border-left-color: var(--fill-color);\n",
       "    }\n",
       "    20% {\n",
       "      border-color: transparent;\n",
       "      border-left-color: var(--fill-color);\n",
       "      border-top-color: var(--fill-color);\n",
       "    }\n",
       "    30% {\n",
       "      border-color: transparent;\n",
       "      border-left-color: var(--fill-color);\n",
       "      border-top-color: var(--fill-color);\n",
       "      border-right-color: var(--fill-color);\n",
       "    }\n",
       "    40% {\n",
       "      border-color: transparent;\n",
       "      border-right-color: var(--fill-color);\n",
       "      border-top-color: var(--fill-color);\n",
       "    }\n",
       "    60% {\n",
       "      border-color: transparent;\n",
       "      border-right-color: var(--fill-color);\n",
       "    }\n",
       "    80% {\n",
       "      border-color: transparent;\n",
       "      border-right-color: var(--fill-color);\n",
       "      border-bottom-color: var(--fill-color);\n",
       "    }\n",
       "    90% {\n",
       "      border-color: transparent;\n",
       "      border-bottom-color: var(--fill-color);\n",
       "    }\n",
       "  }\n",
       "</style>\n",
       "\n",
       "  <script>\n",
       "    async function quickchart(key) {\n",
       "      const quickchartButtonEl =\n",
       "        document.querySelector('#' + key + ' button');\n",
       "      quickchartButtonEl.disabled = true;  // To prevent multiple clicks.\n",
       "      quickchartButtonEl.classList.add('colab-df-spinner');\n",
       "      try {\n",
       "        const charts = await google.colab.kernel.invokeFunction(\n",
       "            'suggestCharts', [key], {});\n",
       "      } catch (error) {\n",
       "        console.error('Error during call to suggestCharts:', error);\n",
       "      }\n",
       "      quickchartButtonEl.classList.remove('colab-df-spinner');\n",
       "      quickchartButtonEl.classList.add('colab-df-quickchart-complete');\n",
       "    }\n",
       "    (() => {\n",
       "      let quickchartButtonEl =\n",
       "        document.querySelector('#df-d0f5a028-452e-45ea-b089-c18e89488b60 button');\n",
       "      quickchartButtonEl.style.display =\n",
       "        google.colab.kernel.accessAllowed ? 'block' : 'none';\n",
       "    })();\n",
       "  </script>\n",
       "</div>\n",
       "\n",
       "  <div id=\"id_77f5f843-2c51-43cd-9966-9e3a4a539358\">\n",
       "    <style>\n",
       "      .colab-df-generate {\n",
       "        background-color: #E8F0FE;\n",
       "        border: none;\n",
       "        border-radius: 50%;\n",
       "        cursor: pointer;\n",
       "        display: none;\n",
       "        fill: #1967D2;\n",
       "        height: 32px;\n",
       "        padding: 0 0 0 0;\n",
       "        width: 32px;\n",
       "      }\n",
       "\n",
       "      .colab-df-generate:hover {\n",
       "        background-color: #E2EBFA;\n",
       "        box-shadow: 0px 1px 2px rgba(60, 64, 67, 0.3), 0px 1px 3px 1px rgba(60, 64, 67, 0.15);\n",
       "        fill: #174EA6;\n",
       "      }\n",
       "\n",
       "      [theme=dark] .colab-df-generate {\n",
       "        background-color: #3B4455;\n",
       "        fill: #D2E3FC;\n",
       "      }\n",
       "\n",
       "      [theme=dark] .colab-df-generate:hover {\n",
       "        background-color: #434B5C;\n",
       "        box-shadow: 0px 1px 3px 1px rgba(0, 0, 0, 0.15);\n",
       "        filter: drop-shadow(0px 1px 2px rgba(0, 0, 0, 0.3));\n",
       "        fill: #FFFFFF;\n",
       "      }\n",
       "    </style>\n",
       "    <button class=\"colab-df-generate\" onclick=\"generateWithVariable('data')\"\n",
       "            title=\"Generate code using this dataframe.\"\n",
       "            style=\"display:none;\">\n",
       "\n",
       "  <svg xmlns=\"http://www.w3.org/2000/svg\" height=\"24px\"viewBox=\"0 0 24 24\"\n",
       "       width=\"24px\">\n",
       "    <path d=\"M7,19H8.4L18.45,9,17,7.55,7,17.6ZM5,21V16.75L18.45,3.32a2,2,0,0,1,2.83,0l1.4,1.43a1.91,1.91,0,0,1,.58,1.4,1.91,1.91,0,0,1-.58,1.4L9.25,21ZM18.45,9,17,7.55Zm-12,3A5.31,5.31,0,0,0,4.9,8.1,5.31,5.31,0,0,0,1,6.5,5.31,5.31,0,0,0,4.9,4.9,5.31,5.31,0,0,0,6.5,1,5.31,5.31,0,0,0,8.1,4.9,5.31,5.31,0,0,0,12,6.5,5.46,5.46,0,0,0,6.5,12Z\"/>\n",
       "  </svg>\n",
       "    </button>\n",
       "    <script>\n",
       "      (() => {\n",
       "      const buttonEl =\n",
       "        document.querySelector('#id_77f5f843-2c51-43cd-9966-9e3a4a539358 button.colab-df-generate');\n",
       "      buttonEl.style.display =\n",
       "        google.colab.kernel.accessAllowed ? 'block' : 'none';\n",
       "\n",
       "      buttonEl.onclick = () => {\n",
       "        google.colab.notebook.generateWithVariable('data');\n",
       "      }\n",
       "      })();\n",
       "    </script>\n",
       "  </div>\n",
       "\n",
       "    </div>\n",
       "  </div>\n"
      ],
      "text/plain": [
       "                            id  P(click)\n",
       "0          3295858251275419735  0.817290\n",
       "1         12281702837842634283  0.928968\n",
       "2          4638380339534007785  0.917126\n",
       "3         17039804736879076347  0.398978\n",
       "4          5753064066292192109  0.472236\n",
       "...                        ...       ...\n",
       "13015336  13925888664291307582  0.666071\n",
       "13015337  16609686573956964319  0.268713\n",
       "13015338   4549134116722204000  0.333886\n",
       "13015339   2114008866308662546  0.761223\n",
       "13015340   7842936548778884133  0.834511\n",
       "\n",
       "[13015341 rows x 2 columns]"
      ]
     },
     "execution_count": 37,
     "metadata": {},
     "output_type": "execute_result"
    }
   ],
   "source": [
    "data"
   ]
  },
  {
   "cell_type": "code",
   "execution_count": 35,
   "metadata": {
    "executionInfo": {
     "elapsed": 28779,
     "status": "ok",
     "timestamp": 1702782853826,
     "user": {
      "displayName": "Aime Munezero",
      "userId": "06388141865929136468"
     },
     "user_tz": 300
    },
    "id": "1805lt-XqR4_"
   },
   "outputs": [],
   "source": [
    "data.iloc[:, 1] = data.iloc[:, 1].round(10).apply(lambda x: format(x, 'f'))\n",
    "# Write out the data in the correct format\n",
    "data.to_csv(\"/content/drive/MyDrive/Malik/ProjectSubmission-Team_malik-Output_submission.csv\", index=False, float_format='%.10f')\n"
   ]
  },
  {
   "cell_type": "code",
   "execution_count": 41,
   "metadata": {
    "executionInfo": {
     "elapsed": 100,
     "status": "ok",
     "timestamp": 1702783404626,
     "user": {
      "displayName": "Aime Munezero",
      "userId": "06388141865929136468"
     },
     "user_tz": 300
    },
    "id": "0ZxlgrD5qR7o"
   },
   "outputs": [],
   "source": []
  },
  {
   "cell_type": "code",
   "execution_count": null,
   "metadata": {
    "executionInfo": {
     "elapsed": 6,
     "status": "aborted",
     "timestamp": 1702781801762,
     "user": {
      "displayName": "Aime Munezero",
      "userId": "06388141865929136468"
     },
     "user_tz": 300
    },
    "id": "4UmSr1ykqR-_"
   },
   "outputs": [],
   "source": []
  }
 ],
 "metadata": {
  "accelerator": "TPU",
  "colab": {
   "authorship_tag": "ABX9TyMWAsn4SbmTuUOj/cE+LmPL",
   "machine_shape": "hm",
   "provenance": []
  },
  "kernelspec": {
   "display_name": "Python 3",
   "name": "python3"
  },
  "language_info": {
   "name": "python"
  }
 },
 "nbformat": 4,
 "nbformat_minor": 0
}
