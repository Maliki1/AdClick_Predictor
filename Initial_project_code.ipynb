{
 "cells": [
  {
   "cell_type": "markdown",
   "metadata": {
    "id": "LO5dFvdvDPnc"
   },
   "source": [
    "## Loading Datasets"
   ]
  },
  {
   "cell_type": "markdown",
   "metadata": {
    "id": "mv7tsWShEAo1"
   },
   "source": [
    "## Data Understanding for train dataset"
   ]
  },
  {
   "cell_type": "markdown",
   "metadata": {
    "id": "EAxoMd9cQ_mu"
   },
   "source": [
    "## Data Preparation for baseline model(s)"
   ]
  },
  {
   "cell_type": "markdown",
   "metadata": {
    "id": "AIn7a9TELlgv"
   },
   "source": [
    "## Building baseline models"
   ]
  },
  {
   "cell_type": "markdown",
   "metadata": {
    "id": "z67SFtz0O8EL"
   },
   "source": [
    "## Implementing Decision tree as a baseline model"
   ]
  },
  {
   "cell_type": "markdown",
   "metadata": {
    "id": "R6NycePITjqw"
   },
   "source": [
    "## Implementing Random Forest as a baseline model"
   ]
  },
  {
   "cell_type": "markdown",
   "metadata": {
    "id": "H24ozOH6Vu2g"
   },
   "source": [
    "## Implementing Random Forest as a baseline model"
   ]
  },
  {
   "cell_type": "markdown",
   "metadata": {
    "id": "qAVBQnnDUvLw"
   },
   "source": [
    "## Data Preparation - Feature engineering (Part 1)\n",
    "0. Do sampling data\n",
    "1. Inspect the distributions\n",
    "2. Do scaling and store it into pickle\n",
    "\n"
   ]
  },
  {
   "cell_type": "markdown",
   "metadata": {
    "id": "fAAdUJasiXhS"
   },
   "source": []
  },
  {
   "cell_type": "markdown",
   "metadata": {
    "id": "iidcGNHSTbz0"
   },
   "source": [
    "## Working with pre-proccessed data"
   ]
  },
  {
   "cell_type": "markdown",
   "metadata": {
    "id": "8h77sFlxkFjC"
   },
   "source": [
    "## Neural nets model"
   ]
  },
  {
   "cell_type": "markdown",
   "metadata": {
    "id": "YiGZXE_vkKjZ"
   },
   "source": [
    "## Random Forest model"
   ]
  },
  {
   "cell_type": "markdown",
   "metadata": {
    "id": "8PzTMfPkU_B8"
   },
   "source": [
    "Model report"
   ]
  },
  {
   "cell_type": "markdown",
   "metadata": {
    "id": "rI8Qb0jWRIKY"
   },
   "source": [
    "## XGBOOST Model for imbalance dataset"
   ]
  },
  {
   "cell_type": "markdown",
   "metadata": {
    "id": "Pwou2ie5RnsV"
   },
   "source": [
    "## XGBOOST CONFUSION MATRIX"
   ]
  },
  {
   "cell_type": "markdown",
   "metadata": {
    "id": "Zo98hQoMQeLF"
   },
   "source": [
    "## Modeling part 3 using balanced dataset"
   ]
  },
  {
   "cell_type": "markdown",
   "metadata": {
    "id": "jiEW8nNWdXim"
   },
   "source": [
    "## Done with pre-processing data for modeling part 3"
   ]
  },
  {
   "cell_type": "markdown",
   "metadata": {
    "id": "RR63jgDpg_iG"
   },
   "source": [
    "## Neural Nets model"
   ]
  },
  {
   "cell_type": "code",
   "execution_count": null,
   "metadata": {
    "id": "xa5RQ8SYE3J3"
   },
   "outputs": [],
   "source": [
    "# import packages\n",
    "import pandas as pd # Importing libraries for data manipulation\n",
    "import numpy as np # Importing libraries for data manipulation\n",
    "import os # Importing os library for operating system dependent functionality\n",
    "import matplotlib.pyplot as plt # Importing libraries for data visualization\n",
    "import seaborn as sns # Importing libraries for data visualization"
   ]
  },
  {
   "cell_type": "code",
   "execution_count": null,
   "metadata": {
    "colab": {
     "base_uri": "https://localhost:8080/"
    },
    "id": "fyyRzHsQDJd-",
    "outputId": "1dcc06a8-2c59-4a98-fc4e-1d6c7415c200"
   },
   "outputs": [
    {
     "name": "stdout",
     "output_type": "stream",
     "text": [
      "Mounted at /content/drive\n"
     ]
    }
   ],
   "source": [
    "from google.colab import drive # Importing Google Colab module for using Google Drive\n",
    "drive.mount('/content/drive')"
   ]
  },
  {
   "cell_type": "code",
   "execution_count": null,
   "metadata": {
    "id": "HrW0o5P34rOg"
   },
   "outputs": [],
   "source": [
    "# Varibales holding path to my datasets both train and test\n",
    "\n",
    "file_path_Train = '/content/drive/MyDrive/AI & ML/Final Project /ProjectTrainingData.csv'\n",
    "file_path_Test = '/content/drive/MyDrive/AI & ML/Final Project /ProjectTestData.csv'"
   ]
  },
  {
   "cell_type": "code",
   "execution_count": null,
   "metadata": {
    "id": "d_qtQ2_a4rj2"
   },
   "outputs": [],
   "source": [
    "# Loading datasets\n",
    "data_train = pd.read_csv(file_path_Train)\n",
    "data_test = pd.read_csv(file_path_Test)"
   ]
  },
  {
   "cell_type": "code",
   "execution_count": null,
   "metadata": {
    "id": "3MeuDMa55hrS"
   },
   "outputs": [],
   "source": [
    "# label encoding our datasets\n",
    "\n",
    "\n",
    "def label_encoding_on_train_test(train_df, test_df):\n",
    "    #train_df = train_df.drop('click', axis=1)\n",
    "    cat_cols = train_df.select_dtypes(include='object').columns\n",
    "\n",
    "    train_label_encoded = train_df.copy()\n",
    "    test_label_encoded = test_df.copy()\n",
    "\n",
    "    for col in cat_cols:\n",
    "        le = LabelEncoder()\n",
    "\n",
    "        # Corrected concatenation for fitting the encoder\n",
    "        # It concatenates the values of the column from both dataframes\n",
    "        le.fit(pd.concat([train_df[col], test_df[col]], ignore_index=True))\n",
    "\n",
    "        # Transform the training and test data with the fitted encoder\n",
    "        train_label_encoded[col] = le.transform(train_df[col])\n",
    "        test_label_encoded[col] = le.transform(test_df[col])\n",
    "\n",
    "    return train_label_encoded, test_label_encoded"
   ]
  },
  {
   "cell_type": "code",
   "execution_count": null,
   "metadata": {
    "id": "Lcx6bvoPC5Zk"
   },
   "outputs": [],
   "source": [
    "# Reuse the function to perform encoding\n",
    "from sklearn.preprocessing import LabelEncoder # Importing Scikit-learn modules for machine learning tasks\n",
    "train_label_encoded, test_label_encoded = label_encoding_on_train_test(data_train, data_test)"
   ]
  },
  {
   "cell_type": "code",
   "execution_count": null,
   "metadata": {
    "id": "Axeg8vFDC5xU"
   },
   "outputs": [],
   "source": [
    "# Transforming hour column in the test dataset before exporting it\n",
    "\n",
    "# Transforming hour variable\n",
    "# Convert 'hour' to datetime\n",
    "test_label_encoded['hour'] = pd.to_datetime(test_label_encoded['hour'], format='%y%m%d%H')\n",
    "\n",
    "# Create 'day_of_week' column\n",
    "test_label_encoded['day_of_week'] = test_label_encoded['hour'].dt.day_name()\n"
   ]
  },
  {
   "cell_type": "code",
   "execution_count": null,
   "metadata": {
    "id": "vH4MIMUEHra-"
   },
   "outputs": [],
   "source": [
    "# Function to categorize part of the day with numerical values\n",
    "def get_part_of_day(hour):\n",
    "    if 5 <= hour < 11:\n",
    "        return 1  # morning\n",
    "    elif 11 <= hour < 17:\n",
    "        return 2  # noon\n",
    "    elif 17 <= hour < 20:\n",
    "        return 3  # evening\n",
    "    else:\n",
    "        return 4  # night\n",
    "\n",
    "\n",
    "# Create 'part_of_day' column\n",
    "test_label_encoded['part_of_day'] = test_label_encoded['hour'].dt.hour.apply(get_part_of_day)"
   ]
  },
  {
   "cell_type": "code",
   "execution_count": null,
   "metadata": {
    "id": "gSP4KdkNIj_y"
   },
   "outputs": [],
   "source": [
    "# Label encoding day of the week column into numerical values\n",
    "\n",
    "# Sample data\n",
    "days = {'day_of_week': ['Tuesday', 'Wednesday', 'Thursday', 'Friday', 'Saturday', 'Sunday', 'Monday']}\n",
    "# Custom mapping for days of the week\n",
    "day_mapping = {'Monday': 1, 'Tuesday': 2, 'Wednesday': 3, 'Thursday': 4, 'Friday': 5, 'Saturday': 6, 'Sunday': 7}\n",
    "\n",
    "# Apply the mapping to the 'day_of_week' column\n",
    "test_label_encoded['day_of_week'] = test_label_encoded['day_of_week'].map(day_mapping)"
   ]
  },
  {
   "cell_type": "code",
   "execution_count": null,
   "metadata": {
    "colab": {
     "base_uri": "https://localhost:8080/"
    },
    "id": "Na5-5NQsKOjR",
    "outputId": "60d6d07e-d3f6-42fe-84a5-c41ab5df1369"
   },
   "outputs": [
    {
     "name": "stdout",
     "output_type": "stream",
     "text": [
      "Drive already mounted at /content/drive; to attempt to forcibly remount, call drive.mount(\"/content/drive\", force_remount=True).\n",
      "File saved to: /content/drive/MyDrive/AI & ML/Final Project /test_label_encoded.csv\n"
     ]
    }
   ],
   "source": [
    "# Saving encoded test dataset on my drive\n",
    "\n",
    "from google.colab import drive # Importing Google Colab module for using Google Drive\n",
    "import os # Importing os library for operating system dependent functionality\n",
    "\n",
    "# Mount your Google Drive\n",
    "drive.mount('/content/drive')-\n",
    "\n",
    "drive_path = '/content/drive/MyDrive/AI & ML/Final Project /'  # You can change this to a specific folder in your Drive\n",
    "file_name = 'test_label_encoded.csv'\n",
    "full_path = os.path.join(drive_path, file_name)\n",
    "\n",
    "# Convert DataFrame to a CSV file and save it in the specified path\n",
    "test_label_encoded.to_csv(full_path, index=False)\n",
    "\n",
    "print(f\"File saved to: {full_path}\")\n"
   ]
  },
  {
   "cell_type": "code",
   "execution_count": null,
   "metadata": {
    "colab": {
     "base_uri": "https://localhost:8080/"
    },
    "id": "Tx6GulcBKOtG",
    "outputId": "855b8253-e89e-4f16-fa42-1dda04b6297a"
   },
   "outputs": [
    {
     "data": {
      "text/plain": [
       "0"
      ]
     },
     "execution_count": 35,
     "metadata": {},
     "output_type": "execute_result"
    }
   ],
   "source": [
    "# To free up RAM by deleting\n",
    "\n",
    "import gc # Importing garbage collection module\n",
    "# Delete the variable\n",
    "del test_label_encoded\n",
    "# Run the garbage collector\n",
    "gc.collect()\n"
   ]
  },
  {
   "cell_type": "code",
   "execution_count": null,
   "metadata": {
    "id": "9o_Mz7I_RoAf"
   },
   "outputs": [],
   "source": [
    "# dropoing id from the train dataset\n",
    "data = train_label_encoded.drop('id', axis=1)\n"
   ]
  },
  {
   "cell_type": "code",
   "execution_count": null,
   "metadata": {
    "colab": {
     "base_uri": "https://localhost:8080/"
    },
    "id": "gsJe3m0eD6F7",
    "outputId": "7532de3f-6286-49f8-ac4f-20b89693a35f"
   },
   "outputs": [
    {
     "name": "stdout",
     "output_type": "stream",
     "text": [
      "                 id         click          hour            C1    banner_pos  \\\n",
      "count  3.199109e+07  3.199109e+07  3.199109e+07  3.199109e+07  3.199109e+07   \n",
      "mean   9.222850e+18  1.698903e-01  1.410251e+07  1.004971e+03  2.939784e-01   \n",
      "std    5.325227e+18  3.755364e-01  2.675669e+02  1.115785e+00  5.104750e-01   \n",
      "min    5.211594e+11  0.000000e+00  1.410210e+07  1.001000e+03  0.000000e+00   \n",
      "25%    4.611571e+18  0.000000e+00  1.410222e+07  1.005000e+03  0.000000e+00   \n",
      "50%    9.223074e+18  0.000000e+00  1.410251e+07  1.005000e+03  0.000000e+00   \n",
      "75%    1.383506e+19  0.000000e+00  1.410280e+07  1.005000e+03  1.000000e+00   \n",
      "max    1.844674e+19  1.000000e+00  1.410292e+07  1.012000e+03  7.000000e+00   \n",
      "\n",
      "            site_id   site_domain  site_category        app_id    app_domain  \\\n",
      "count  3.199109e+07  3.199109e+07   3.199109e+07  3.199109e+07  3.199109e+07   \n",
      "mean   2.322867e+03  5.277458e+03   1.103589e+01  7.352972e+03  2.568173e+02   \n",
      "std    1.199122e+03  1.866177e+03   9.188907e+00  2.130064e+03  9.092491e+01   \n",
      "min    0.000000e+00  0.000000e+00   0.000000e+00  0.000000e+00  0.000000e+00   \n",
      "25%    1.654000e+03  3.977000e+03   4.000000e+00  7.569000e+03  2.650000e+02   \n",
      "50%    2.546000e+03  6.124000e+03   6.000000e+00  8.433000e+03  2.650000e+02   \n",
      "75%    2.546000e+03  6.124000e+03   2.400000e+01  8.433000e+03  2.650000e+02   \n",
      "max    4.841000e+03  7.911000e+03   2.500000e+01  9.135000e+03  5.790000e+02   \n",
      "\n",
      "       ...   device_type  device_conn_type           C14           C15  \\\n",
      "count  ...  3.199109e+07      3.199109e+07  3.199109e+07  3.199109e+07   \n",
      "mean   ...  1.018130e+00      3.284549e-01  1.858369e+04  3.188418e+02   \n",
      "std    ...  5.406309e-01      8.561166e-01  4.977359e+03  2.156021e+01   \n",
      "min    ...  0.000000e+00      0.000000e+00  3.750000e+02  1.200000e+02   \n",
      "25%    ...  1.000000e+00      0.000000e+00  1.661500e+04  3.200000e+02   \n",
      "50%    ...  1.000000e+00      0.000000e+00  2.015300e+04  3.200000e+02   \n",
      "75%    ...  1.000000e+00      0.000000e+00  2.177000e+04  3.200000e+02   \n",
      "max    ...  5.000000e+00      5.000000e+00  2.383600e+04  1.024000e+03   \n",
      "\n",
      "                C16           C17           C18           C19           C20  \\\n",
      "count  3.199109e+07  3.199109e+07  3.199109e+07  3.199109e+07  3.199109e+07   \n",
      "mean   6.016075e+01  2.080636e+03  1.432229e+00  2.218796e+02  5.363977e+04   \n",
      "std    4.756263e+01  6.098611e+02  1.323205e+00  3.496583e+02  4.992806e+04   \n",
      "min    2.000000e+01  1.120000e+02  0.000000e+00  3.300000e+01 -1.000000e+00   \n",
      "25%    5.000000e+01  1.800000e+03  0.000000e+00  3.500000e+01 -1.000000e+00   \n",
      "50%    5.000000e+01  2.299000e+03  2.000000e+00  3.900000e+01  1.000550e+05   \n",
      "75%    5.000000e+01  2.506000e+03  3.000000e+00  1.690000e+02  1.000940e+05   \n",
      "max    1.024000e+03  2.729000e+03  3.000000e+00  1.959000e+03  1.002480e+05   \n",
      "\n",
      "                C21  \n",
      "count  3.199109e+07  \n",
      "mean   8.055030e+01  \n",
      "std    6.698771e+01  \n",
      "min    1.000000e+00  \n",
      "25%    2.300000e+01  \n",
      "50%    6.100000e+01  \n",
      "75%    9.100000e+01  \n",
      "max    2.530000e+02  \n",
      "\n",
      "[8 rows x 24 columns]\n"
     ]
    }
   ],
   "source": [
    "# Summary statistics for numerical features\n",
    "print(data.describe())"
   ]
  },
  {
   "cell_type": "code",
   "execution_count": null,
   "metadata": {
    "colab": {
     "base_uri": "https://localhost:8080/"
    },
    "id": "SSpIv3EVFWjr",
    "outputId": "6525127e-716d-4ae7-fba4-9965a2712c48"
   },
   "outputs": [
    {
     "data": {
      "text/plain": [
       "id                  0\n",
       "click               0\n",
       "hour                0\n",
       "C1                  0\n",
       "banner_pos          0\n",
       "site_id             0\n",
       "site_domain         0\n",
       "site_category       0\n",
       "app_id              0\n",
       "app_domain          0\n",
       "app_category        0\n",
       "device_id           0\n",
       "device_ip           0\n",
       "device_model        0\n",
       "device_type         0\n",
       "device_conn_type    0\n",
       "C14                 0\n",
       "C15                 0\n",
       "C16                 0\n",
       "C17                 0\n",
       "C18                 0\n",
       "C19                 0\n",
       "C20                 0\n",
       "C21                 0\n",
       "dtype: int64"
      ]
     },
     "execution_count": 31,
     "metadata": {},
     "output_type": "execute_result"
    }
   ],
   "source": [
    "# check missing values\n",
    "data.isna().sum()"
   ]
  },
  {
   "cell_type": "code",
   "execution_count": null,
   "metadata": {
    "colab": {
     "base_uri": "https://localhost:8080/"
    },
    "id": "c3I-vVBoFjY4",
    "outputId": "434e94be-7a2b-465e-ddaa-0456076c45a3"
   },
   "outputs": [
    {
     "data": {
      "text/plain": [
       "(31991090, 24)"
      ]
     },
     "execution_count": 9,
     "metadata": {},
     "output_type": "execute_result"
    }
   ],
   "source": [
    "# Check the number of rows and columns\n",
    "data.shape"
   ]
  },
  {
   "cell_type": "code",
   "execution_count": null,
   "metadata": {
    "colab": {
     "base_uri": "https://localhost:8080/"
    },
    "id": "5oBqof0iFpXW",
    "outputId": "1943e76a-1a13-4127-c302-285e291a397e"
   },
   "outputs": [
    {
     "data": {
      "text/plain": [
       "0    26556113\n",
       "1     5434977\n",
       "Name: click, dtype: int64"
      ]
     },
     "execution_count": 10,
     "metadata": {},
     "output_type": "execute_result"
    }
   ],
   "source": [
    "#Inspecting distribution for each class\n",
    "data['click'].value_counts()"
   ]
  },
  {
   "cell_type": "code",
   "execution_count": null,
   "metadata": {
    "colab": {
     "base_uri": "https://localhost:8080/",
     "height": 465
    },
    "id": "FRfSPoYEFy0F",
    "outputId": "a7525469-ce5b-48c5-e610-2c24ff3a12ae"
   },
   "outputs": [
    {
     "data": {
      "image/png": "[encoded data removed]",
      "text/plain": [
       "<Figure size 640x480 with 1 Axes>"
      ]
     },
     "metadata": {},
     "output_type": "display_data"
    }
   ],
   "source": [
    "# Visualize distribution for each class\n",
    "sns.countplot(x='click', data=data)\n",
    "plt.show()"
   ]
  },
  {
   "cell_type": "code",
   "execution_count": null,
   "metadata": {
    "colab": {
     "base_uri": "https://localhost:8080/"
    },
    "id": "QmhAq4_aF2lJ",
    "outputId": "4535e597-bcf8-4606-e1c2-4d6580db4600"
   },
   "outputs": [
    {
     "name": "stdout",
     "output_type": "stream",
     "text": [
      "<class 'pandas.core.frame.DataFrame'>\n",
      "RangeIndex: 31991090 entries, 0 to 31991089\n",
      "Data columns (total 24 columns):\n",
      " #   Column            Dtype  \n",
      "---  ------            -----  \n",
      " 0   id                float64\n",
      " 1   click             int64  \n",
      " 2   hour              int64  \n",
      " 3   C1                int64  \n",
      " 4   banner_pos        int64  \n",
      " 5   site_id           object \n",
      " 6   site_domain       object \n",
      " 7   site_category     object \n",
      " 8   app_id            object \n",
      " 9   app_domain        object \n",
      " 10  app_category      object \n",
      " 11  device_id         object \n",
      " 12  device_ip         object \n",
      " 13  device_model      object \n",
      " 14  device_type       int64  \n",
      " 15  device_conn_type  int64  \n",
      " 16  C14               int64  \n",
      " 17  C15               int64  \n",
      " 18  C16               int64  \n",
      " 19  C17               int64  \n",
      " 20  C18               int64  \n",
      " 21  C19               int64  \n",
      " 22  C20               int64  \n",
      " 23  C21               int64  \n",
      "dtypes: float64(1), int64(14), object(9)\n",
      "memory usage: 5.7+ GB\n"
     ]
    }
   ],
   "source": [
    "# Inspecting features data type\n",
    "data.info()"
   ]
  },
  {
   "cell_type": "code",
   "execution_count": null,
   "metadata": {
    "colab": {
     "base_uri": "https://localhost:8080/"
    },
    "id": "c9uxpaAFGB30",
    "outputId": "ad1f15ab-1b0c-4e12-9e69-63610e9e660a"
   },
   "outputs": [
    {
     "data": {
      "text/plain": [
       "1.000009e+18    1\n",
       "1.719804e+19    1\n",
       "1.719762e+19    1\n",
       "1.719757e+19    1\n",
       "1.719721e+19    1\n",
       "               ..\n",
       "1.399590e+19    1\n",
       "1.399589e+19    1\n",
       "1.399579e+19    1\n",
       "1.399562e+19    1\n",
       "9.999868e+18    1\n",
       "Name: id, Length: 31991090, dtype: int64"
      ]
     },
     "execution_count": 13,
     "metadata": {},
     "output_type": "execute_result"
    }
   ],
   "source": [
    "# inspecting the distribution for id  feature\n",
    "data['id'].value_counts()"
   ]
  },
  {
   "cell_type": "code",
   "execution_count": null,
   "metadata": {
    "colab": {
     "base_uri": "https://localhost:8080/"
    },
    "id": "Xz2_Vj0-G6T2",
    "outputId": "35fd9687-1047-439d-c448-869b4b2342a0"
   },
   "outputs": [
    {
     "data": {
      "text/plain": [
       "14102209    395537\n",
       "14102210    387116\n",
       "14102813    381861\n",
       "14102212    361069\n",
       "14102814    342052\n",
       "             ...  \n",
       "14102419     30138\n",
       "14102423     22644\n",
       "14102420     20435\n",
       "14102421     18012\n",
       "14102422     13134\n",
       "Name: hour, Length: 216, dtype: int64"
      ]
     },
     "execution_count": 14,
     "metadata": {},
     "output_type": "execute_result"
    }
   ],
   "source": [
    "# inspecting the distribution for hour  feature\n",
    "data['hour'].value_counts()"
   ]
  },
  {
   "cell_type": "code",
   "execution_count": null,
   "metadata": {
    "colab": {
     "base_uri": "https://localhost:8080/"
    },
    "id": "mDAm8XmiHQI5",
    "outputId": "a24163de-7544-4101-c50c-dff5f8286596"
   },
   "outputs": [
    {
     "data": {
      "text/plain": [
       "1005    29303261\n",
       "1002     1797703\n",
       "1010      756708\n",
       "1012       91153\n",
       "1007       29113\n",
       "1001        8121\n",
       "1008        5031\n",
       "Name: C1, dtype: int64"
      ]
     },
     "execution_count": 16,
     "metadata": {},
     "output_type": "execute_result"
    }
   ],
   "source": [
    "# inspecting the distribution for C1  feature\n",
    "data['C1'].value_counts()"
   ]
  },
  {
   "cell_type": "code",
   "execution_count": null,
   "metadata": {
    "colab": {
     "base_uri": "https://localhost:8080/"
    },
    "id": "ng3J2wWIHfPg",
    "outputId": "f7185928-685e-4eed-fac6-23c611b16c2d"
   },
   "outputs": [
    {
     "data": {
      "text/plain": [
       "0    22851592\n",
       "1     9080926\n",
       "7       35522\n",
       "2       10220\n",
       "4        6130\n",
       "5        5025\n",
       "3        1675\n",
       "Name: banner_pos, dtype: int64"
      ]
     },
     "execution_count": 17,
     "metadata": {},
     "output_type": "execute_result"
    }
   ],
   "source": [
    "# inspecting the distribution for banner_pos  feature\n",
    "data['banner_pos'].value_counts()"
   ]
  },
  {
   "cell_type": "code",
   "execution_count": null,
   "metadata": {
    "colab": {
     "base_uri": "https://localhost:8080/"
    },
    "id": "SLi94-EEH7LJ",
    "outputId": "e85ff5a0-b83d-46da-c3d8-c3421337db10"
   },
   "outputs": [
    {
     "data": {
      "text/plain": [
       "85f751fd    11170690\n",
       "1fbe01fe     5216249\n",
       "e151e245     2095395\n",
       "d9750ee7      786829\n",
       "5b08c53b      719069\n",
       "              ...   \n",
       "5ca99928           1\n",
       "b41122f3           1\n",
       "c917e7c4           1\n",
       "8ddca941           1\n",
       "2b5a3840           1\n",
       "Name: site_id, Length: 4581, dtype: int64"
      ]
     },
     "execution_count": 18,
     "metadata": {},
     "output_type": "execute_result"
    }
   ],
   "source": [
    "# inspecting the distribution for site_id  feature\n",
    "data['site_id'].value_counts()"
   ]
  },
  {
   "cell_type": "code",
   "execution_count": null,
   "metadata": {
    "colab": {
     "base_uri": "https://localhost:8080/"
    },
    "id": "UboTlNFDH-6z",
    "outputId": "b8e6a311-ed3c-4cb5-bedd-d610f05bae34"
   },
   "outputs": [
    {
     "data": {
      "text/plain": [
       "c4e18dd6    11598113\n",
       "f3845767     5216249\n",
       "7e091613     2689322\n",
       "7687a86e     1018563\n",
       "98572c79      815762\n",
       "              ...   \n",
       "2552abbe           1\n",
       "a4484b8f           1\n",
       "a5cfe271           1\n",
       "b5bb779b           1\n",
       "f5646435           1\n",
       "Name: site_domain, Length: 7341, dtype: int64"
      ]
     },
     "execution_count": 19,
     "metadata": {},
     "output_type": "execute_result"
    }
   ],
   "source": [
    "# inspecting the distribution for site_domain  feature\n",
    "data['site_domain'].value_counts()"
   ]
  },
  {
   "cell_type": "code",
   "execution_count": null,
   "metadata": {
    "colab": {
     "base_uri": "https://localhost:8080/"
    },
    "id": "ke10eOeJIBFC",
    "outputId": "2bedb479-80bc-4e36-ee66-eb3976ba95b9"
   },
   "outputs": [
    {
     "data": {
      "text/plain": [
       "50e219e0    12731910\n",
       "f028772b    10210332\n",
       "28905ebd     5952006\n",
       "3e814130     2442362\n",
       "f66779e6      212135\n",
       "75fa27f6      135240\n",
       "335d28a8      107151\n",
       "76b2941d       89924\n",
       "c0dd3be3       33689\n",
       "72722551       21084\n",
       "dedf689d       19331\n",
       "0569f928       14137\n",
       "70fb0e29       12309\n",
       "a818d37a        2674\n",
       "8fd0aea4        2082\n",
       "42a36e14        2039\n",
       "e787de0e        1080\n",
       "bcf865d9         909\n",
       "5378d028         372\n",
       "9ccfa2ea         279\n",
       "da34532e          21\n",
       "74073276          11\n",
       "110ab22d           5\n",
       "c706e647           4\n",
       "6432c423           2\n",
       "a72a0145           2\n",
       "Name: site_category, dtype: int64"
      ]
     },
     "execution_count": 20,
     "metadata": {},
     "output_type": "execute_result"
    }
   ],
   "source": [
    "# inspecting the distribution for site_category  feature\n",
    "data['site_category'].value_counts()"
   ]
  },
  {
   "cell_type": "code",
   "execution_count": null,
   "metadata": {
    "colab": {
     "base_uri": "https://localhost:8080/"
    },
    "id": "59quX44WJG-H",
    "outputId": "775647aa-8f40-4c5b-c5f2-1593ee444227"
   },
   "outputs": [
    {
     "data": {
      "text/plain": [
       "ecad2386    20820400\n",
       "92f5800b     1370822\n",
       "e2fcccd2      885029\n",
       "febd1138      597426\n",
       "7358e05e      511789\n",
       "              ...   \n",
       "ced21223           1\n",
       "50d939e1           1\n",
       "85e225ac           1\n",
       "e9238543           1\n",
       "c167b367           1\n",
       "Name: app_id, Length: 8088, dtype: int64"
      ]
     },
     "execution_count": 21,
     "metadata": {},
     "output_type": "execute_result"
    }
   ],
   "source": [
    "# inspecting the distribution for app_id  feature\n",
    "data['app_id'].value_counts()"
   ]
  },
  {
   "cell_type": "code",
   "execution_count": null,
   "metadata": {
    "colab": {
     "base_uri": "https://localhost:8080/"
    },
    "id": "_JH1IAJ8Ja9_",
    "outputId": "9b86cc77-25ef-410e-9eea-bfd0f78ef423"
   },
   "outputs": [
    {
     "data": {
      "text/plain": [
       "7801e8d9    21989338\n",
       "2347f47a     3715051\n",
       "ae637522     1637618\n",
       "5c5a694b      885193\n",
       "82e27996      597451\n",
       "              ...   \n",
       "65a98a05           1\n",
       "6dc31ecb           1\n",
       "1dc4224a           1\n",
       "2c94e6e5           1\n",
       "4f983e50           1\n",
       "Name: app_domain, Length: 526, dtype: int64"
      ]
     },
     "execution_count": 22,
     "metadata": {},
     "output_type": "execute_result"
    }
   ],
   "source": [
    "# inspecting the distribution for app_domain  feature\n",
    "data['app_domain'].value_counts()"
   ]
  },
  {
   "cell_type": "code",
   "execution_count": null,
   "metadata": {
    "colab": {
     "base_uri": "https://localhost:8080/"
    },
    "id": "-P9G8dWhJpg6",
    "outputId": "29e95897-6ca0-4fcd-cfb1-33065cb4599b"
   },
   "outputs": [
    {
     "data": {
      "text/plain": [
       "07d7df22    21101482\n",
       "0f2161f8     7487678\n",
       "cef3e649     1414688\n",
       "8ded1f7a     1020683\n",
       "f95efa07      668647\n",
       "d1327cf5      101717\n",
       "09481d60       47889\n",
       "dc97ec06       44034\n",
       "75d80bbe       32699\n",
       "fc6fa53d       19224\n",
       "4ce2e9fc       16178\n",
       "879c24eb       10319\n",
       "a3c42688        8897\n",
       "4681bb9d        5266\n",
       "0f9a328c        4702\n",
       "2281a340        1890\n",
       "a86a3e89        1824\n",
       "8df2e842        1308\n",
       "79f0b860         529\n",
       "0bfbc358         374\n",
       "a7fd01ec         302\n",
       "7113d72a         246\n",
       "18b1e0be         180\n",
       "2fc4f2aa         163\n",
       "5326cf99         112\n",
       "0d82db25          21\n",
       "4b7ade46          12\n",
       "bf8ac856           8\n",
       "71af18ce           5\n",
       "bd41f328           4\n",
       "86c1a5a3           3\n",
       "ef03ae90           2\n",
       "cba0e20d           1\n",
       "f395a87f           1\n",
       "52de74cf           1\n",
       "6fea3693           1\n",
       "Name: app_category, dtype: int64"
      ]
     },
     "execution_count": 23,
     "metadata": {},
     "output_type": "execute_result"
    }
   ],
   "source": [
    "# inspecting the distribution for app_category  feature\n",
    "data['app_category'].value_counts()"
   ]
  },
  {
   "cell_type": "code",
   "execution_count": null,
   "metadata": {
    "colab": {
     "base_uri": "https://localhost:8080/"
    },
    "id": "scpmOqrjKW3U",
    "outputId": "1dbfe6aa-9409-40ac-bd6a-18399d801c03"
   },
   "outputs": [
    {
     "data": {
      "text/plain": [
       "a99f214a    26317545\n",
       "c357dbff       17428\n",
       "936e92fb       11075\n",
       "0f7c61dc       10505\n",
       "afeffc18        7529\n",
       "              ...   \n",
       "6917d905           1\n",
       "8fd3c372           1\n",
       "7ab6a414           1\n",
       "dd2772fa           1\n",
       "8db7982b           1\n",
       "Name: device_id, Length: 2296165, dtype: int64"
      ]
     },
     "execution_count": 26,
     "metadata": {},
     "output_type": "execute_result"
    }
   ],
   "source": [
    "# inspecting the distribution for device_id  feature\n",
    "data['device_id'].value_counts()"
   ]
  },
  {
   "cell_type": "code",
   "execution_count": null,
   "metadata": {
    "colab": {
     "base_uri": "https://localhost:8080/"
    },
    "id": "3j86knuwKkkz",
    "outputId": "08ed19fc-b1f9-405f-83f2-03a146a23eaa"
   },
   "outputs": [
    {
     "data": {
      "text/plain": [
       "6b9769f2    168598\n",
       "431b3174    109122\n",
       "2f323f36     76251\n",
       "af9205f9     75657\n",
       "930ec31d     75110\n",
       "             ...  \n",
       "f0afcabe         1\n",
       "5900240c         1\n",
       "b3c0bb53         1\n",
       "455761be         1\n",
       "72797d6c         1\n",
       "Name: device_ip, Length: 5762925, dtype: int64"
      ]
     },
     "execution_count": 27,
     "metadata": {},
     "output_type": "execute_result"
    }
   ],
   "source": [
    "# inspecting the distribution for device_ip  feature\n",
    "data['device_ip'].value_counts()"
   ]
  },
  {
   "cell_type": "code",
   "execution_count": null,
   "metadata": {
    "colab": {
     "base_uri": "https://localhost:8080/"
    },
    "id": "P4fFFVGiK7MS",
    "outputId": "e7ec19bf-779d-407e-d5ff-2cdb35d318f4"
   },
   "outputs": [
    {
     "data": {
      "text/plain": [
       "8a4875bd    1956454\n",
       "1f0bc64f    1104820\n",
       "d787e91b    1095522\n",
       "76dc4769     606276\n",
       "be6db1d7     575432\n",
       "             ...   \n",
       "12d72990          1\n",
       "29ebf6d3          1\n",
       "7119aecc          1\n",
       "98689daf          1\n",
       "cf75288b          1\n",
       "Name: device_model, Length: 8058, dtype: int64"
      ]
     },
     "execution_count": 28,
     "metadata": {},
     "output_type": "execute_result"
    }
   ],
   "source": [
    "# inspecting the distribution for device_model  feature\n",
    "data['device_model'].value_counts()"
   ]
  },
  {
   "cell_type": "code",
   "execution_count": null,
   "metadata": {
    "colab": {
     "base_uri": "https://localhost:8080/"
    },
    "id": "qKpv6RTALnvQ",
    "outputId": "91bcba6a-abe2-46ba-fa14-b690270ea803"
   },
   "outputs": [
    {
     "data": {
      "text/plain": [
       "1    29436650\n",
       "0     1797703\n",
       "4      649162\n",
       "5      107546\n",
       "2          29\n",
       "Name: device_type, dtype: int64"
      ]
     },
     "execution_count": 29,
     "metadata": {},
     "output_type": "execute_result"
    }
   ],
   "source": [
    "# inspecting the distribution for device_type  feature\n",
    "data['device_type'].value_counts()"
   ]
  },
  {
   "cell_type": "code",
   "execution_count": null,
   "metadata": {
    "colab": {
     "base_uri": "https://localhost:8080/"
    },
    "id": "Ey1wvuDgMEdB",
    "outputId": "70223035-5848-4193-f491-ae91863430e7"
   },
   "outputs": [
    {
     "data": {
      "text/plain": [
       "0    27682244\n",
       "2     2490117\n",
       "3     1783125\n",
       "5       35604\n",
       "Name: device_conn_type, dtype: int64"
      ]
     },
     "execution_count": 30,
     "metadata": {},
     "output_type": "execute_result"
    }
   ],
   "source": [
    "# inspecting the distribution for device_conn_type  feature\n",
    "data['device_conn_type'].value_counts()"
   ]
  },
  {
   "cell_type": "code",
   "execution_count": null,
   "metadata": {
    "colab": {
     "base_uri": "https://localhost:8080/"
    },
    "id": "JkRXZsmCMyh9",
    "outputId": "03f4ad8f-b522-4014-b514-964433f1ee75"
   },
   "outputs": [
    {
     "data": {
      "text/plain": [
       "4687     806285\n",
       "21611    721379\n",
       "21191    674706\n",
       "21189    674684\n",
       "19771    595087\n",
       "          ...  \n",
       "22080         1\n",
       "23598         1\n",
       "23573         1\n",
       "12201         1\n",
       "23114         1\n",
       "Name: C14, Length: 2465, dtype: int64"
      ]
     },
     "execution_count": 31,
     "metadata": {},
     "output_type": "execute_result"
    }
   ],
   "source": [
    "# inspecting the distribution for C14  feature\n",
    "data['C14'].value_counts()"
   ]
  },
  {
   "cell_type": "code",
   "execution_count": null,
   "metadata": {
    "colab": {
     "base_uri": "https://localhost:8080/"
    },
    "id": "874v-K7rNNe0",
    "outputId": "6f497ef8-c6cc-4acb-d624-878273cd3b39"
   },
   "outputs": [
    {
     "data": {
      "text/plain": [
       "320     29830817\n",
       "300      1836780\n",
       "216       255596\n",
       "728        60113\n",
       "120         2699\n",
       "1024        2001\n",
       "480         1775\n",
       "768         1309\n",
       "Name: C15, dtype: int64"
      ]
     },
     "execution_count": 32,
     "metadata": {},
     "output_type": "execute_result"
    }
   ],
   "source": [
    "# inspecting the distribution for C15  feature\n",
    "data['C15'].value_counts()"
   ]
  },
  {
   "cell_type": "code",
   "execution_count": null,
   "metadata": {
    "colab": {
     "base_uri": "https://localhost:8080/"
    },
    "id": "ywPhinS_NVSu",
    "outputId": "b60c03cd-c58c-4f5f-b804-f2128c503c92"
   },
   "outputs": [
    {
     "data": {
      "text/plain": [
       "50      30150826\n",
       "250      1430844\n",
       "36        255596\n",
       "480        85927\n",
       "90         60113\n",
       "20          2699\n",
       "768         2001\n",
       "320         1775\n",
       "1024        1309\n",
       "Name: C16, dtype: int64"
      ]
     },
     "execution_count": 33,
     "metadata": {},
     "output_type": "execute_result"
    }
   ],
   "source": [
    "# inspecting the distribution for C16  feature\n",
    "data['C16'].value_counts()"
   ]
  },
  {
   "cell_type": "code",
   "execution_count": null,
   "metadata": {
    "colab": {
     "base_uri": "https://localhost:8080/"
    },
    "id": "jXB7Z9n8NcgG",
    "outputId": "dbf0440a-f8a3-4a9e-a9f0-5c12d7990f51"
   },
   "outputs": [
    {
     "data": {
      "text/plain": [
       "1722    3832113\n",
       "2424    1349401\n",
       "2227    1201434\n",
       "1800    1012963\n",
       "423      806285\n",
       "         ...   \n",
       "2718          7\n",
       "2575          7\n",
       "2567          5\n",
       "1253          2\n",
       "1516          1\n",
       "Name: C17, Length: 407, dtype: int64"
      ]
     },
     "execution_count": 34,
     "metadata": {},
     "output_type": "execute_result"
    }
   ],
   "source": [
    "# inspecting the distribution for C17  feature\n",
    "data['C17'].value_counts()"
   ]
  },
  {
   "cell_type": "code",
   "execution_count": null,
   "metadata": {
    "colab": {
     "base_uri": "https://localhost:8080/"
    },
    "id": "CjQg9XiyNx4o",
    "outputId": "dcc0cccc-3bcc-4412-ffa2-ab6d7e725e7e"
   },
   "outputs": [
    {
     "data": {
      "text/plain": [
       "0    13299431\n",
       "3    10781289\n",
       "2     5564317\n",
       "1     2346053\n",
       "Name: C18, dtype: int64"
      ]
     },
     "execution_count": 35,
     "metadata": {},
     "output_type": "execute_result"
    }
   ],
   "source": [
    "# inspecting the distribution for C18  feature\n",
    "data['C18'].value_counts()"
   ]
  },
  {
   "cell_type": "code",
   "execution_count": null,
   "metadata": {
    "colab": {
     "base_uri": "https://localhost:8080/"
    },
    "id": "9tvAKtwjN9DS",
    "outputId": "5da9eb97-cd64-4b69-d5e9-1c329181795f"
   },
   "outputs": [
    {
     "data": {
      "text/plain": [
       "35      9971481\n",
       "39      7200942\n",
       "167     2547804\n",
       "161     1381632\n",
       "47       886845\n",
       "         ...   \n",
       "1447        149\n",
       "1195        118\n",
       "545         103\n",
       "677           7\n",
       "1959          2\n",
       "Name: C19, Length: 66, dtype: int64"
      ]
     },
     "execution_count": 4,
     "metadata": {},
     "output_type": "execute_result"
    }
   ],
   "source": [
    "# inspecting the distribution for C19  feature\n",
    "data['C19'].value_counts()"
   ]
  },
  {
   "cell_type": "code",
   "execution_count": null,
   "metadata": {
    "colab": {
     "base_uri": "https://localhost:8080/"
    },
    "id": "tgEsezkUOElE",
    "outputId": "909b1c8c-f3ad-4a0e-ddac-f793753b08eb"
   },
   "outputs": [
    {
     "data": {
      "text/plain": [
       "-1         14850201\n",
       " 100084     1973548\n",
       " 100111     1424227\n",
       " 100148     1391345\n",
       " 100077     1271842\n",
       "             ...   \n",
       " 100134           4\n",
       " 100006           4\n",
       " 100187           3\n",
       " 100209           2\n",
       " 100008           2\n",
       "Name: C20, Length: 171, dtype: int64"
      ]
     },
     "execution_count": 37,
     "metadata": {},
     "output_type": "execute_result"
    }
   ],
   "source": [
    "# inspecting the distribution for C20  feature\n",
    "data['C20'].value_counts()"
   ]
  },
  {
   "cell_type": "code",
   "execution_count": null,
   "metadata": {
    "colab": {
     "base_uri": "https://localhost:8080/"
    },
    "id": "29UWksqDQGdM",
    "outputId": "5273c80c-2ebc-4e60-ee0f-8fa074f97dba"
   },
   "outputs": [
    {
     "data": {
      "text/plain": [
       "23     6944756\n",
       "79     3892320\n",
       "221    3795849\n",
       "71     1838744\n",
       "48     1788573\n",
       "157    1640576\n",
       "61     1620765\n",
       "32     1448806\n",
       "33     1184446\n",
       "52      957067\n",
       "42      873525\n",
       "15      672715\n",
       "51      552895\n",
       "212     537736\n",
       "43      510649\n",
       "117     370987\n",
       "13      328047\n",
       "156     295987\n",
       "68      284296\n",
       "16      260620\n",
       "159     256209\n",
       "95      205855\n",
       "46      198339\n",
       "69      155497\n",
       "91      145919\n",
       "111     123983\n",
       "70      113352\n",
       "90      107877\n",
       "110     107168\n",
       "204      81817\n",
       "171      76413\n",
       "17       74100\n",
       "101      65651\n",
       "112      65141\n",
       "82       57667\n",
       "100      52346\n",
       "178      44362\n",
       "182      43987\n",
       "108      41350\n",
       "35       41234\n",
       "253      26044\n",
       "251      15396\n",
       "116      13760\n",
       "194      12381\n",
       "20       11812\n",
       "94       10992\n",
       "93       10957\n",
       "126       6895\n",
       "102       6490\n",
       "163       5729\n",
       "177       4981\n",
       "195       3457\n",
       "1         2695\n",
       "219       1428\n",
       "85         447\n",
       "Name: C21, dtype: int64"
      ]
     },
     "execution_count": 38,
     "metadata": {},
     "output_type": "execute_result"
    }
   ],
   "source": [
    "# inspecting the distribution for C21  feature\n",
    "data['C21'].value_counts()"
   ]
  },
  {
   "cell_type": "code",
   "execution_count": null,
   "metadata": {
    "id": "sCOnbEnrQURm"
   },
   "outputs": [],
   "source": [
    "# prompt: give code for dropping id column\n",
    "\n",
    "data.drop('id', axis=1, inplace=True)\n"
   ]
  },
  {
   "cell_type": "code",
   "execution_count": null,
   "metadata": {
    "id": "c5ooUU4-FZJU"
   },
   "outputs": [],
   "source": [
    "# Transforming hour variable\n",
    "# Convert 'hour' to datetime\n",
    "data['hour'] = pd.to_datetime(data['hour'], format='%y%m%d%H')\n",
    "\n",
    "# Create 'day_of_week' column\n",
    "data['day_of_week'] = data['hour'].dt.day_name()\n",
    "\n",
    "# Function to categorize part of the day with numerical values\n",
    "def get_part_of_day(hour):\n",
    "    if 5 <= hour < 11:\n",
    "        return 1  # morning\n",
    "    elif 11 <= hour < 17:\n",
    "        return 2  # noon\n",
    "    elif 17 <= hour < 20:\n",
    "        return 3  # evening\n",
    "    else:\n",
    "        return 4  # night\n",
    "\n",
    "\n",
    "# Create 'part_of_day' column\n",
    "data['part_of_day'] = data['hour'].dt.hour.apply(get_part_of_day)\n",
    "\n",
    "\n"
   ]
  },
  {
   "cell_type": "code",
   "execution_count": null,
   "metadata": {
    "id": "bKy6J_t8Y_vc"
   },
   "outputs": [],
   "source": [
    "# Dropping column named hour after deriving other columns from it\n",
    "data=data.drop('hour', axis=1)"
   ]
  },
  {
   "cell_type": "code",
   "execution_count": null,
   "metadata": {
    "colab": {
     "base_uri": "https://localhost:8080/"
    },
    "id": "iifcA76yGpet",
    "outputId": "650ad430-90f4-49e4-dfed-d3ff149fcbaa"
   },
   "outputs": [
    {
     "data": {
      "text/plain": [
       "array(['Tuesday', 'Wednesday', 'Thursday', 'Friday', 'Saturday', 'Sunday',\n",
       "       'Monday'], dtype=object)"
      ]
     },
     "execution_count": 24,
     "metadata": {},
     "output_type": "execute_result"
    }
   ],
   "source": [
    "#check the unique values from column called day_of_week\n",
    "\n",
    "data['day_of_week'].unique()\n"
   ]
  },
  {
   "cell_type": "code",
   "execution_count": null,
   "metadata": {
    "id": "_js4CUr-1oCM"
   },
   "outputs": [],
   "source": [
    "# Label encoding day of the week column into numerical values\n",
    "\n",
    "# Sample data\n",
    "days = {'day_of_week': ['Tuesday', 'Wednesday', 'Thursday', 'Friday', 'Saturday', 'Sunday', 'Monday']}\n",
    "# Custom mapping for days of the week\n",
    "day_mapping = {'Monday': 1, 'Tuesday': 2, 'Wednesday': 3, 'Thursday': 4, 'Friday': 5, 'Saturday': 6, 'Sunday': 7}\n",
    "\n",
    "# Apply the mapping to the 'day_of_week' column\n",
    "data['day_of_week'] = data['day_of_week'].map(day_mapping)\n"
   ]
  },
  {
   "cell_type": "code",
   "execution_count": null,
   "metadata": {
    "colab": {
     "base_uri": "https://localhost:8080/"
    },
    "id": "YOtTTRr1KiF-",
    "outputId": "1599e725-1f7b-4b42-81ee-3e0f2acb029a"
   },
   "outputs": [
    {
     "name": "stdout",
     "output_type": "stream",
     "text": [
      "<class 'pandas.core.frame.DataFrame'>\n",
      "RangeIndex: 31991090 entries, 0 to 31991089\n",
      "Data columns (total 24 columns):\n",
      " #   Column            Dtype\n",
      "---  ------            -----\n",
      " 0   C1                int64\n",
      " 1   banner_pos        int64\n",
      " 2   site_id           int64\n",
      " 3   site_domain       int64\n",
      " 4   site_category     int64\n",
      " 5   app_id            int64\n",
      " 6   app_domain        int64\n",
      " 7   app_category      int64\n",
      " 8   device_id         int64\n",
      " 9   device_ip         int64\n",
      " 10  device_model      int64\n",
      " 11  device_type       int64\n",
      " 12  device_conn_type  int64\n",
      " 13  C14               int64\n",
      " 14  C15               int64\n",
      " 15  C16               int64\n",
      " 16  C17               int64\n",
      " 17  C18               int64\n",
      " 18  C19               int64\n",
      " 19  C20               int64\n",
      " 20  C21               int64\n",
      " 21  click             int64\n",
      " 22  day_of_week       int64\n",
      " 23  part_of_day       int64\n",
      "dtypes: int64(24)\n",
      "memory usage: 5.7 GB\n"
     ]
    }
   ],
   "source": [
    "data.info()"
   ]
  },
  {
   "cell_type": "code",
   "execution_count": null,
   "metadata": {
    "id": "h-UFqo5w1oOf"
   },
   "outputs": [],
   "source": [
    "# Sampling only 1,000,000 obervations for baseline modeling\n",
    "reduced_data = data.sample(n=1000000, random_state=42)"
   ]
  },
  {
   "cell_type": "code",
   "execution_count": null,
   "metadata": {
    "colab": {
     "base_uri": "https://localhost:8080/"
    },
    "id": "OfFZWmf71oRC",
    "outputId": "919b1132-7bc4-486c-b04f-e7d2e4db677b"
   },
   "outputs": [
    {
     "name": "stdout",
     "output_type": "stream",
     "text": [
      "Accuracy of the Decision Tree model: 0.75\n",
      "F1 Score of the Decision Tree model: 0.28\n",
      "Log Loss of the Decision Tree model: 8.91\n"
     ]
    }
   ],
   "source": [
    "import pandas as pd # Importing libraries for data manipulation\n",
    "from sklearn.model_selection import train_test_split # Importing Scikit-learn modules for machine learning tasks\n",
    "from sklearn.tree import DecisionTreeClassifier # Importing Scikit-learn modules for machine learning tasks\n",
    "from sklearn.metrics import accuracy_score, f1_score, log_loss # Importing Scikit-learn modules for machine learning tasks\n",
    "\n",
    "\n",
    "# Separate the features and the target variable\n",
    "X = reduced_data.drop('click', axis=1)  # Features\n",
    "y = reduced_data['click']  # Target variable\n",
    "\n",
    "# Split the data into training and testing sets\n",
    "X_train, X_test, y_train, y_test = train_test_split(X, y, test_size=0.3, random_state=42)\n",
    "\n",
    "# Create the Decision Tree model\n",
    "decision_tree_model = DecisionTreeClassifier()\n",
    "\n",
    "# Train the model\n",
    "decision_tree_model.fit(X_train, y_train)\n",
    "\n",
    "# Predict on the test data\n",
    "y_pred = decision_tree_model.predict(X_test)\n",
    "y_pred_proba = decision_tree_model.predict_proba(X_test)\n",
    "\n",
    "# Evaluate the model using accuracy\n",
    "accuracy = accuracy_score(y_test, y_pred)\n",
    "print(f\"Accuracy of the Decision Tree model: {accuracy:.2f}\")\n",
    "\n",
    "# Evaluate the model using F1 score\n",
    "f1_tree = f1_score(y_test, y_pred)\n",
    "print(f\"F1 Score of the Decision Tree model: {f1_tree:.2f}\")\n",
    "\n",
    "# Evaluate the model using Log Loss\n",
    "logloss = log_loss(y_test, y_pred_proba)\n",
    "\n",
    "print(f\"Log Loss of the Decision Tree model: {logloss:.2f}\")\n",
    "\n"
   ]
  },
  {
   "cell_type": "code",
   "execution_count": null,
   "metadata": {
    "colab": {
     "base_uri": "https://localhost:8080/"
    },
    "id": "F9Qt74jKQcr7",
    "outputId": "ce216ffe-2f1e-4c15-cfb6-2621a57ac2f2"
   },
   "outputs": [
    {
     "name": "stdout",
     "output_type": "stream",
     "text": [
      "Accuracy of the Random Forest model: 0.81\n",
      "F1 Score of the Random Forest model: 0.22\n",
      "Log Loss of the Random Forest model: 0.58\n"
     ]
    }
   ],
   "source": [
    "import pandas as pd # Importing libraries for data manipulation\n",
    "from sklearn.model_selection import train_test_split # Importing Scikit-learn modules for machine learning tasks\n",
    "from sklearn.ensemble import RandomForestClassifier # Importing Scikit-learn modules for machine learning tasks\n",
    "from sklearn.metrics import accuracy_score, f1_score, log_loss # Importing Scikit-learn modules for machine learning tasks\n",
    "\n",
    "\n",
    "\n",
    "# Split the data into training and testing sets\n",
    "X_train, X_test, y_train, y_test = train_test_split(X, y, test_size=0.3, random_state=42)\n",
    "\n",
    "# Create the Random Forest model\n",
    "random_forest_model = RandomForestClassifier()\n",
    "\n",
    "# Train the model\n",
    "random_forest_model.fit(X_train, y_train)\n",
    "\n",
    "# Predict on the test data\n",
    "y_pred = random_forest_model.predict(X_test)\n",
    "y_pred_proba = random_forest_model.predict_proba(X_test)\n",
    "\n",
    "# Evaluate the model using accuracy\n",
    "accuracy = accuracy_score(y_test, y_pred)\n",
    "print(f\"Accuracy of the Random Forest model: {accuracy:.2f}\")\n",
    "\n",
    "# Evaluate the model using F1 score\n",
    "f1_random_forest = f1_score(y_test, y_pred)\n",
    "print(f\"F1 Score of the Random Forest model: {f1_random_forest:.2f}\")\n",
    "\n",
    "# Evaluate the model using Log Loss\n",
    "logloss = log_loss(y_test, y_pred_proba)\n",
    "print(f\"Log Loss of the Random Forest model: {logloss:.2f}\")\n"
   ]
  },
  {
   "cell_type": "code",
   "execution_count": null,
   "metadata": {
    "colab": {
     "base_uri": "https://localhost:8080/"
    },
    "id": "TGVgiPI2VtGj",
    "outputId": "88890fdd-cf70-41ef-86a6-794d2089101e"
   },
   "outputs": [
    {
     "name": "stdout",
     "output_type": "stream",
     "text": [
      "Accuracy of the Logistic Regression model: 0.83\n",
      "F1 Score of the Logistic Regression model: 0.00\n",
      "Log Loss of the Logistic Regression model: 0.45\n"
     ]
    }
   ],
   "source": [
    "import pandas as pd # Importing libraries for data manipulation\n",
    "from sklearn.model_selection import train_test_split # Importing Scikit-learn modules for machine learning tasks\n",
    "from sklearn.linear_model import LogisticRegression # Importing Scikit-learn modules for machine learning tasks\n",
    "from sklearn.metrics import accuracy_score, f1_score, log_loss # Importing Scikit-learn modules for machine learning tasks\n",
    "\n",
    "# Split the data into training and testing sets\n",
    "X_train, X_test, y_train, y_test = train_test_split(X, y, test_size=0.3, random_state=42)\n",
    "\n",
    "# Create the Logistic Regression model\n",
    "logistic_regression_model = LogisticRegression()\n",
    "\n",
    "# Train the model\n",
    "logistic_regression_model.fit(X_train, y_train)\n",
    "\n",
    "# Predict on the test data\n",
    "y_pred = logistic_regression_model.predict(X_test)\n",
    "y_pred_proba = logistic_regression_model.predict_proba(X_test)\n",
    "\n",
    "# Evaluate the model using accuracy\n",
    "accuracy = accuracy_score(y_test, y_pred)\n",
    "print(f\"Accuracy of the Logistic Regression model: {accuracy:.2f}\")\n",
    "\n",
    "# Evaluate the model using F1 score\n",
    "f1_logistic_regression = f1_score(y_test, y_pred)\n",
    "print(f\"F1 Score of the Logistic Regression model: {f1_logistic_regression:.2f}\")\n",
    "\n",
    "# Evaluate the model using Log Loss\n",
    "logloss = log_loss(y_test, y_pred_proba)\n",
    "print(f\"Log Loss of the Logistic Regression model: {logloss:.2f}\")\n"
   ]
  },
  {
   "cell_type": "code",
   "execution_count": null,
   "metadata": {
    "id": "ORbeB4Mw1oUx"
   },
   "outputs": [],
   "source": [
    "# Sampling only 5,000,000 obervations for part two of modeling\n",
    "reduced_data_2 = data.sample(n=5000000, random_state=42)"
   ]
  },
  {
   "cell_type": "code",
   "execution_count": null,
   "metadata": {
    "colab": {
     "base_uri": "https://localhost:8080/",
     "height": 526
    },
    "id": "oHC94BLHUjr9",
    "outputId": "1c19c26a-e7e4-4d93-8345-17c3b0d10a33"
   },
   "outputs": [
    {
     "data": {
      "image/png": "[encoded data removed]",
      "text/plain": [
       "<Figure size 2500x1500 with 2 Axes>"
      ]
     },
     "metadata": {},
     "output_type": "display_data"
    }
   ],
   "source": [
    "# Create a correlation matrix for the features\n",
    "corr_matrix = reduced_data_2.corr()\n",
    "\n",
    "# Display the correlation matrix\n",
    "plt.figure(figsize=(25, 15))\n",
    "sns.heatmap(corr_matrix, annot=True)\n",
    "plt.title('Correlation Matrix for Features')\n",
    "plt.show()\n"
   ]
  },
  {
   "cell_type": "code",
   "execution_count": null,
   "metadata": {
    "colab": {
     "base_uri": "https://localhost:8080/",
     "height": 555
    },
    "id": "18niMNpXUj1K",
    "outputId": "65305aeb-025b-4d7a-f6fa-04eb8e887d9e"
   },
   "outputs": [
    {
     "data": {
      "image/png": "[encoded data removed]",
      "text/plain": [
       "<Figure size 1000x800 with 1 Axes>"
      ]
     },
     "metadata": {},
     "output_type": "display_data"
    }
   ],
   "source": [
    "# Find the feature importance\n",
    "\n",
    "\n",
    "import pandas as pd # Importing libraries for data manipulation\n",
    "import matplotlib.pyplot as plt # Importing libraries for data visualization\n",
    "from sklearn.ensemble import RandomForestClassifier # Importing Scikit-learn modules for machine learning tasks\n",
    "from sklearn.model_selection import train_test_split # Importing Scikit-learn modules for machine learning tasks\n",
    "\n",
    "# Assuming df is your DataFrame\n",
    "# Splitting the data into features and target\n",
    "X = reduced_data_2.drop('click', axis=1)\n",
    "y = reduced_data_2['click']\n",
    "\n",
    "# Splitting the dataset into the Training set and Test set\n",
    "X_train, X_test, y_train, y_test = train_test_split(X, y, test_size=0.2, random_state=42)\n",
    "\n",
    "# Create a Random Forest Classifier\n",
    "rf = RandomForestClassifier(n_estimators=100, random_state=42)\n",
    "\n",
    "# Train the model\n",
    "rf.fit(X_train, y_train)\n",
    "\n",
    "# Get feature importances\n",
    "importances = rf.feature_importances_\n",
    "\n",
    "# Convert the importances into a DataFrame\n",
    "feature_importances = pd.DataFrame({'Feature': X.columns, 'Importance': importances})\n",
    "\n",
    "# Sort the DataFrame by importance\n",
    "feature_importances = feature_importances.sort_values(by='Importance', ascending=False)\n",
    "\n",
    "# Visualize the feature importances\n",
    "plt.figure(figsize=(10, 8))\n",
    "plt.barh(feature_importances['Feature'], feature_importances['Importance'])\n",
    "plt.xlabel('Importance')\n",
    "plt.ylabel('Feature')\n",
    "plt.title('Feature Importances')\n",
    "plt.gca().invert_yaxis()  # To display the highest importance at the top\n",
    "plt.show()\n"
   ]
  },
  {
   "cell_type": "code",
   "execution_count": null,
   "metadata": {
    "id": "YyekLaxyUj4f"
   },
   "outputs": [],
   "source": [
    "# code to select the first 15 columns with higher feature importance from the above and save data to drive\n",
    "\n",
    "top_features = feature_importances.head(16)\n",
    "\n"
   ]
  },
  {
   "cell_type": "code",
   "execution_count": null,
   "metadata": {
    "colab": {
     "base_uri": "https://localhost:8080/",
     "height": 551
    },
    "id": "1L-XKmUjUj7O",
    "outputId": "9f808c17-6f36-4ec8-c334-affcd11c0943"
   },
   "outputs": [
    {
     "data": {
      "text/html": [
       "\n",
       "  <div id=\"df-fd594f09-5269-41b7-a34f-ece54dca535e\" class=\"colab-df-container\">\n",
       "    <div>\n",
       "<style scoped>\n",
       "    .dataframe tbody tr th:only-of-type {\n",
       "        vertical-align: middle;\n",
       "    }\n",
       "\n",
       "    .dataframe tbody tr th {\n",
       "        vertical-align: top;\n",
       "    }\n",
       "\n",
       "    .dataframe thead th {\n",
       "        text-align: right;\n",
       "    }\n",
       "</style>\n",
       "<table border=\"1\" class=\"dataframe\">\n",
       "  <thead>\n",
       "    <tr style=\"text-align: right;\">\n",
       "      <th></th>\n",
       "      <th>Feature</th>\n",
       "      <th>Importance</th>\n",
       "    </tr>\n",
       "  </thead>\n",
       "  <tbody>\n",
       "    <tr>\n",
       "      <th>9</th>\n",
       "      <td>device_ip</td>\n",
       "      <td>0.458917</td>\n",
       "    </tr>\n",
       "    <tr>\n",
       "      <th>10</th>\n",
       "      <td>device_model</td>\n",
       "      <td>0.195553</td>\n",
       "    </tr>\n",
       "    <tr>\n",
       "      <th>13</th>\n",
       "      <td>C14</td>\n",
       "      <td>0.055404</td>\n",
       "    </tr>\n",
       "    <tr>\n",
       "      <th>8</th>\n",
       "      <td>device_id</td>\n",
       "      <td>0.042226</td>\n",
       "    </tr>\n",
       "    <tr>\n",
       "      <th>21</th>\n",
       "      <td>day_of_week</td>\n",
       "      <td>0.038511</td>\n",
       "    </tr>\n",
       "    <tr>\n",
       "      <th>19</th>\n",
       "      <td>C20</td>\n",
       "      <td>0.031470</td>\n",
       "    </tr>\n",
       "    <tr>\n",
       "      <th>22</th>\n",
       "      <td>part_of_day</td>\n",
       "      <td>0.028247</td>\n",
       "    </tr>\n",
       "    <tr>\n",
       "      <th>2</th>\n",
       "      <td>site_id</td>\n",
       "      <td>0.027814</td>\n",
       "    </tr>\n",
       "    <tr>\n",
       "      <th>3</th>\n",
       "      <td>site_domain</td>\n",
       "      <td>0.023419</td>\n",
       "    </tr>\n",
       "    <tr>\n",
       "      <th>20</th>\n",
       "      <td>C21</td>\n",
       "      <td>0.014093</td>\n",
       "    </tr>\n",
       "    <tr>\n",
       "      <th>5</th>\n",
       "      <td>app_id</td>\n",
       "      <td>0.013456</td>\n",
       "    </tr>\n",
       "    <tr>\n",
       "      <th>16</th>\n",
       "      <td>C17</td>\n",
       "      <td>0.011391</td>\n",
       "    </tr>\n",
       "    <tr>\n",
       "      <th>15</th>\n",
       "      <td>C16</td>\n",
       "      <td>0.009159</td>\n",
       "    </tr>\n",
       "    <tr>\n",
       "      <th>4</th>\n",
       "      <td>site_category</td>\n",
       "      <td>0.008021</td>\n",
       "    </tr>\n",
       "    <tr>\n",
       "      <th>18</th>\n",
       "      <td>C19</td>\n",
       "      <td>0.007848</td>\n",
       "    </tr>\n",
       "    <tr>\n",
       "      <th>14</th>\n",
       "      <td>C15</td>\n",
       "      <td>0.006582</td>\n",
       "    </tr>\n",
       "  </tbody>\n",
       "</table>\n",
       "</div>\n",
       "    <div class=\"colab-df-buttons\">\n",
       "\n",
       "  <div class=\"colab-df-container\">\n",
       "    <button class=\"colab-df-convert\" onclick=\"convertToInteractive('df-fd594f09-5269-41b7-a34f-ece54dca535e')\"\n",
       "            title=\"Convert this dataframe to an interactive table.\"\n",
       "            style=\"display:none;\">\n",
       "\n",
       "  <svg xmlns=\"http://www.w3.org/2000/svg\" height=\"24px\" viewBox=\"0 -960 960 960\">\n",
       "    <path d=\"M120-120v-720h720v720H120Zm60-500h600v-160H180v160Zm220 220h160v-160H400v160Zm0 220h160v-160H400v160ZM180-400h160v-160H180v160Zm440 0h160v-160H620v160ZM180-180h160v-160H180v160Zm440 0h160v-160H620v160Z\"/>\n",
       "  </svg>\n",
       "    </button>\n",
       "\n",
       "  <style>\n",
       "    .colab-df-container {\n",
       "      display:flex;\n",
       "      gap: 12px;\n",
       "    }\n",
       "\n",
       "    .colab-df-convert {\n",
       "      background-color: #E8F0FE;\n",
       "      border: none;\n",
       "      border-radius: 50%;\n",
       "      cursor: pointer;\n",
       "      display: none;\n",
       "      fill: #1967D2;\n",
       "      height: 32px;\n",
       "      padding: 0 0 0 0;\n",
       "      width: 32px;\n",
       "    }\n",
       "\n",
       "    .colab-df-convert:hover {\n",
       "      background-color: #E2EBFA;\n",
       "      box-shadow: 0px 1px 2px rgba(60, 64, 67, 0.3), 0px 1px 3px 1px rgba(60, 64, 67, 0.15);\n",
       "      fill: #174EA6;\n",
       "    }\n",
       "\n",
       "    .colab-df-buttons div {\n",
       "      margin-bottom: 4px;\n",
       "    }\n",
       "\n",
       "    [theme=dark] .colab-df-convert {\n",
       "      background-color: #3B4455;\n",
       "      fill: #D2E3FC;\n",
       "    }\n",
       "\n",
       "    [theme=dark] .colab-df-convert:hover {\n",
       "      background-color: #434B5C;\n",
       "      box-shadow: 0px 1px 3px 1px rgba(0, 0, 0, 0.15);\n",
       "      filter: drop-shadow(0px 1px 2px rgba(0, 0, 0, 0.3));\n",
       "      fill: #FFFFFF;\n",
       "    }\n",
       "  </style>\n",
       "\n",
       "    <script>\n",
       "      const buttonEl =\n",
       "        document.querySelector('#df-fd594f09-5269-41b7-a34f-ece54dca535e button.colab-df-convert');\n",
       "      buttonEl.style.display =\n",
       "        google.colab.kernel.accessAllowed ? 'block' : 'none';\n",
       "\n",
       "      async function convertToInteractive(key) {\n",
       "        const element = document.querySelector('#df-fd594f09-5269-41b7-a34f-ece54dca535e');\n",
       "        const dataTable =\n",
       "          await google.colab.kernel.invokeFunction('convertToInteractive',\n",
       "                                                    [key], {});\n",
       "        if (!dataTable) return;\n",
       "\n",
       "        const docLinkHtml = 'Like what you see? Visit the ' +\n",
       "          '<a target=\"_blank\" href=https://colab.research.google.com/notebooks/data_table.ipynb>data table notebook</a>'\n",
       "          + ' to learn more about interactive tables.';\n",
       "        element.innerHTML = '';\n",
       "        dataTable['output_type'] = 'display_data';\n",
       "        await google.colab.output.renderOutput(dataTable, element);\n",
       "        const docLink = document.createElement('div');\n",
       "        docLink.innerHTML = docLinkHtml;\n",
       "        element.appendChild(docLink);\n",
       "      }\n",
       "    </script>\n",
       "  </div>\n",
       "\n",
       "\n",
       "<div id=\"df-359b9e56-291d-4aed-8f29-dc74d21060a1\">\n",
       "  <button class=\"colab-df-quickchart\" onclick=\"quickchart('df-359b9e56-291d-4aed-8f29-dc74d21060a1')\"\n",
       "            title=\"Suggest charts\"\n",
       "            style=\"display:none;\">\n",
       "\n",
       "<svg xmlns=\"http://www.w3.org/2000/svg\" height=\"24px\"viewBox=\"0 0 24 24\"\n",
       "     width=\"24px\">\n",
       "    <g>\n",
       "        <path d=\"M19 3H5c-1.1 0-2 .9-2 2v14c0 1.1.9 2 2 2h14c1.1 0 2-.9 2-2V5c0-1.1-.9-2-2-2zM9 17H7v-7h2v7zm4 0h-2V7h2v10zm4 0h-2v-4h2v4z\"/>\n",
       "    </g>\n",
       "</svg>\n",
       "  </button>\n",
       "\n",
       "<style>\n",
       "  .colab-df-quickchart {\n",
       "      --bg-color: #E8F0FE;\n",
       "      --fill-color: #1967D2;\n",
       "      --hover-bg-color: #E2EBFA;\n",
       "      --hover-fill-color: #174EA6;\n",
       "      --disabled-fill-color: #AAA;\n",
       "      --disabled-bg-color: #DDD;\n",
       "  }\n",
       "\n",
       "  [theme=dark] .colab-df-quickchart {\n",
       "      --bg-color: #3B4455;\n",
       "      --fill-color: #D2E3FC;\n",
       "      --hover-bg-color: #434B5C;\n",
       "      --hover-fill-color: #FFFFFF;\n",
       "      --disabled-bg-color: #3B4455;\n",
       "      --disabled-fill-color: #666;\n",
       "  }\n",
       "\n",
       "  .colab-df-quickchart {\n",
       "    background-color: var(--bg-color);\n",
       "    border: none;\n",
       "    border-radius: 50%;\n",
       "    cursor: pointer;\n",
       "    display: none;\n",
       "    fill: var(--fill-color);\n",
       "    height: 32px;\n",
       "    padding: 0;\n",
       "    width: 32px;\n",
       "  }\n",
       "\n",
       "  .colab-df-quickchart:hover {\n",
       "    background-color: var(--hover-bg-color);\n",
       "    box-shadow: 0 1px 2px rgba(60, 64, 67, 0.3), 0 1px 3px 1px rgba(60, 64, 67, 0.15);\n",
       "    fill: var(--button-hover-fill-color);\n",
       "  }\n",
       "\n",
       "  .colab-df-quickchart-complete:disabled,\n",
       "  .colab-df-quickchart-complete:disabled:hover {\n",
       "    background-color: var(--disabled-bg-color);\n",
       "    fill: var(--disabled-fill-color);\n",
       "    box-shadow: none;\n",
       "  }\n",
       "\n",
       "  .colab-df-spinner {\n",
       "    border: 2px solid var(--fill-color);\n",
       "    border-color: transparent;\n",
       "    border-bottom-color: var(--fill-color);\n",
       "    animation:\n",
       "      spin 1s steps(1) infinite;\n",
       "  }\n",
       "\n",
       "  @keyframes spin {\n",
       "    0% {\n",
       "      border-color: transparent;\n",
       "      border-bottom-color: var(--fill-color);\n",
       "      border-left-color: var(--fill-color);\n",
       "    }\n",
       "    20% {\n",
       "      border-color: transparent;\n",
       "      border-left-color: var(--fill-color);\n",
       "      border-top-color: var(--fill-color);\n",
       "    }\n",
       "    30% {\n",
       "      border-color: transparent;\n",
       "      border-left-color: var(--fill-color);\n",
       "      border-top-color: var(--fill-color);\n",
       "      border-right-color: var(--fill-color);\n",
       "    }\n",
       "    40% {\n",
       "      border-color: transparent;\n",
       "      border-right-color: var(--fill-color);\n",
       "      border-top-color: var(--fill-color);\n",
       "    }\n",
       "    60% {\n",
       "      border-color: transparent;\n",
       "      border-right-color: var(--fill-color);\n",
       "    }\n",
       "    80% {\n",
       "      border-color: transparent;\n",
       "      border-right-color: var(--fill-color);\n",
       "      border-bottom-color: var(--fill-color);\n",
       "    }\n",
       "    90% {\n",
       "      border-color: transparent;\n",
       "      border-bottom-color: var(--fill-color);\n",
       "    }\n",
       "  }\n",
       "</style>\n",
       "\n",
       "  <script>\n",
       "    async function quickchart(key) {\n",
       "      const quickchartButtonEl =\n",
       "        document.querySelector('#' + key + ' button');\n",
       "      quickchartButtonEl.disabled = true;  // To prevent multiple clicks.\n",
       "      quickchartButtonEl.classList.add('colab-df-spinner');\n",
       "      try {\n",
       "        const charts = await google.colab.kernel.invokeFunction(\n",
       "            'suggestCharts', [key], {});\n",
       "      } catch (error) {\n",
       "        console.error('Error during call to suggestCharts:', error);\n",
       "      }\n",
       "      quickchartButtonEl.classList.remove('colab-df-spinner');\n",
       "      quickchartButtonEl.classList.add('colab-df-quickchart-complete');\n",
       "    }\n",
       "    (() => {\n",
       "      let quickchartButtonEl =\n",
       "        document.querySelector('#df-359b9e56-291d-4aed-8f29-dc74d21060a1 button');\n",
       "      quickchartButtonEl.style.display =\n",
       "        google.colab.kernel.accessAllowed ? 'block' : 'none';\n",
       "    })();\n",
       "  </script>\n",
       "</div>\n",
       "\n",
       "  <div id=\"id_05a03c3f-3944-4f9b-ad4b-5bc35ec2f7dd\">\n",
       "    <style>\n",
       "      .colab-df-generate {\n",
       "        background-color: #E8F0FE;\n",
       "        border: none;\n",
       "        border-radius: 50%;\n",
       "        cursor: pointer;\n",
       "        display: none;\n",
       "        fill: #1967D2;\n",
       "        height: 32px;\n",
       "        padding: 0 0 0 0;\n",
       "        width: 32px;\n",
       "      }\n",
       "\n",
       "      .colab-df-generate:hover {\n",
       "        background-color: #E2EBFA;\n",
       "        box-shadow: 0px 1px 2px rgba(60, 64, 67, 0.3), 0px 1px 3px 1px rgba(60, 64, 67, 0.15);\n",
       "        fill: #174EA6;\n",
       "      }\n",
       "\n",
       "      [theme=dark] .colab-df-generate {\n",
       "        background-color: #3B4455;\n",
       "        fill: #D2E3FC;\n",
       "      }\n",
       "\n",
       "      [theme=dark] .colab-df-generate:hover {\n",
       "        background-color: #434B5C;\n",
       "        box-shadow: 0px 1px 3px 1px rgba(0, 0, 0, 0.15);\n",
       "        filter: drop-shadow(0px 1px 2px rgba(0, 0, 0, 0.3));\n",
       "        fill: #FFFFFF;\n",
       "      }\n",
       "    </style>\n",
       "    <button class=\"colab-df-generate\" onclick=\"generateWithVariable('top_features')\"\n",
       "            title=\"Generate code using this dataframe.\"\n",
       "            style=\"display:none;\">\n",
       "\n",
       "  <svg xmlns=\"http://www.w3.org/2000/svg\" height=\"24px\"viewBox=\"0 0 24 24\"\n",
       "       width=\"24px\">\n",
       "    <path d=\"M7,19H8.4L18.45,9,17,7.55,7,17.6ZM5,21V16.75L18.45,3.32a2,2,0,0,1,2.83,0l1.4,1.43a1.91,1.91,0,0,1,.58,1.4,1.91,1.91,0,0,1-.58,1.4L9.25,21ZM18.45,9,17,7.55Zm-12,3A5.31,5.31,0,0,0,4.9,8.1,5.31,5.31,0,0,0,1,6.5,5.31,5.31,0,0,0,4.9,4.9,5.31,5.31,0,0,0,6.5,1,5.31,5.31,0,0,0,8.1,4.9,5.31,5.31,0,0,0,12,6.5,5.46,5.46,0,0,0,6.5,12Z\"/>\n",
       "  </svg>\n",
       "    </button>\n",
       "    <script>\n",
       "      (() => {\n",
       "      const buttonEl =\n",
       "        document.querySelector('#id_05a03c3f-3944-4f9b-ad4b-5bc35ec2f7dd button.colab-df-generate');\n",
       "      buttonEl.style.display =\n",
       "        google.colab.kernel.accessAllowed ? 'block' : 'none';\n",
       "\n",
       "      buttonEl.onclick = () => {\n",
       "        google.colab.notebook.generateWithVariable('top_features');\n",
       "      }\n",
       "      })();\n",
       "    </script>\n",
       "  </div>\n",
       "\n",
       "    </div>\n",
       "  </div>\n"
      ],
      "text/plain": [
       "          Feature  Importance\n",
       "9       device_ip    0.458917\n",
       "10   device_model    0.195553\n",
       "13            C14    0.055404\n",
       "8       device_id    0.042226\n",
       "21    day_of_week    0.038511\n",
       "19            C20    0.031470\n",
       "22    part_of_day    0.028247\n",
       "2         site_id    0.027814\n",
       "3     site_domain    0.023419\n",
       "20            C21    0.014093\n",
       "5          app_id    0.013456\n",
       "16            C17    0.011391\n",
       "15            C16    0.009159\n",
       "4   site_category    0.008021\n",
       "18            C19    0.007848\n",
       "14            C15    0.006582"
      ]
     },
     "execution_count": 31,
     "metadata": {},
     "output_type": "execute_result"
    }
   ],
   "source": [
    "top_features"
   ]
  },
  {
   "cell_type": "code",
   "execution_count": null,
   "metadata": {
    "id": "A9F0S-l9dWp1"
   },
   "outputs": [],
   "source": [
    "# Define the column names I want to select from the 'reduced_data_2' DataFrame\n",
    "selected_columns = [\n",
    "    'device_ip', 'device_model', 'C14', 'device_id', 'day_of_week', 'C20',\n",
    "    'part_of_day', 'site_id', 'site_domain', 'C21', 'app_id', 'C16',\n",
    "    'site_category', 'C19', 'C15', 'click' # 'C17' is excluded since it is too correlated to column  C14\n",
    "]\n",
    "\n",
    "# Select only the specified columns from 'reduced_data_2'\n",
    "selected_data = reduced_data_2[selected_columns]\n",
    "\n"
   ]
  },
  {
   "cell_type": "code",
   "execution_count": null,
   "metadata": {
    "colab": {
     "base_uri": "https://localhost:8080/"
    },
    "id": "Fo3vjvOadX5H",
    "outputId": "38e02e6f-8c07-49d4-9e80-386688a697b4"
   },
   "outputs": [
    {
     "name": "stdout",
     "output_type": "stream",
     "text": [
      "Drive already mounted at /content/drive; to attempt to forcibly remount, call drive.mount(\"/content/drive\", force_remount=True).\n",
      "File saved to: /content/drive/MyDrive/AI & ML/Final Project /pre_processed_train_data.csv\n"
     ]
    }
   ],
   "source": [
    "# Saving pre processed train dataset on my drive\n",
    "\n",
    "from google.colab import drive # Importing Google Colab module for using Google Drive\n",
    "import os # Importing os library for operating system dependent functionality\n",
    "\n",
    "# Mount your Google Drive\n",
    "drive.mount('/content/drive')\n",
    "\n",
    "# Specify the path where you want to save the file in your Google Drive\n",
    "drive_path = '/content/drive/MyDrive/AI & ML/Final Project /'  # You can change this to a specific folder in your Drive\n",
    "file_name = 'pre_processed_train_data.csv'\n",
    "full_path = os.path.join(drive_path, file_name)\n",
    "\n",
    "# Convert your DataFrame to a CSV file and save it in the specified path\n",
    "selected_data.to_csv(full_path, index=False)\n",
    "\n",
    "print(f\"File saved to: {full_path}\")"
   ]
  },
  {
   "cell_type": "code",
   "execution_count": 1,
   "metadata": {
    "id": "aDsOzwZUbKUG"
   },
   "outputs": [],
   "source": [
    "# import packages\n",
    "import pandas as pd # Importing libraries for data manipulation\n",
    "import numpy as np # Importing libraries for data manipulation\n",
    "import os # Importing os library for operating system dependent functionality\n",
    "import matplotlib.pyplot as plt # Importing libraries for data visualization\n",
    "import seaborn as sns # Importing libraries for data visualization"
   ]
  },
  {
   "cell_type": "code",
   "execution_count": 2,
   "metadata": {
    "colab": {
     "base_uri": "https://localhost:8080/"
    },
    "id": "Cq4haRXhbVH1",
    "outputId": "c6fbf32b-beb3-4edb-cbc8-3019fbbcf8ac"
   },
   "outputs": [
    {
     "name": "stdout",
     "output_type": "stream",
     "text": [
      "Mounted at /content/drive\n"
     ]
    }
   ],
   "source": [
    "from google.colab import drive # Importing Google Colab module for using Google Drive\n",
    "drive.mount('/content/drive')"
   ]
  },
  {
   "cell_type": "code",
   "execution_count": 3,
   "metadata": {
    "colab": {
     "base_uri": "https://localhost:8080/",
     "height": 226
    },
    "id": "khnyfhJFQhmc",
    "outputId": "1b6fef25-edee-4f34-d705-eec971d307da"
   },
   "outputs": [
    {
     "data": {
      "text/html": [
       "\n",
       "  <div id=\"df-3ef9320c-5a28-4bc8-9fc1-efff9cee32a5\" class=\"colab-df-container\">\n",
       "    <div>\n",
       "<style scoped>\n",
       "    .dataframe tbody tr th:only-of-type {\n",
       "        vertical-align: middle;\n",
       "    }\n",
       "\n",
       "    .dataframe tbody tr th {\n",
       "        vertical-align: top;\n",
       "    }\n",
       "\n",
       "    .dataframe thead th {\n",
       "        text-align: right;\n",
       "    }\n",
       "</style>\n",
       "<table border=\"1\" class=\"dataframe\">\n",
       "  <thead>\n",
       "    <tr style=\"text-align: right;\">\n",
       "      <th></th>\n",
       "      <th>device_ip</th>\n",
       "      <th>device_model</th>\n",
       "      <th>C14</th>\n",
       "      <th>device_id</th>\n",
       "      <th>day_of_week</th>\n",
       "      <th>C20</th>\n",
       "      <th>part_of_day</th>\n",
       "      <th>site_id</th>\n",
       "      <th>site_domain</th>\n",
       "      <th>C21</th>\n",
       "      <th>app_id</th>\n",
       "      <th>C16</th>\n",
       "      <th>site_category</th>\n",
       "      <th>C19</th>\n",
       "      <th>C15</th>\n",
       "      <th>click</th>\n",
       "    </tr>\n",
       "  </thead>\n",
       "  <tbody>\n",
       "    <tr>\n",
       "      <th>0</th>\n",
       "      <td>4216800</td>\n",
       "      <td>1905</td>\n",
       "      <td>9478</td>\n",
       "      <td>1918736</td>\n",
       "      <td>3</td>\n",
       "      <td>100156</td>\n",
       "      <td>4</td>\n",
       "      <td>3160</td>\n",
       "      <td>3977</td>\n",
       "      <td>61</td>\n",
       "      <td>8433</td>\n",
       "      <td>50</td>\n",
       "      <td>24</td>\n",
       "      <td>1451</td>\n",
       "      <td>320</td>\n",
       "      <td>0</td>\n",
       "    </tr>\n",
       "    <tr>\n",
       "      <th>1</th>\n",
       "      <td>3123983</td>\n",
       "      <td>3285</td>\n",
       "      <td>23438</td>\n",
       "      <td>419233</td>\n",
       "      <td>3</td>\n",
       "      <td>-1</td>\n",
       "      <td>2</td>\n",
       "      <td>1794</td>\n",
       "      <td>7506</td>\n",
       "      <td>52</td>\n",
       "      <td>8433</td>\n",
       "      <td>50</td>\n",
       "      <td>6</td>\n",
       "      <td>1327</td>\n",
       "      <td>320</td>\n",
       "      <td>0</td>\n",
       "    </tr>\n",
       "    <tr>\n",
       "      <th>2</th>\n",
       "      <td>1354533</td>\n",
       "      <td>2394</td>\n",
       "      <td>20395</td>\n",
       "      <td>2344466</td>\n",
       "      <td>6</td>\n",
       "      <td>100111</td>\n",
       "      <td>4</td>\n",
       "      <td>2546</td>\n",
       "      <td>6124</td>\n",
       "      <td>159</td>\n",
       "      <td>8325</td>\n",
       "      <td>50</td>\n",
       "      <td>6</td>\n",
       "      <td>41</td>\n",
       "      <td>320</td>\n",
       "      <td>0</td>\n",
       "    </tr>\n",
       "    <tr>\n",
       "      <th>3</th>\n",
       "      <td>2426860</td>\n",
       "      <td>162</td>\n",
       "      <td>21191</td>\n",
       "      <td>1918736</td>\n",
       "      <td>3</td>\n",
       "      <td>100189</td>\n",
       "      <td>2</td>\n",
       "      <td>2546</td>\n",
       "      <td>6124</td>\n",
       "      <td>71</td>\n",
       "      <td>5231</td>\n",
       "      <td>50</td>\n",
       "      <td>6</td>\n",
       "      <td>175</td>\n",
       "      <td>320</td>\n",
       "      <td>0</td>\n",
       "    </tr>\n",
       "    <tr>\n",
       "      <th>4</th>\n",
       "      <td>6108944</td>\n",
       "      <td>803</td>\n",
       "      <td>23551</td>\n",
       "      <td>794370</td>\n",
       "      <td>3</td>\n",
       "      <td>100084</td>\n",
       "      <td>2</td>\n",
       "      <td>2546</td>\n",
       "      <td>6124</td>\n",
       "      <td>212</td>\n",
       "      <td>181</td>\n",
       "      <td>50</td>\n",
       "      <td>6</td>\n",
       "      <td>163</td>\n",
       "      <td>320</td>\n",
       "      <td>0</td>\n",
       "    </tr>\n",
       "  </tbody>\n",
       "</table>\n",
       "</div>\n",
       "    <div class=\"colab-df-buttons\">\n",
       "\n",
       "  <div class=\"colab-df-container\">\n",
       "    <button class=\"colab-df-convert\" onclick=\"convertToInteractive('df-3ef9320c-5a28-4bc8-9fc1-efff9cee32a5')\"\n",
       "            title=\"Convert this dataframe to an interactive table.\"\n",
       "            style=\"display:none;\">\n",
       "\n",
       "  <svg xmlns=\"http://www.w3.org/2000/svg\" height=\"24px\" viewBox=\"0 -960 960 960\">\n",
       "    <path d=\"M120-120v-720h720v720H120Zm60-500h600v-160H180v160Zm220 220h160v-160H400v160Zm0 220h160v-160H400v160ZM180-400h160v-160H180v160Zm440 0h160v-160H620v160ZM180-180h160v-160H180v160Zm440 0h160v-160H620v160Z\"/>\n",
       "  </svg>\n",
       "    </button>\n",
       "\n",
       "  <style>\n",
       "    .colab-df-container {\n",
       "      display:flex;\n",
       "      gap: 12px;\n",
       "    }\n",
       "\n",
       "    .colab-df-convert {\n",
       "      background-color: #E8F0FE;\n",
       "      border: none;\n",
       "      border-radius: 50%;\n",
       "      cursor: pointer;\n",
       "      display: none;\n",
       "      fill: #1967D2;\n",
       "      height: 32px;\n",
       "      padding: 0 0 0 0;\n",
       "      width: 32px;\n",
       "    }\n",
       "\n",
       "    .colab-df-convert:hover {\n",
       "      background-color: #E2EBFA;\n",
       "      box-shadow: 0px 1px 2px rgba(60, 64, 67, 0.3), 0px 1px 3px 1px rgba(60, 64, 67, 0.15);\n",
       "      fill: #174EA6;\n",
       "    }\n",
       "\n",
       "    .colab-df-buttons div {\n",
       "      margin-bottom: 4px;\n",
       "    }\n",
       "\n",
       "    [theme=dark] .colab-df-convert {\n",
       "      background-color: #3B4455;\n",
       "      fill: #D2E3FC;\n",
       "    }\n",
       "\n",
       "    [theme=dark] .colab-df-convert:hover {\n",
       "      background-color: #434B5C;\n",
       "      box-shadow: 0px 1px 3px 1px rgba(0, 0, 0, 0.15);\n",
       "      filter: drop-shadow(0px 1px 2px rgba(0, 0, 0, 0.3));\n",
       "      fill: #FFFFFF;\n",
       "    }\n",
       "  </style>\n",
       "\n",
       "    <script>\n",
       "      const buttonEl =\n",
       "        document.querySelector('#df-3ef9320c-5a28-4bc8-9fc1-efff9cee32a5 button.colab-df-convert');\n",
       "      buttonEl.style.display =\n",
       "        google.colab.kernel.accessAllowed ? 'block' : 'none';\n",
       "\n",
       "      async function convertToInteractive(key) {\n",
       "        const element = document.querySelector('#df-3ef9320c-5a28-4bc8-9fc1-efff9cee32a5');\n",
       "        const dataTable =\n",
       "          await google.colab.kernel.invokeFunction('convertToInteractive',\n",
       "                                                    [key], {});\n",
       "        if (!dataTable) return;\n",
       "\n",
       "        const docLinkHtml = 'Like what you see? Visit the ' +\n",
       "          '<a target=\"_blank\" href=https://colab.research.google.com/notebooks/data_table.ipynb>data table notebook</a>'\n",
       "          + ' to learn more about interactive tables.';\n",
       "        element.innerHTML = '';\n",
       "        dataTable['output_type'] = 'display_data';\n",
       "        await google.colab.output.renderOutput(dataTable, element);\n",
       "        const docLink = document.createElement('div');\n",
       "        docLink.innerHTML = docLinkHtml;\n",
       "        element.appendChild(docLink);\n",
       "      }\n",
       "    </script>\n",
       "  </div>\n",
       "\n",
       "\n",
       "<div id=\"df-851ac3d7-66c4-410d-99ce-2ed046669409\">\n",
       "  <button class=\"colab-df-quickchart\" onclick=\"quickchart('df-851ac3d7-66c4-410d-99ce-2ed046669409')\"\n",
       "            title=\"Suggest charts\"\n",
       "            style=\"display:none;\">\n",
       "\n",
       "<svg xmlns=\"http://www.w3.org/2000/svg\" height=\"24px\"viewBox=\"0 0 24 24\"\n",
       "     width=\"24px\">\n",
       "    <g>\n",
       "        <path d=\"M19 3H5c-1.1 0-2 .9-2 2v14c0 1.1.9 2 2 2h14c1.1 0 2-.9 2-2V5c0-1.1-.9-2-2-2zM9 17H7v-7h2v7zm4 0h-2V7h2v10zm4 0h-2v-4h2v4z\"/>\n",
       "    </g>\n",
       "</svg>\n",
       "  </button>\n",
       "\n",
       "<style>\n",
       "  .colab-df-quickchart {\n",
       "      --bg-color: #E8F0FE;\n",
       "      --fill-color: #1967D2;\n",
       "      --hover-bg-color: #E2EBFA;\n",
       "      --hover-fill-color: #174EA6;\n",
       "      --disabled-fill-color: #AAA;\n",
       "      --disabled-bg-color: #DDD;\n",
       "  }\n",
       "\n",
       "  [theme=dark] .colab-df-quickchart {\n",
       "      --bg-color: #3B4455;\n",
       "      --fill-color: #D2E3FC;\n",
       "      --hover-bg-color: #434B5C;\n",
       "      --hover-fill-color: #FFFFFF;\n",
       "      --disabled-bg-color: #3B4455;\n",
       "      --disabled-fill-color: #666;\n",
       "  }\n",
       "\n",
       "  .colab-df-quickchart {\n",
       "    background-color: var(--bg-color);\n",
       "    border: none;\n",
       "    border-radius: 50%;\n",
       "    cursor: pointer;\n",
       "    display: none;\n",
       "    fill: var(--fill-color);\n",
       "    height: 32px;\n",
       "    padding: 0;\n",
       "    width: 32px;\n",
       "  }\n",
       "\n",
       "  .colab-df-quickchart:hover {\n",
       "    background-color: var(--hover-bg-color);\n",
       "    box-shadow: 0 1px 2px rgba(60, 64, 67, 0.3), 0 1px 3px 1px rgba(60, 64, 67, 0.15);\n",
       "    fill: var(--button-hover-fill-color);\n",
       "  }\n",
       "\n",
       "  .colab-df-quickchart-complete:disabled,\n",
       "  .colab-df-quickchart-complete:disabled:hover {\n",
       "    background-color: var(--disabled-bg-color);\n",
       "    fill: var(--disabled-fill-color);\n",
       "    box-shadow: none;\n",
       "  }\n",
       "\n",
       "  .colab-df-spinner {\n",
       "    border: 2px solid var(--fill-color);\n",
       "    border-color: transparent;\n",
       "    border-bottom-color: var(--fill-color);\n",
       "    animation:\n",
       "      spin 1s steps(1) infinite;\n",
       "  }\n",
       "\n",
       "  @keyframes spin {\n",
       "    0% {\n",
       "      border-color: transparent;\n",
       "      border-bottom-color: var(--fill-color);\n",
       "      border-left-color: var(--fill-color);\n",
       "    }\n",
       "    20% {\n",
       "      border-color: transparent;\n",
       "      border-left-color: var(--fill-color);\n",
       "      border-top-color: var(--fill-color);\n",
       "    }\n",
       "    30% {\n",
       "      border-color: transparent;\n",
       "      border-left-color: var(--fill-color);\n",
       "      border-top-color: var(--fill-color);\n",
       "      border-right-color: var(--fill-color);\n",
       "    }\n",
       "    40% {\n",
       "      border-color: transparent;\n",
       "      border-right-color: var(--fill-color);\n",
       "      border-top-color: var(--fill-color);\n",
       "    }\n",
       "    60% {\n",
       "      border-color: transparent;\n",
       "      border-right-color: var(--fill-color);\n",
       "    }\n",
       "    80% {\n",
       "      border-color: transparent;\n",
       "      border-right-color: var(--fill-color);\n",
       "      border-bottom-color: var(--fill-color);\n",
       "    }\n",
       "    90% {\n",
       "      border-color: transparent;\n",
       "      border-bottom-color: var(--fill-color);\n",
       "    }\n",
       "  }\n",
       "</style>\n",
       "\n",
       "  <script>\n",
       "    async function quickchart(key) {\n",
       "      const quickchartButtonEl =\n",
       "        document.querySelector('#' + key + ' button');\n",
       "      quickchartButtonEl.disabled = true;  // To prevent multiple clicks.\n",
       "      quickchartButtonEl.classList.add('colab-df-spinner');\n",
       "      try {\n",
       "        const charts = await google.colab.kernel.invokeFunction(\n",
       "            'suggestCharts', [key], {});\n",
       "      } catch (error) {\n",
       "        console.error('Error during call to suggestCharts:', error);\n",
       "      }\n",
       "      quickchartButtonEl.classList.remove('colab-df-spinner');\n",
       "      quickchartButtonEl.classList.add('colab-df-quickchart-complete');\n",
       "    }\n",
       "    (() => {\n",
       "      let quickchartButtonEl =\n",
       "        document.querySelector('#df-851ac3d7-66c4-410d-99ce-2ed046669409 button');\n",
       "      quickchartButtonEl.style.display =\n",
       "        google.colab.kernel.accessAllowed ? 'block' : 'none';\n",
       "    })();\n",
       "  </script>\n",
       "</div>\n",
       "\n",
       "    </div>\n",
       "  </div>\n"
      ],
      "text/plain": [
       "   device_ip  device_model    C14  device_id  day_of_week     C20  \\\n",
       "0    4216800          1905   9478    1918736            3  100156   \n",
       "1    3123983          3285  23438     419233            3      -1   \n",
       "2    1354533          2394  20395    2344466            6  100111   \n",
       "3    2426860           162  21191    1918736            3  100189   \n",
       "4    6108944           803  23551     794370            3  100084   \n",
       "\n",
       "   part_of_day  site_id  site_domain  C21  app_id  C16  site_category   C19  \\\n",
       "0            4     3160         3977   61    8433   50             24  1451   \n",
       "1            2     1794         7506   52    8433   50              6  1327   \n",
       "2            4     2546         6124  159    8325   50              6    41   \n",
       "3            2     2546         6124   71    5231   50              6   175   \n",
       "4            2     2546         6124  212     181   50              6   163   \n",
       "\n",
       "   C15  click  \n",
       "0  320      0  \n",
       "1  320      0  \n",
       "2  320      0  \n",
       "3  320      0  \n",
       "4  320      0  "
      ]
     },
     "execution_count": 3,
     "metadata": {},
     "output_type": "execute_result"
    }
   ],
   "source": [
    "# Loading pre-proceded data\n",
    "data = pd.read_csv('/content/drive/My Drive/AI & ML/Final Project /pre_processed_train_data.csv')\n",
    "data.head()"
   ]
  },
  {
   "cell_type": "code",
   "execution_count": null,
   "metadata": {
    "id": "ke5rR_t4OoJt"
   },
   "outputs": [],
   "source": [
    "import pandas as pd # Importing libraries for data manipulation\n",
    "import numpy as np # Importing libraries for data manipulation\n",
    "\n",
    "# Shuffle columns\n",
    "shuffled_columns = np.random.permutation(data.columns)\n",
    "data = data[shuffled_columns]"
   ]
  },
  {
   "cell_type": "code",
   "execution_count": 5,
   "metadata": {
    "id": "Y6e-v5PleOWg"
   },
   "outputs": [],
   "source": [
    "import pandas as pd # Importing libraries for data manipulation\n",
    "from sklearn.model_selection import train_test_split # Importing Scikit-learn modules for machine learning tasks\n",
    "\n",
    "\n",
    "X = data.drop('click', axis=1)\n",
    "y = data['click']\n",
    "\n",
    "# Split the data into training and validation sets (80% train, 20% validation)\n",
    "X_train, X_val, y_train, y_val = train_test_split(X, y, test_size=0.25, random_state=42)\n",
    "\n",
    "# The rest of your neural network code goes here...\n",
    "# For instance, defining and training the model as you have in your original code.\n"
   ]
  },
  {
   "cell_type": "code",
   "execution_count": 15,
   "metadata": {
    "colab": {
     "base_uri": "https://localhost:8080/"
    },
    "id": "UNvqPWiWOoRh",
    "outputId": "2daddf8a-8983-40fd-a0aa-aee2c3c1f1cd"
   },
   "outputs": [
    {
     "name": "stdout",
     "output_type": "stream",
     "text": [
      "Epoch 1/15\n",
      "79542/79546 [============================>.] - ETA: 0s - loss: 131.9284 - accuracy: 0.8170\n",
      "Epoch 1: val_loss improved from inf to 0.45596, saving model to /content/drive/MyDrive/AI & ML/Final Project/model_weights.h5\n",
      "79546/79546 [==============================] - 199s 2ms/step - loss: 131.9227 - accuracy: 0.8170 - val_loss: 0.4560 - val_accuracy: 0.8301\n",
      "Epoch 2/15\n",
      "   78/79546 [..............................] - ETA: 2:38 - loss: 0.4379 - accuracy: 0.8415"
     ]
    },
    {
     "name": "stderr",
     "output_type": "stream",
     "text": [
      "/usr/local/lib/python3.10/dist-packages/keras/src/engine/training.py:3103: UserWarning: You are saving your model as an HDF5 file via `model.save()`. This file format is considered legacy. We recommend using instead the native Keras format, e.g. `model.save('my_model.keras')`.\n",
      "  saving_api.save_model(\n"
     ]
    },
    {
     "name": "stdout",
     "output_type": "stream",
     "text": [
      "79526/79546 [============================>.] - ETA: 0s - loss: 0.4576 - accuracy: 0.8301\n",
      "Epoch 2: val_loss improved from 0.45596 to 0.45578, saving model to /content/drive/MyDrive/AI & ML/Final Project/model_weights.h5\n",
      "79546/79546 [==============================] - 195s 2ms/step - loss: 0.4576 - accuracy: 0.8301 - val_loss: 0.4558 - val_accuracy: 0.8301\n",
      "Epoch 3/15\n",
      "79537/79546 [============================>.] - ETA: 0s - loss: 0.4558 - accuracy: 0.8301\n",
      "Epoch 3: val_loss improved from 0.45578 to 0.45572, saving model to /content/drive/MyDrive/AI & ML/Final Project/model_weights.h5\n",
      "79546/79546 [==============================] - 196s 2ms/step - loss: 0.4558 - accuracy: 0.8301 - val_loss: 0.4557 - val_accuracy: 0.8301\n",
      "Epoch 4/15\n",
      "79542/79546 [============================>.] - ETA: 0s - loss: 0.4558 - accuracy: 0.8301\n",
      "Epoch 4: val_loss improved from 0.45572 to 0.45563, saving model to /content/drive/MyDrive/AI & ML/Final Project/model_weights.h5\n",
      "79546/79546 [==============================] - 196s 2ms/step - loss: 0.4558 - accuracy: 0.8301 - val_loss: 0.4556 - val_accuracy: 0.8301\n",
      "Epoch 5/15\n",
      "79527/79546 [============================>.] - ETA: 0s - loss: 0.4557 - accuracy: 0.8301\n",
      "Epoch 5: val_loss did not improve from 0.45563\n",
      "79546/79546 [==============================] - 195s 2ms/step - loss: 0.4557 - accuracy: 0.8301 - val_loss: 0.4559 - val_accuracy: 0.8301\n",
      "Epoch 6/15\n",
      "79543/79546 [============================>.] - ETA: 0s - loss: 0.4557 - accuracy: 0.8301\n",
      "Epoch 6: val_loss did not improve from 0.45563\n",
      "79546/79546 [==============================] - 195s 2ms/step - loss: 0.4557 - accuracy: 0.8301 - val_loss: 0.4558 - val_accuracy: 0.8301\n",
      "Epoch 7/15\n",
      "79538/79546 [============================>.] - ETA: 0s - loss: 0.4557 - accuracy: 0.8301\n",
      "Epoch 7: val_loss improved from 0.45563 to 0.45563, saving model to /content/drive/MyDrive/AI & ML/Final Project/model_weights.h5\n",
      "79546/79546 [==============================] - 197s 2ms/step - loss: 0.4557 - accuracy: 0.8301 - val_loss: 0.4556 - val_accuracy: 0.8301\n",
      "Epoch 8/15\n",
      "79537/79546 [============================>.] - ETA: 0s - loss: 0.4557 - accuracy: 0.8301\n",
      "Epoch 8: val_loss did not improve from 0.45563\n",
      "79546/79546 [==============================] - 194s 2ms/step - loss: 0.4557 - accuracy: 0.8301 - val_loss: 0.4557 - val_accuracy: 0.8301\n",
      "Epoch 9/15\n",
      "79521/79546 [============================>.] - ETA: 0s - loss: 0.4557 - accuracy: 0.8301\n",
      "Epoch 9: val_loss did not improve from 0.45563\n",
      "79546/79546 [==============================] - 195s 2ms/step - loss: 0.4557 - accuracy: 0.8301 - val_loss: 0.4559 - val_accuracy: 0.8301\n",
      "Epoch 10/15\n",
      "79543/79546 [============================>.] - ETA: 0s - loss: 0.4557 - accuracy: 0.8301\n",
      "Epoch 10: val_loss did not improve from 0.45563\n",
      "79546/79546 [==============================] - 195s 2ms/step - loss: 0.4557 - accuracy: 0.8301 - val_loss: 0.4556 - val_accuracy: 0.8301\n",
      "Epoch 11/15\n",
      "79525/79546 [============================>.] - ETA: 0s - loss: 0.4557 - accuracy: 0.8301\n",
      "Epoch 11: val_loss did not improve from 0.45563\n",
      "79546/79546 [==============================] - 194s 2ms/step - loss: 0.4557 - accuracy: 0.8301 - val_loss: 0.4557 - val_accuracy: 0.8301\n",
      "Epoch 12/15\n",
      "79536/79546 [============================>.] - ETA: 0s - loss: 0.4557 - accuracy: 0.8301\n",
      "Epoch 12: val_loss did not improve from 0.45563\n",
      "79546/79546 [==============================] - 196s 2ms/step - loss: 0.4557 - accuracy: 0.8301 - val_loss: 0.4557 - val_accuracy: 0.8301\n",
      "Epoch 13/15\n",
      "79533/79546 [============================>.] - ETA: 0s - loss: 0.4557 - accuracy: 0.8301\n",
      "Epoch 13: val_loss did not improve from 0.45563\n",
      "79546/79546 [==============================] - 193s 2ms/step - loss: 0.4557 - accuracy: 0.8301 - val_loss: 0.4557 - val_accuracy: 0.8301\n",
      "Epoch 14/15\n",
      "79542/79546 [============================>.] - ETA: 0s - loss: 0.4557 - accuracy: 0.8301\n",
      "Epoch 14: val_loss improved from 0.45563 to 0.45563, saving model to /content/drive/MyDrive/AI & ML/Final Project/model_weights.h5\n",
      "79546/79546 [==============================] - 193s 2ms/step - loss: 0.4557 - accuracy: 0.8301 - val_loss: 0.4556 - val_accuracy: 0.8301\n",
      "Epoch 15/15\n",
      "79533/79546 [============================>.] - ETA: 0s - loss: 0.4557 - accuracy: 0.8301\n",
      "Epoch 15: val_loss did not improve from 0.45563\n",
      "79546/79546 [==============================] - 194s 2ms/step - loss: 0.4557 - accuracy: 0.8301 - val_loss: 0.4556 - val_accuracy: 0.8301\n"
     ]
    }
   ],
   "source": [
    "import pandas as pd # Importing libraries for data manipulation\n",
    "import numpy as np # Importing libraries for data manipulation\n",
    "import matplotlib.pyplot as plt # Importing libraries for data visualization\n",
    "from sklearn.metrics import classification_report, confusion_matrix, accuracy_score, log_loss, roc_curve, auc # Importing Scikit-learn modules for machine learning tasks\n",
    "from keras.models import Sequential # Importing Keras modules for neural network modeling\n",
    "from keras.layers import Dense # Importing Keras modules for neural network modeling\n",
    "from keras.callbacks import ModelCheckpoint # Importing Keras modules for neural network modeling\n",
    "from keras.optimizers import Adam # Importing Keras modules for neural network modeling\n",
    "\n",
    "# Define custom learning rate\n",
    "learning_rate = 0.001  # Adjust this value as needed\n",
    "\n",
    "# Define the neural network model\n",
    "model = Sequential([\n",
    "    Dense(128, activation='relu', input_shape=(X_train.shape[1],)),\n",
    "    Dense(64, activation='relu'),\n",
    "    Dense(32, activation='relu'),\n",
    "    Dense(1, activation='sigmoid')\n",
    "])\n",
    "\n",
    "# Compile the model with the Adam optimizer and custom learning rate\n",
    "model.compile(optimizer=Adam(learning_rate=learning_rate), loss='binary_crossentropy', metrics=['accuracy'])\n",
    "\n",
    "# Corrected file path for the checkpoint callback (using a raw string)\n",
    "checkpoint_path = r'/content/drive/MyDrive/AI & ML/Final Project/model_weights.h5'  # Update this path as needed\n",
    "\n",
    "# Define the checkpoint callback\n",
    "checkpoint = ModelCheckpoint(\n",
    "    checkpoint_path,\n",
    "    monitor='val_loss',\n",
    "    verbose=1,\n",
    "    save_best_only=True,\n",
    "    mode='min'\n",
    ")\n",
    "\n",
    "# Train the model with the checkpoint callback\n",
    "history = model.fit(\n",
    "    X_train, y_train,\n",
    "    validation_data=(X_val, y_val),\n",
    "    epochs=15,\n",
    "    batch_size=44,\n",
    "    callbacks=[checkpoint]\n",
    ")\n",
    "\n",
    "# Function to calculate and print performance metrics and save classification report\n",
    "def evaluate_performance(X, y, dataset_name):\n",
    "    # Predict probabilities and classes\n",
    "    y_pred_probs = model.predict(X)\n",
    "    y_pred = (y_pred_probs > 0.5).astype(int)\n",
    "\n",
    "    # Log Loss\n",
    "    log_loss_value = log_loss(y, y_pred_probs)\n",
    "\n",
    "    # Classification Report, F1 Score, and Saving Report\n",
    "    report = classification_report(y, y_pred, output_dict=True)\n",
    "    f1_score = report['weighted avg']['f1-score']\n",
    "    report_df = pd.DataFrame(report).transpose()\n",
    "    report_df.to_csv(f'{dataset_name.lower()}_classification_report.csv')\n",
    "\n",
    "    # Confusion Matrix\n",
    "    cm = confusion_matrix(y, y_pred)\n",
    "    cm_normalized = cm.astype('float') / cm.sum(axis=1)[:, np.newaxis]\n",
    "\n",
    "    # Accuracy\n",
    "    accuracy = accuracy_score(y, y_pred)\n",
    "\n",
    "    # ROC Curve and AUC\n",
    "    fpr, tpr, thresholds = roc_curve(y, y_pred_probs)\n",
    "    roc_auc = auc(fpr, tpr)\n",
    "\n",
    "    # Print Metrics\n",
    "    print(f\"Performance on {dataset_name} Dataset:\")\n",
    "    print(f\"Accuracy: {accuracy}\")\n",
    "    print(f\"Log Loss: {log_loss_value}\")\n",
    "    print(f\"F1 Score: {f1_score}\")\n",
    "    print(\"Classification Report:\")\n",
    "    print(report_df)\n",
    "    print(\"Normalized Confusion Matrix:\")\n",
    "    print(cm_normalized)\n",
    "\n",
    "# Make sure to replace X_train, y_train, X_val, y_val with your actual data\n"
   ]
  },
  {
   "cell_type": "code",
   "execution_count": null,
   "metadata": {
    "colab": {
     "base_uri": "https://localhost:8080/",
     "height": 900
    },
    "id": "IzJlmWvjkRx1",
    "outputId": "81067029-a5be-4f36-944e-c037658b9509"
   },
   "outputs": [
    {
     "name": "stdout",
     "output_type": "stream",
     "text": [
      "Fitting 5 folds for each of 27 candidates, totalling 135 fits\n",
      "[CV] END max_depth=10, min_samples_split=2, n_estimators=100; total time= 6.4min\n",
      "[CV] END max_depth=10, min_samples_split=2, n_estimators=100; total time= 6.5min\n",
      "[CV] END max_depth=10, min_samples_split=2, n_estimators=100; total time= 6.5min\n",
      "[CV] END max_depth=10, min_samples_split=2, n_estimators=100; total time= 6.7min\n",
      "[CV] END max_depth=10, min_samples_split=2, n_estimators=100; total time= 6.6min\n",
      "[CV] END max_depth=10, min_samples_split=2, n_estimators=200; total time=13.0min\n",
      "[CV] END max_depth=10, min_samples_split=2, n_estimators=200; total time=13.3min\n",
      "[CV] END max_depth=10, min_samples_split=2, n_estimators=200; total time=13.6min\n",
      "[CV] END max_depth=10, min_samples_split=2, n_estimators=200; total time=13.9min\n",
      "[CV] END max_depth=10, min_samples_split=2, n_estimators=200; total time=13.7min\n",
      "[CV] END max_depth=10, min_samples_split=2, n_estimators=300; total time=20.3min\n",
      "[CV] END max_depth=10, min_samples_split=2, n_estimators=300; total time=20.3min\n",
      "[CV] END max_depth=10, min_samples_split=2, n_estimators=300; total time=20.5min\n",
      "[CV] END max_depth=10, min_samples_split=2, n_estimators=300; total time=19.9min\n",
      "[CV] END max_depth=10, min_samples_split=2, n_estimators=300; total time=20.2min\n",
      "[CV] END max_depth=10, min_samples_split=5, n_estimators=100; total time= 6.7min\n",
      "[CV] END max_depth=10, min_samples_split=5, n_estimators=100; total time= 8.0min\n",
      "[CV] END max_depth=10, min_samples_split=5, n_estimators=100; total time= 7.1min\n",
      "[CV] END max_depth=10, min_samples_split=5, n_estimators=100; total time= 6.9min\n",
      "[CV] END max_depth=10, min_samples_split=5, n_estimators=100; total time= 6.7min\n",
      "[CV] END max_depth=10, min_samples_split=5, n_estimators=200; total time=13.6min\n",
      "[CV] END max_depth=10, min_samples_split=5, n_estimators=200; total time=13.1min\n",
      "[CV] END max_depth=10, min_samples_split=5, n_estimators=200; total time=12.9min\n",
      "[CV] END max_depth=10, min_samples_split=5, n_estimators=200; total time=12.7min\n",
      "[CV] END max_depth=10, min_samples_split=5, n_estimators=200; total time=13.5min\n",
      "[CV] END max_depth=10, min_samples_split=5, n_estimators=300; total time=20.1min\n"
     ]
    },
    {
     "ename": "KeyboardInterrupt",
     "evalue": "ignored",
     "output_type": "error",
     "traceback": [
      "\u001b[0;31m---------------------------------------------------------------------------\u001b[0m",
      "\u001b[0;31mKeyboardInterrupt\u001b[0m                         Traceback (most recent call last)",
      "\u001b[0;32m<ipython-input-10-745c292a8a28>\u001b[0m in \u001b[0;36m<cell line: 30>\u001b[0;34m()\u001b[0m\n\u001b[1;32m     28\u001b[0m \u001b[0;34m\u001b[0m\u001b[0m\n\u001b[1;32m     29\u001b[0m \u001b[0;31m# Fit the model\u001b[0m\u001b[0;34m\u001b[0m\u001b[0;34m\u001b[0m\u001b[0m\n\u001b[0;32m---> 30\u001b[0;31m \u001b[0mgrid_search\u001b[0m\u001b[0;34m.\u001b[0m\u001b[0mfit\u001b[0m\u001b[0;34m(\u001b[0m\u001b[0mX_train\u001b[0m\u001b[0;34m,\u001b[0m \u001b[0my_train\u001b[0m\u001b[0;34m)\u001b[0m\u001b[0;34m\u001b[0m\u001b[0;34m\u001b[0m\u001b[0m\n\u001b[0m\u001b[1;32m     31\u001b[0m \u001b[0;34m\u001b[0m\u001b[0m\n\u001b[1;32m     32\u001b[0m \u001b[0;31m# Best parameters and score\u001b[0m\u001b[0;34m\u001b[0m\u001b[0;34m\u001b[0m\u001b[0m\n",
      "\u001b[0;32m/usr/local/lib/python3.10/dist-packages/sklearn/model_selection/_search.py\u001b[0m in \u001b[0;36mfit\u001b[0;34m(self, X, y, groups, **fit_params)\u001b[0m\n\u001b[1;32m    872\u001b[0m                 \u001b[0;32mreturn\u001b[0m \u001b[0mresults\u001b[0m\u001b[0;34m\u001b[0m\u001b[0;34m\u001b[0m\u001b[0m\n\u001b[1;32m    873\u001b[0m \u001b[0;34m\u001b[0m\u001b[0m\n\u001b[0;32m--> 874\u001b[0;31m             \u001b[0mself\u001b[0m\u001b[0;34m.\u001b[0m\u001b[0m_run_search\u001b[0m\u001b[0;34m(\u001b[0m\u001b[0mevaluate_candidates\u001b[0m\u001b[0;34m)\u001b[0m\u001b[0;34m\u001b[0m\u001b[0;34m\u001b[0m\u001b[0m\n\u001b[0m\u001b[1;32m    875\u001b[0m \u001b[0;34m\u001b[0m\u001b[0m\n\u001b[1;32m    876\u001b[0m             \u001b[0;31m# multimetric is determined here because in the case of a callable\u001b[0m\u001b[0;34m\u001b[0m\u001b[0;34m\u001b[0m\u001b[0m\n",
      "\u001b[0;32m/usr/local/lib/python3.10/dist-packages/sklearn/model_selection/_search.py\u001b[0m in \u001b[0;36m_run_search\u001b[0;34m(self, evaluate_candidates)\u001b[0m\n\u001b[1;32m   1386\u001b[0m     \u001b[0;32mdef\u001b[0m \u001b[0m_run_search\u001b[0m\u001b[0;34m(\u001b[0m\u001b[0mself\u001b[0m\u001b[0;34m,\u001b[0m \u001b[0mevaluate_candidates\u001b[0m\u001b[0;34m)\u001b[0m\u001b[0;34m:\u001b[0m\u001b[0;34m\u001b[0m\u001b[0;34m\u001b[0m\u001b[0m\n\u001b[1;32m   1387\u001b[0m         \u001b[0;34m\"\"\"Search all candidates in param_grid\"\"\"\u001b[0m\u001b[0;34m\u001b[0m\u001b[0;34m\u001b[0m\u001b[0m\n\u001b[0;32m-> 1388\u001b[0;31m         \u001b[0mevaluate_candidates\u001b[0m\u001b[0;34m(\u001b[0m\u001b[0mParameterGrid\u001b[0m\u001b[0;34m(\u001b[0m\u001b[0mself\u001b[0m\u001b[0;34m.\u001b[0m\u001b[0mparam_grid\u001b[0m\u001b[0;34m)\u001b[0m\u001b[0;34m)\u001b[0m\u001b[0;34m\u001b[0m\u001b[0;34m\u001b[0m\u001b[0m\n\u001b[0m\u001b[1;32m   1389\u001b[0m \u001b[0;34m\u001b[0m\u001b[0m\n\u001b[1;32m   1390\u001b[0m \u001b[0;34m\u001b[0m\u001b[0m\n",
      "\u001b[0;32m/usr/local/lib/python3.10/dist-packages/sklearn/model_selection/_search.py\u001b[0m in \u001b[0;36mevaluate_candidates\u001b[0;34m(candidate_params, cv, more_results)\u001b[0m\n\u001b[1;32m    819\u001b[0m                     )\n\u001b[1;32m    820\u001b[0m \u001b[0;34m\u001b[0m\u001b[0m\n\u001b[0;32m--> 821\u001b[0;31m                 out = parallel(\n\u001b[0m\u001b[1;32m    822\u001b[0m                     delayed(_fit_and_score)(\n\u001b[1;32m    823\u001b[0m                         \u001b[0mclone\u001b[0m\u001b[0;34m(\u001b[0m\u001b[0mbase_estimator\u001b[0m\u001b[0;34m)\u001b[0m\u001b[0;34m,\u001b[0m\u001b[0;34m\u001b[0m\u001b[0;34m\u001b[0m\u001b[0m\n",
      "\u001b[0;32m/usr/local/lib/python3.10/dist-packages/sklearn/utils/parallel.py\u001b[0m in \u001b[0;36m__call__\u001b[0;34m(self, iterable)\u001b[0m\n\u001b[1;32m     61\u001b[0m             \u001b[0;32mfor\u001b[0m \u001b[0mdelayed_func\u001b[0m\u001b[0;34m,\u001b[0m \u001b[0margs\u001b[0m\u001b[0;34m,\u001b[0m \u001b[0mkwargs\u001b[0m \u001b[0;32min\u001b[0m \u001b[0miterable\u001b[0m\u001b[0;34m\u001b[0m\u001b[0;34m\u001b[0m\u001b[0m\n\u001b[1;32m     62\u001b[0m         )\n\u001b[0;32m---> 63\u001b[0;31m         \u001b[0;32mreturn\u001b[0m \u001b[0msuper\u001b[0m\u001b[0;34m(\u001b[0m\u001b[0;34m)\u001b[0m\u001b[0;34m.\u001b[0m\u001b[0m__call__\u001b[0m\u001b[0;34m(\u001b[0m\u001b[0miterable_with_config\u001b[0m\u001b[0;34m)\u001b[0m\u001b[0;34m\u001b[0m\u001b[0;34m\u001b[0m\u001b[0m\n\u001b[0m\u001b[1;32m     64\u001b[0m \u001b[0;34m\u001b[0m\u001b[0m\n\u001b[1;32m     65\u001b[0m \u001b[0;34m\u001b[0m\u001b[0m\n",
      "\u001b[0;32m/usr/local/lib/python3.10/dist-packages/joblib/parallel.py\u001b[0m in \u001b[0;36m__call__\u001b[0;34m(self, iterable)\u001b[0m\n\u001b[1;32m   1861\u001b[0m             \u001b[0moutput\u001b[0m \u001b[0;34m=\u001b[0m \u001b[0mself\u001b[0m\u001b[0;34m.\u001b[0m\u001b[0m_get_sequential_output\u001b[0m\u001b[0;34m(\u001b[0m\u001b[0miterable\u001b[0m\u001b[0;34m)\u001b[0m\u001b[0;34m\u001b[0m\u001b[0;34m\u001b[0m\u001b[0m\n\u001b[1;32m   1862\u001b[0m             \u001b[0mnext\u001b[0m\u001b[0;34m(\u001b[0m\u001b[0moutput\u001b[0m\u001b[0;34m)\u001b[0m\u001b[0;34m\u001b[0m\u001b[0;34m\u001b[0m\u001b[0m\n\u001b[0;32m-> 1863\u001b[0;31m             \u001b[0;32mreturn\u001b[0m \u001b[0moutput\u001b[0m \u001b[0;32mif\u001b[0m \u001b[0mself\u001b[0m\u001b[0;34m.\u001b[0m\u001b[0mreturn_generator\u001b[0m \u001b[0;32melse\u001b[0m \u001b[0mlist\u001b[0m\u001b[0;34m(\u001b[0m\u001b[0moutput\u001b[0m\u001b[0;34m)\u001b[0m\u001b[0;34m\u001b[0m\u001b[0;34m\u001b[0m\u001b[0m\n\u001b[0m\u001b[1;32m   1864\u001b[0m \u001b[0;34m\u001b[0m\u001b[0m\n\u001b[1;32m   1865\u001b[0m         \u001b[0;31m# Let's create an ID that uniquely identifies the current call. If the\u001b[0m\u001b[0;34m\u001b[0m\u001b[0;34m\u001b[0m\u001b[0m\n",
      "\u001b[0;32m/usr/local/lib/python3.10/dist-packages/joblib/parallel.py\u001b[0m in \u001b[0;36m_get_sequential_output\u001b[0;34m(self, iterable)\u001b[0m\n\u001b[1;32m   1790\u001b[0m                 \u001b[0mself\u001b[0m\u001b[0;34m.\u001b[0m\u001b[0mn_dispatched_batches\u001b[0m \u001b[0;34m+=\u001b[0m \u001b[0;36m1\u001b[0m\u001b[0;34m\u001b[0m\u001b[0;34m\u001b[0m\u001b[0m\n\u001b[1;32m   1791\u001b[0m                 \u001b[0mself\u001b[0m\u001b[0;34m.\u001b[0m\u001b[0mn_dispatched_tasks\u001b[0m \u001b[0;34m+=\u001b[0m \u001b[0;36m1\u001b[0m\u001b[0;34m\u001b[0m\u001b[0;34m\u001b[0m\u001b[0m\n\u001b[0;32m-> 1792\u001b[0;31m                 \u001b[0mres\u001b[0m \u001b[0;34m=\u001b[0m \u001b[0mfunc\u001b[0m\u001b[0;34m(\u001b[0m\u001b[0;34m*\u001b[0m\u001b[0margs\u001b[0m\u001b[0;34m,\u001b[0m \u001b[0;34m**\u001b[0m\u001b[0mkwargs\u001b[0m\u001b[0;34m)\u001b[0m\u001b[0;34m\u001b[0m\u001b[0;34m\u001b[0m\u001b[0m\n\u001b[0m\u001b[1;32m   1793\u001b[0m                 \u001b[0mself\u001b[0m\u001b[0;34m.\u001b[0m\u001b[0mn_completed_tasks\u001b[0m \u001b[0;34m+=\u001b[0m \u001b[0;36m1\u001b[0m\u001b[0;34m\u001b[0m\u001b[0;34m\u001b[0m\u001b[0m\n\u001b[1;32m   1794\u001b[0m                 \u001b[0mself\u001b[0m\u001b[0;34m.\u001b[0m\u001b[0mprint_progress\u001b[0m\u001b[0;34m(\u001b[0m\u001b[0;34m)\u001b[0m\u001b[0;34m\u001b[0m\u001b[0;34m\u001b[0m\u001b[0m\n",
      "\u001b[0;32m/usr/local/lib/python3.10/dist-packages/sklearn/utils/parallel.py\u001b[0m in \u001b[0;36m__call__\u001b[0;34m(self, *args, **kwargs)\u001b[0m\n\u001b[1;32m    121\u001b[0m             \u001b[0mconfig\u001b[0m \u001b[0;34m=\u001b[0m \u001b[0;34m{\u001b[0m\u001b[0;34m}\u001b[0m\u001b[0;34m\u001b[0m\u001b[0;34m\u001b[0m\u001b[0m\n\u001b[1;32m    122\u001b[0m         \u001b[0;32mwith\u001b[0m \u001b[0mconfig_context\u001b[0m\u001b[0;34m(\u001b[0m\u001b[0;34m**\u001b[0m\u001b[0mconfig\u001b[0m\u001b[0;34m)\u001b[0m\u001b[0;34m:\u001b[0m\u001b[0;34m\u001b[0m\u001b[0;34m\u001b[0m\u001b[0m\n\u001b[0;32m--> 123\u001b[0;31m             \u001b[0;32mreturn\u001b[0m \u001b[0mself\u001b[0m\u001b[0;34m.\u001b[0m\u001b[0mfunction\u001b[0m\u001b[0;34m(\u001b[0m\u001b[0;34m*\u001b[0m\u001b[0margs\u001b[0m\u001b[0;34m,\u001b[0m \u001b[0;34m**\u001b[0m\u001b[0mkwargs\u001b[0m\u001b[0;34m)\u001b[0m\u001b[0;34m\u001b[0m\u001b[0;34m\u001b[0m\u001b[0m\n\u001b[0m",
      "\u001b[0;32m/usr/local/lib/python3.10/dist-packages/sklearn/model_selection/_validation.py\u001b[0m in \u001b[0;36m_fit_and_score\u001b[0;34m(estimator, X, y, scorer, train, test, verbose, parameters, fit_params, return_train_score, return_parameters, return_n_test_samples, return_times, return_estimator, split_progress, candidate_progress, error_score)\u001b[0m\n\u001b[1;32m    684\u001b[0m             \u001b[0mestimator\u001b[0m\u001b[0;34m.\u001b[0m\u001b[0mfit\u001b[0m\u001b[0;34m(\u001b[0m\u001b[0mX_train\u001b[0m\u001b[0;34m,\u001b[0m \u001b[0;34m**\u001b[0m\u001b[0mfit_params\u001b[0m\u001b[0;34m)\u001b[0m\u001b[0;34m\u001b[0m\u001b[0;34m\u001b[0m\u001b[0m\n\u001b[1;32m    685\u001b[0m         \u001b[0;32melse\u001b[0m\u001b[0;34m:\u001b[0m\u001b[0;34m\u001b[0m\u001b[0;34m\u001b[0m\u001b[0m\n\u001b[0;32m--> 686\u001b[0;31m             \u001b[0mestimator\u001b[0m\u001b[0;34m.\u001b[0m\u001b[0mfit\u001b[0m\u001b[0;34m(\u001b[0m\u001b[0mX_train\u001b[0m\u001b[0;34m,\u001b[0m \u001b[0my_train\u001b[0m\u001b[0;34m,\u001b[0m \u001b[0;34m**\u001b[0m\u001b[0mfit_params\u001b[0m\u001b[0;34m)\u001b[0m\u001b[0;34m\u001b[0m\u001b[0;34m\u001b[0m\u001b[0m\n\u001b[0m\u001b[1;32m    687\u001b[0m \u001b[0;34m\u001b[0m\u001b[0m\n\u001b[1;32m    688\u001b[0m     \u001b[0;32mexcept\u001b[0m \u001b[0mException\u001b[0m\u001b[0;34m:\u001b[0m\u001b[0;34m\u001b[0m\u001b[0;34m\u001b[0m\u001b[0m\n",
      "\u001b[0;32m/usr/local/lib/python3.10/dist-packages/sklearn/ensemble/_forest.py\u001b[0m in \u001b[0;36mfit\u001b[0;34m(self, X, y, sample_weight)\u001b[0m\n\u001b[1;32m    471\u001b[0m             \u001b[0;31m# parallel_backend contexts set at a higher level,\u001b[0m\u001b[0;34m\u001b[0m\u001b[0;34m\u001b[0m\u001b[0m\n\u001b[1;32m    472\u001b[0m             \u001b[0;31m# since correctness does not rely on using threads.\u001b[0m\u001b[0;34m\u001b[0m\u001b[0;34m\u001b[0m\u001b[0m\n\u001b[0;32m--> 473\u001b[0;31m             trees = Parallel(\n\u001b[0m\u001b[1;32m    474\u001b[0m                 \u001b[0mn_jobs\u001b[0m\u001b[0;34m=\u001b[0m\u001b[0mself\u001b[0m\u001b[0;34m.\u001b[0m\u001b[0mn_jobs\u001b[0m\u001b[0;34m,\u001b[0m\u001b[0;34m\u001b[0m\u001b[0;34m\u001b[0m\u001b[0m\n\u001b[1;32m    475\u001b[0m                 \u001b[0mverbose\u001b[0m\u001b[0;34m=\u001b[0m\u001b[0mself\u001b[0m\u001b[0;34m.\u001b[0m\u001b[0mverbose\u001b[0m\u001b[0;34m,\u001b[0m\u001b[0;34m\u001b[0m\u001b[0;34m\u001b[0m\u001b[0m\n",
      "\u001b[0;32m/usr/local/lib/python3.10/dist-packages/sklearn/utils/parallel.py\u001b[0m in \u001b[0;36m__call__\u001b[0;34m(self, iterable)\u001b[0m\n\u001b[1;32m     61\u001b[0m             \u001b[0;32mfor\u001b[0m \u001b[0mdelayed_func\u001b[0m\u001b[0;34m,\u001b[0m \u001b[0margs\u001b[0m\u001b[0;34m,\u001b[0m \u001b[0mkwargs\u001b[0m \u001b[0;32min\u001b[0m \u001b[0miterable\u001b[0m\u001b[0;34m\u001b[0m\u001b[0;34m\u001b[0m\u001b[0m\n\u001b[1;32m     62\u001b[0m         )\n\u001b[0;32m---> 63\u001b[0;31m         \u001b[0;32mreturn\u001b[0m \u001b[0msuper\u001b[0m\u001b[0;34m(\u001b[0m\u001b[0;34m)\u001b[0m\u001b[0;34m.\u001b[0m\u001b[0m__call__\u001b[0m\u001b[0;34m(\u001b[0m\u001b[0miterable_with_config\u001b[0m\u001b[0;34m)\u001b[0m\u001b[0;34m\u001b[0m\u001b[0;34m\u001b[0m\u001b[0m\n\u001b[0m\u001b[1;32m     64\u001b[0m \u001b[0;34m\u001b[0m\u001b[0m\n\u001b[1;32m     65\u001b[0m \u001b[0;34m\u001b[0m\u001b[0m\n",
      "\u001b[0;32m/usr/local/lib/python3.10/dist-packages/joblib/parallel.py\u001b[0m in \u001b[0;36m__call__\u001b[0;34m(self, iterable)\u001b[0m\n\u001b[1;32m   1861\u001b[0m             \u001b[0moutput\u001b[0m \u001b[0;34m=\u001b[0m \u001b[0mself\u001b[0m\u001b[0;34m.\u001b[0m\u001b[0m_get_sequential_output\u001b[0m\u001b[0;34m(\u001b[0m\u001b[0miterable\u001b[0m\u001b[0;34m)\u001b[0m\u001b[0;34m\u001b[0m\u001b[0;34m\u001b[0m\u001b[0m\n\u001b[1;32m   1862\u001b[0m             \u001b[0mnext\u001b[0m\u001b[0;34m(\u001b[0m\u001b[0moutput\u001b[0m\u001b[0;34m)\u001b[0m\u001b[0;34m\u001b[0m\u001b[0;34m\u001b[0m\u001b[0m\n\u001b[0;32m-> 1863\u001b[0;31m             \u001b[0;32mreturn\u001b[0m \u001b[0moutput\u001b[0m \u001b[0;32mif\u001b[0m \u001b[0mself\u001b[0m\u001b[0;34m.\u001b[0m\u001b[0mreturn_generator\u001b[0m \u001b[0;32melse\u001b[0m \u001b[0mlist\u001b[0m\u001b[0;34m(\u001b[0m\u001b[0moutput\u001b[0m\u001b[0;34m)\u001b[0m\u001b[0;34m\u001b[0m\u001b[0;34m\u001b[0m\u001b[0m\n\u001b[0m\u001b[1;32m   1864\u001b[0m \u001b[0;34m\u001b[0m\u001b[0m\n\u001b[1;32m   1865\u001b[0m         \u001b[0;31m# Let's create an ID that uniquely identifies the current call. If the\u001b[0m\u001b[0;34m\u001b[0m\u001b[0;34m\u001b[0m\u001b[0m\n",
      "\u001b[0;32m/usr/local/lib/python3.10/dist-packages/joblib/parallel.py\u001b[0m in \u001b[0;36m_get_sequential_output\u001b[0;34m(self, iterable)\u001b[0m\n\u001b[1;32m   1790\u001b[0m                 \u001b[0mself\u001b[0m\u001b[0;34m.\u001b[0m\u001b[0mn_dispatched_batches\u001b[0m \u001b[0;34m+=\u001b[0m \u001b[0;36m1\u001b[0m\u001b[0;34m\u001b[0m\u001b[0;34m\u001b[0m\u001b[0m\n\u001b[1;32m   1791\u001b[0m                 \u001b[0mself\u001b[0m\u001b[0;34m.\u001b[0m\u001b[0mn_dispatched_tasks\u001b[0m \u001b[0;34m+=\u001b[0m \u001b[0;36m1\u001b[0m\u001b[0;34m\u001b[0m\u001b[0;34m\u001b[0m\u001b[0m\n\u001b[0;32m-> 1792\u001b[0;31m                 \u001b[0mres\u001b[0m \u001b[0;34m=\u001b[0m \u001b[0mfunc\u001b[0m\u001b[0;34m(\u001b[0m\u001b[0;34m*\u001b[0m\u001b[0margs\u001b[0m\u001b[0;34m,\u001b[0m \u001b[0;34m**\u001b[0m\u001b[0mkwargs\u001b[0m\u001b[0;34m)\u001b[0m\u001b[0;34m\u001b[0m\u001b[0;34m\u001b[0m\u001b[0m\n\u001b[0m\u001b[1;32m   1793\u001b[0m                 \u001b[0mself\u001b[0m\u001b[0;34m.\u001b[0m\u001b[0mn_completed_tasks\u001b[0m \u001b[0;34m+=\u001b[0m \u001b[0;36m1\u001b[0m\u001b[0;34m\u001b[0m\u001b[0;34m\u001b[0m\u001b[0m\n\u001b[1;32m   1794\u001b[0m                 \u001b[0mself\u001b[0m\u001b[0;34m.\u001b[0m\u001b[0mprint_progress\u001b[0m\u001b[0;34m(\u001b[0m\u001b[0;34m)\u001b[0m\u001b[0;34m\u001b[0m\u001b[0;34m\u001b[0m\u001b[0m\n",
      "\u001b[0;32m/usr/local/lib/python3.10/dist-packages/sklearn/utils/parallel.py\u001b[0m in \u001b[0;36m__call__\u001b[0;34m(self, *args, **kwargs)\u001b[0m\n\u001b[1;32m    121\u001b[0m             \u001b[0mconfig\u001b[0m \u001b[0;34m=\u001b[0m \u001b[0;34m{\u001b[0m\u001b[0;34m}\u001b[0m\u001b[0;34m\u001b[0m\u001b[0;34m\u001b[0m\u001b[0m\n\u001b[1;32m    122\u001b[0m         \u001b[0;32mwith\u001b[0m \u001b[0mconfig_context\u001b[0m\u001b[0;34m(\u001b[0m\u001b[0;34m**\u001b[0m\u001b[0mconfig\u001b[0m\u001b[0;34m)\u001b[0m\u001b[0;34m:\u001b[0m\u001b[0;34m\u001b[0m\u001b[0;34m\u001b[0m\u001b[0m\n\u001b[0;32m--> 123\u001b[0;31m             \u001b[0;32mreturn\u001b[0m \u001b[0mself\u001b[0m\u001b[0;34m.\u001b[0m\u001b[0mfunction\u001b[0m\u001b[0;34m(\u001b[0m\u001b[0;34m*\u001b[0m\u001b[0margs\u001b[0m\u001b[0;34m,\u001b[0m \u001b[0;34m**\u001b[0m\u001b[0mkwargs\u001b[0m\u001b[0;34m)\u001b[0m\u001b[0;34m\u001b[0m\u001b[0;34m\u001b[0m\u001b[0m\n\u001b[0m",
      "\u001b[0;32m/usr/local/lib/python3.10/dist-packages/sklearn/ensemble/_forest.py\u001b[0m in \u001b[0;36m_parallel_build_trees\u001b[0;34m(tree, bootstrap, X, y, sample_weight, tree_idx, n_trees, verbose, class_weight, n_samples_bootstrap)\u001b[0m\n\u001b[1;32m    182\u001b[0m             \u001b[0mcurr_sample_weight\u001b[0m \u001b[0;34m*=\u001b[0m \u001b[0mcompute_sample_weight\u001b[0m\u001b[0;34m(\u001b[0m\u001b[0;34m\"balanced\"\u001b[0m\u001b[0;34m,\u001b[0m \u001b[0my\u001b[0m\u001b[0;34m,\u001b[0m \u001b[0mindices\u001b[0m\u001b[0;34m=\u001b[0m\u001b[0mindices\u001b[0m\u001b[0;34m)\u001b[0m\u001b[0;34m\u001b[0m\u001b[0;34m\u001b[0m\u001b[0m\n\u001b[1;32m    183\u001b[0m \u001b[0;34m\u001b[0m\u001b[0m\n\u001b[0;32m--> 184\u001b[0;31m         \u001b[0mtree\u001b[0m\u001b[0;34m.\u001b[0m\u001b[0mfit\u001b[0m\u001b[0;34m(\u001b[0m\u001b[0mX\u001b[0m\u001b[0;34m,\u001b[0m \u001b[0my\u001b[0m\u001b[0;34m,\u001b[0m \u001b[0msample_weight\u001b[0m\u001b[0;34m=\u001b[0m\u001b[0mcurr_sample_weight\u001b[0m\u001b[0;34m,\u001b[0m \u001b[0mcheck_input\u001b[0m\u001b[0;34m=\u001b[0m\u001b[0;32mFalse\u001b[0m\u001b[0;34m)\u001b[0m\u001b[0;34m\u001b[0m\u001b[0;34m\u001b[0m\u001b[0m\n\u001b[0m\u001b[1;32m    185\u001b[0m     \u001b[0;32melse\u001b[0m\u001b[0;34m:\u001b[0m\u001b[0;34m\u001b[0m\u001b[0;34m\u001b[0m\u001b[0m\n\u001b[1;32m    186\u001b[0m         \u001b[0mtree\u001b[0m\u001b[0;34m.\u001b[0m\u001b[0mfit\u001b[0m\u001b[0;34m(\u001b[0m\u001b[0mX\u001b[0m\u001b[0;34m,\u001b[0m \u001b[0my\u001b[0m\u001b[0;34m,\u001b[0m \u001b[0msample_weight\u001b[0m\u001b[0;34m=\u001b[0m\u001b[0msample_weight\u001b[0m\u001b[0;34m,\u001b[0m \u001b[0mcheck_input\u001b[0m\u001b[0;34m=\u001b[0m\u001b[0;32mFalse\u001b[0m\u001b[0;34m)\u001b[0m\u001b[0;34m\u001b[0m\u001b[0;34m\u001b[0m\u001b[0m\n",
      "\u001b[0;32m/usr/local/lib/python3.10/dist-packages/sklearn/tree/_classes.py\u001b[0m in \u001b[0;36mfit\u001b[0;34m(self, X, y, sample_weight, check_input)\u001b[0m\n\u001b[1;32m    887\u001b[0m         \"\"\"\n\u001b[1;32m    888\u001b[0m \u001b[0;34m\u001b[0m\u001b[0m\n\u001b[0;32m--> 889\u001b[0;31m         super().fit(\n\u001b[0m\u001b[1;32m    890\u001b[0m             \u001b[0mX\u001b[0m\u001b[0;34m,\u001b[0m\u001b[0;34m\u001b[0m\u001b[0;34m\u001b[0m\u001b[0m\n\u001b[1;32m    891\u001b[0m             \u001b[0my\u001b[0m\u001b[0;34m,\u001b[0m\u001b[0;34m\u001b[0m\u001b[0;34m\u001b[0m\u001b[0m\n",
      "\u001b[0;32m/usr/local/lib/python3.10/dist-packages/sklearn/tree/_classes.py\u001b[0m in \u001b[0;36mfit\u001b[0;34m(self, X, y, sample_weight, check_input)\u001b[0m\n\u001b[1;32m    377\u001b[0m             )\n\u001b[1;32m    378\u001b[0m \u001b[0;34m\u001b[0m\u001b[0m\n\u001b[0;32m--> 379\u001b[0;31m         \u001b[0mbuilder\u001b[0m\u001b[0;34m.\u001b[0m\u001b[0mbuild\u001b[0m\u001b[0;34m(\u001b[0m\u001b[0mself\u001b[0m\u001b[0;34m.\u001b[0m\u001b[0mtree_\u001b[0m\u001b[0;34m,\u001b[0m \u001b[0mX\u001b[0m\u001b[0;34m,\u001b[0m \u001b[0my\u001b[0m\u001b[0;34m,\u001b[0m \u001b[0msample_weight\u001b[0m\u001b[0;34m)\u001b[0m\u001b[0;34m\u001b[0m\u001b[0;34m\u001b[0m\u001b[0m\n\u001b[0m\u001b[1;32m    380\u001b[0m \u001b[0;34m\u001b[0m\u001b[0m\n\u001b[1;32m    381\u001b[0m         \u001b[0;32mif\u001b[0m \u001b[0mself\u001b[0m\u001b[0;34m.\u001b[0m\u001b[0mn_outputs_\u001b[0m \u001b[0;34m==\u001b[0m \u001b[0;36m1\u001b[0m \u001b[0;32mand\u001b[0m \u001b[0mis_classifier\u001b[0m\u001b[0;34m(\u001b[0m\u001b[0mself\u001b[0m\u001b[0;34m)\u001b[0m\u001b[0;34m:\u001b[0m\u001b[0;34m\u001b[0m\u001b[0;34m\u001b[0m\u001b[0m\n",
      "\u001b[0;31mKeyboardInterrupt\u001b[0m: "
     ]
    }
   ],
   "source": [
    "import numpy as np # Importing libraries for data manipulation\n",
    "from sklearn.model_selection import GridSearchCV # Importing Scikit-learn modules for machine learning tasks\n",
    "from sklearn.ensemble import RandomForestClassifier # Importing Scikit-learn modules for machine learning tasks\n",
    "from sklearn.datasets import make_classification # Importing Scikit-learn modules for machine learning tasks\n",
    "from sklearn.model_selection import train_test_split # Importing Scikit-learn modules for machine learning tasks\n",
    "from sklearn.metrics import make_scorer, log_loss # Importing Scikit-learn modules for machine learning tasks\n",
    "\n",
    "\n",
    "# Split the dataset into training and validation sets\n",
    "X_train, X_val, y_train, y_val = train_test_split(X, y, test_size=0.3, random_state=42)\n",
    "\n",
    "# Define the Random Forest classifier\n",
    "rf = RandomForestClassifier(random_state=42)\n",
    "\n",
    "# Define a scorer that uses negative log loss\n",
    "# Note: In scikit-learn, greater is better for score, so we negate the log loss\n",
    "neg_log_loss_scorer = make_scorer(log_loss, greater_is_better=False, needs_proba=True)\n",
    "\n",
    "# Set up the grid of hyperparameters to search\n",
    "param_grid = {\n",
    "    'n_estimators': [100, 200, 300],\n",
    "    'max_depth': [10, 15, 30],\n",
    "    'min_samples_split': [2, 5, 10]\n",
    "}\n",
    "\n",
    "# Set up GridSearchCV\n",
    "grid_search = GridSearchCV(estimator=rf, param_grid=param_grid, cv=5, scoring=neg_log_loss_scorer, verbose=2)\n",
    "\n",
    "# Fit the model\n",
    "grid_search.fit(X_train, y_train)\n",
    "\n",
    "# Best parameters and score\n",
    "print(\"Best parameters:\", grid_search.best_params_)\n",
    "print(\"Best score (negative log loss):\", grid_search.best_score_)\n",
    "\n",
    "# Evaluate on validation set\n",
    "val_score = log_loss(y_val, grid_search.best_estimator_.predict_proba(X_val))\n",
    "print(\"Validation set log loss:\", val_score)"
   ]
  },
  {
   "cell_type": "code",
   "execution_count": null,
   "metadata": {
    "colab": {
     "base_uri": "https://localhost:8080/",
     "height": 226
    },
    "id": "fBzQ-S96-j92",
    "outputId": "de612d78-d5cf-4746-98bd-09d8f4b493f3"
   },
   "outputs": [
    {
     "data": {
      "text/html": [
       "\n",
       "  <div id=\"df-a1d083a8-ad82-4b13-bb8b-cfe1157b49be\" class=\"colab-df-container\">\n",
       "    <div>\n",
       "<style scoped>\n",
       "    .dataframe tbody tr th:only-of-type {\n",
       "        vertical-align: middle;\n",
       "    }\n",
       "\n",
       "    .dataframe tbody tr th {\n",
       "        vertical-align: top;\n",
       "    }\n",
       "\n",
       "    .dataframe thead th {\n",
       "        text-align: right;\n",
       "    }\n",
       "</style>\n",
       "<table border=\"1\" class=\"dataframe\">\n",
       "  <thead>\n",
       "    <tr style=\"text-align: right;\">\n",
       "      <th></th>\n",
       "      <th>part_of_day</th>\n",
       "      <th>C21</th>\n",
       "      <th>site_id</th>\n",
       "      <th>site_domain</th>\n",
       "      <th>device_model</th>\n",
       "      <th>C14</th>\n",
       "      <th>C20</th>\n",
       "      <th>device_id</th>\n",
       "      <th>C15</th>\n",
       "      <th>site_category</th>\n",
       "      <th>C16</th>\n",
       "      <th>app_id</th>\n",
       "      <th>day_of_week</th>\n",
       "      <th>C19</th>\n",
       "      <th>click</th>\n",
       "      <th>device_ip</th>\n",
       "    </tr>\n",
       "  </thead>\n",
       "  <tbody>\n",
       "    <tr>\n",
       "      <th>0</th>\n",
       "      <td>4</td>\n",
       "      <td>61</td>\n",
       "      <td>3160</td>\n",
       "      <td>3977</td>\n",
       "      <td>1905</td>\n",
       "      <td>9478</td>\n",
       "      <td>100156</td>\n",
       "      <td>1918736</td>\n",
       "      <td>320</td>\n",
       "      <td>24</td>\n",
       "      <td>50</td>\n",
       "      <td>8433</td>\n",
       "      <td>3</td>\n",
       "      <td>1451</td>\n",
       "      <td>0</td>\n",
       "      <td>4216800</td>\n",
       "    </tr>\n",
       "    <tr>\n",
       "      <th>1</th>\n",
       "      <td>2</td>\n",
       "      <td>52</td>\n",
       "      <td>1794</td>\n",
       "      <td>7506</td>\n",
       "      <td>3285</td>\n",
       "      <td>23438</td>\n",
       "      <td>-1</td>\n",
       "      <td>419233</td>\n",
       "      <td>320</td>\n",
       "      <td>6</td>\n",
       "      <td>50</td>\n",
       "      <td>8433</td>\n",
       "      <td>3</td>\n",
       "      <td>1327</td>\n",
       "      <td>0</td>\n",
       "      <td>3123983</td>\n",
       "    </tr>\n",
       "    <tr>\n",
       "      <th>2</th>\n",
       "      <td>4</td>\n",
       "      <td>159</td>\n",
       "      <td>2546</td>\n",
       "      <td>6124</td>\n",
       "      <td>2394</td>\n",
       "      <td>20395</td>\n",
       "      <td>100111</td>\n",
       "      <td>2344466</td>\n",
       "      <td>320</td>\n",
       "      <td>6</td>\n",
       "      <td>50</td>\n",
       "      <td>8325</td>\n",
       "      <td>6</td>\n",
       "      <td>41</td>\n",
       "      <td>0</td>\n",
       "      <td>1354533</td>\n",
       "    </tr>\n",
       "    <tr>\n",
       "      <th>3</th>\n",
       "      <td>2</td>\n",
       "      <td>71</td>\n",
       "      <td>2546</td>\n",
       "      <td>6124</td>\n",
       "      <td>162</td>\n",
       "      <td>21191</td>\n",
       "      <td>100189</td>\n",
       "      <td>1918736</td>\n",
       "      <td>320</td>\n",
       "      <td>6</td>\n",
       "      <td>50</td>\n",
       "      <td>5231</td>\n",
       "      <td>3</td>\n",
       "      <td>175</td>\n",
       "      <td>0</td>\n",
       "      <td>2426860</td>\n",
       "    </tr>\n",
       "    <tr>\n",
       "      <th>4</th>\n",
       "      <td>2</td>\n",
       "      <td>212</td>\n",
       "      <td>2546</td>\n",
       "      <td>6124</td>\n",
       "      <td>803</td>\n",
       "      <td>23551</td>\n",
       "      <td>100084</td>\n",
       "      <td>794370</td>\n",
       "      <td>320</td>\n",
       "      <td>6</td>\n",
       "      <td>50</td>\n",
       "      <td>181</td>\n",
       "      <td>3</td>\n",
       "      <td>163</td>\n",
       "      <td>0</td>\n",
       "      <td>6108944</td>\n",
       "    </tr>\n",
       "  </tbody>\n",
       "</table>\n",
       "</div>\n",
       "    <div class=\"colab-df-buttons\">\n",
       "\n",
       "  <div class=\"colab-df-container\">\n",
       "    <button class=\"colab-df-convert\" onclick=\"convertToInteractive('df-a1d083a8-ad82-4b13-bb8b-cfe1157b49be')\"\n",
       "            title=\"Convert this dataframe to an interactive table.\"\n",
       "            style=\"display:none;\">\n",
       "\n",
       "  <svg xmlns=\"http://www.w3.org/2000/svg\" height=\"24px\" viewBox=\"0 -960 960 960\">\n",
       "    <path d=\"M120-120v-720h720v720H120Zm60-500h600v-160H180v160Zm220 220h160v-160H400v160Zm0 220h160v-160H400v160ZM180-400h160v-160H180v160Zm440 0h160v-160H620v160ZM180-180h160v-160H180v160Zm440 0h160v-160H620v160Z\"/>\n",
       "  </svg>\n",
       "    </button>\n",
       "\n",
       "  <style>\n",
       "    .colab-df-container {\n",
       "      display:flex;\n",
       "      gap: 12px;\n",
       "    }\n",
       "\n",
       "    .colab-df-convert {\n",
       "      background-color: #E8F0FE;\n",
       "      border: none;\n",
       "      border-radius: 50%;\n",
       "      cursor: pointer;\n",
       "      display: none;\n",
       "      fill: #1967D2;\n",
       "      height: 32px;\n",
       "      padding: 0 0 0 0;\n",
       "      width: 32px;\n",
       "    }\n",
       "\n",
       "    .colab-df-convert:hover {\n",
       "      background-color: #E2EBFA;\n",
       "      box-shadow: 0px 1px 2px rgba(60, 64, 67, 0.3), 0px 1px 3px 1px rgba(60, 64, 67, 0.15);\n",
       "      fill: #174EA6;\n",
       "    }\n",
       "\n",
       "    .colab-df-buttons div {\n",
       "      margin-bottom: 4px;\n",
       "    }\n",
       "\n",
       "    [theme=dark] .colab-df-convert {\n",
       "      background-color: #3B4455;\n",
       "      fill: #D2E3FC;\n",
       "    }\n",
       "\n",
       "    [theme=dark] .colab-df-convert:hover {\n",
       "      background-color: #434B5C;\n",
       "      box-shadow: 0px 1px 3px 1px rgba(0, 0, 0, 0.15);\n",
       "      filter: drop-shadow(0px 1px 2px rgba(0, 0, 0, 0.3));\n",
       "      fill: #FFFFFF;\n",
       "    }\n",
       "  </style>\n",
       "\n",
       "    <script>\n",
       "      const buttonEl =\n",
       "        document.querySelector('#df-a1d083a8-ad82-4b13-bb8b-cfe1157b49be button.colab-df-convert');\n",
       "      buttonEl.style.display =\n",
       "        google.colab.kernel.accessAllowed ? 'block' : 'none';\n",
       "\n",
       "      async function convertToInteractive(key) {\n",
       "        const element = document.querySelector('#df-a1d083a8-ad82-4b13-bb8b-cfe1157b49be');\n",
       "        const dataTable =\n",
       "          await google.colab.kernel.invokeFunction('convertToInteractive',\n",
       "                                                    [key], {});\n",
       "        if (!dataTable) return;\n",
       "\n",
       "        const docLinkHtml = 'Like what you see? Visit the ' +\n",
       "          '<a target=\"_blank\" href=https://colab.research.google.com/notebooks/data_table.ipynb>data table notebook</a>'\n",
       "          + ' to learn more about interactive tables.';\n",
       "        element.innerHTML = '';\n",
       "        dataTable['output_type'] = 'display_data';\n",
       "        await google.colab.output.renderOutput(dataTable, element);\n",
       "        const docLink = document.createElement('div');\n",
       "        docLink.innerHTML = docLinkHtml;\n",
       "        element.appendChild(docLink);\n",
       "      }\n",
       "    </script>\n",
       "  </div>\n",
       "\n",
       "\n",
       "<div id=\"df-534478b8-48a0-42a0-8af5-a8c5ea5728f4\">\n",
       "  <button class=\"colab-df-quickchart\" onclick=\"quickchart('df-534478b8-48a0-42a0-8af5-a8c5ea5728f4')\"\n",
       "            title=\"Suggest charts\"\n",
       "            style=\"display:none;\">\n",
       "\n",
       "<svg xmlns=\"http://www.w3.org/2000/svg\" height=\"24px\"viewBox=\"0 0 24 24\"\n",
       "     width=\"24px\">\n",
       "    <g>\n",
       "        <path d=\"M19 3H5c-1.1 0-2 .9-2 2v14c0 1.1.9 2 2 2h14c1.1 0 2-.9 2-2V5c0-1.1-.9-2-2-2zM9 17H7v-7h2v7zm4 0h-2V7h2v10zm4 0h-2v-4h2v4z\"/>\n",
       "    </g>\n",
       "</svg>\n",
       "  </button>\n",
       "\n",
       "<style>\n",
       "  .colab-df-quickchart {\n",
       "      --bg-color: #E8F0FE;\n",
       "      --fill-color: #1967D2;\n",
       "      --hover-bg-color: #E2EBFA;\n",
       "      --hover-fill-color: #174EA6;\n",
       "      --disabled-fill-color: #AAA;\n",
       "      --disabled-bg-color: #DDD;\n",
       "  }\n",
       "\n",
       "  [theme=dark] .colab-df-quickchart {\n",
       "      --bg-color: #3B4455;\n",
       "      --fill-color: #D2E3FC;\n",
       "      --hover-bg-color: #434B5C;\n",
       "      --hover-fill-color: #FFFFFF;\n",
       "      --disabled-bg-color: #3B4455;\n",
       "      --disabled-fill-color: #666;\n",
       "  }\n",
       "\n",
       "  .colab-df-quickchart {\n",
       "    background-color: var(--bg-color);\n",
       "    border: none;\n",
       "    border-radius: 50%;\n",
       "    cursor: pointer;\n",
       "    display: none;\n",
       "    fill: var(--fill-color);\n",
       "    height: 32px;\n",
       "    padding: 0;\n",
       "    width: 32px;\n",
       "  }\n",
       "\n",
       "  .colab-df-quickchart:hover {\n",
       "    background-color: var(--hover-bg-color);\n",
       "    box-shadow: 0 1px 2px rgba(60, 64, 67, 0.3), 0 1px 3px 1px rgba(60, 64, 67, 0.15);\n",
       "    fill: var(--button-hover-fill-color);\n",
       "  }\n",
       "\n",
       "  .colab-df-quickchart-complete:disabled,\n",
       "  .colab-df-quickchart-complete:disabled:hover {\n",
       "    background-color: var(--disabled-bg-color);\n",
       "    fill: var(--disabled-fill-color);\n",
       "    box-shadow: none;\n",
       "  }\n",
       "\n",
       "  .colab-df-spinner {\n",
       "    border: 2px solid var(--fill-color);\n",
       "    border-color: transparent;\n",
       "    border-bottom-color: var(--fill-color);\n",
       "    animation:\n",
       "      spin 1s steps(1) infinite;\n",
       "  }\n",
       "\n",
       "  @keyframes spin {\n",
       "    0% {\n",
       "      border-color: transparent;\n",
       "      border-bottom-color: var(--fill-color);\n",
       "      border-left-color: var(--fill-color);\n",
       "    }\n",
       "    20% {\n",
       "      border-color: transparent;\n",
       "      border-left-color: var(--fill-color);\n",
       "      border-top-color: var(--fill-color);\n",
       "    }\n",
       "    30% {\n",
       "      border-color: transparent;\n",
       "      border-left-color: var(--fill-color);\n",
       "      border-top-color: var(--fill-color);\n",
       "      border-right-color: var(--fill-color);\n",
       "    }\n",
       "    40% {\n",
       "      border-color: transparent;\n",
       "      border-right-color: var(--fill-color);\n",
       "      border-top-color: var(--fill-color);\n",
       "    }\n",
       "    60% {\n",
       "      border-color: transparent;\n",
       "      border-right-color: var(--fill-color);\n",
       "    }\n",
       "    80% {\n",
       "      border-color: transparent;\n",
       "      border-right-color: var(--fill-color);\n",
       "      border-bottom-color: var(--fill-color);\n",
       "    }\n",
       "    90% {\n",
       "      border-color: transparent;\n",
       "      border-bottom-color: var(--fill-color);\n",
       "    }\n",
       "  }\n",
       "</style>\n",
       "\n",
       "  <script>\n",
       "    async function quickchart(key) {\n",
       "      const quickchartButtonEl =\n",
       "        document.querySelector('#' + key + ' button');\n",
       "      quickchartButtonEl.disabled = true;  // To prevent multiple clicks.\n",
       "      quickchartButtonEl.classList.add('colab-df-spinner');\n",
       "      try {\n",
       "        const charts = await google.colab.kernel.invokeFunction(\n",
       "            'suggestCharts', [key], {});\n",
       "      } catch (error) {\n",
       "        console.error('Error during call to suggestCharts:', error);\n",
       "      }\n",
       "      quickchartButtonEl.classList.remove('colab-df-spinner');\n",
       "      quickchartButtonEl.classList.add('colab-df-quickchart-complete');\n",
       "    }\n",
       "    (() => {\n",
       "      let quickchartButtonEl =\n",
       "        document.querySelector('#df-534478b8-48a0-42a0-8af5-a8c5ea5728f4 button');\n",
       "      quickchartButtonEl.style.display =\n",
       "        google.colab.kernel.accessAllowed ? 'block' : 'none';\n",
       "    })();\n",
       "  </script>\n",
       "</div>\n",
       "\n",
       "    </div>\n",
       "  </div>\n"
      ],
      "text/plain": [
       "   part_of_day  C21  site_id  site_domain  device_model    C14     C20  \\\n",
       "0            4   61     3160         3977          1905   9478  100156   \n",
       "1            2   52     1794         7506          3285  23438      -1   \n",
       "2            4  159     2546         6124          2394  20395  100111   \n",
       "3            2   71     2546         6124           162  21191  100189   \n",
       "4            2  212     2546         6124           803  23551  100084   \n",
       "\n",
       "   device_id  C15  site_category  C16  app_id  day_of_week   C19  click  \\\n",
       "0    1918736  320             24   50    8433            3  1451      0   \n",
       "1     419233  320              6   50    8433            3  1327      0   \n",
       "2    2344466  320              6   50    8325            6    41      0   \n",
       "3    1918736  320              6   50    5231            3   175      0   \n",
       "4     794370  320              6   50     181            3   163      0   \n",
       "\n",
       "   device_ip  \n",
       "0    4216800  \n",
       "1    3123983  \n",
       "2    1354533  \n",
       "3    2426860  \n",
       "4    6108944  "
      ]
     },
     "execution_count": 11,
     "metadata": {},
     "output_type": "execute_result"
    }
   ],
   "source": [
    "data.head()"
   ]
  },
  {
   "cell_type": "code",
   "execution_count": 6,
   "metadata": {
    "colab": {
     "base_uri": "https://localhost:8080/"
    },
    "id": "zFeDRIVACZ9I",
    "outputId": "f56f2cc7-eb73-4ce2-b652-8913be755b53"
   },
   "outputs": [
    {
     "name": "stdout",
     "output_type": "stream",
     "text": [
      "Best parameters: {'n_estimators': 300, 'max_depth': 20}\n",
      "Best score (log loss): 0.39762833751658744\n"
     ]
    }
   ],
   "source": [
    "from sklearn.ensemble import RandomForestClassifier # Importing Scikit-learn modules for machine learning tasks\n",
    "from sklearn.metrics import log_loss # Importing Scikit-learn modules for machine learning tasks\n",
    "from sklearn.model_selection import train_test_split # Importing Scikit-learn modules for machine learning tasks\n",
    "\n",
    "# ... [data loading code]\n",
    "\n",
    "# Split the dataset\n",
    "X_train, X_val, y_train, y_val = train_test_split(X, y, test_size=0.3, random_state=42)\n",
    "\n",
    "# Define a range of values for n_estimators and max_depth\n",
    "n_estimators_options = [100, 200, 300]\n",
    "max_depth_options = [10, 15, 20]\n",
    "\n",
    "best_score = float(\"inf\")\n",
    "best_params = {}\n",
    "\n",
    "# Iterate over the range of values\n",
    "for n_estimators in n_estimators_options:\n",
    "    for max_depth in max_depth_options:\n",
    "        # Train the model\n",
    "        rf_model = RandomForestClassifier(n_estimators=n_estimators, max_depth=max_depth, random_state=42)\n",
    "        rf_model.fit(X_train, y_train)\n",
    "\n",
    "        # Evaluate the model\n",
    "        val_score = log_loss(y_val, rf_model.predict_proba(X_val))\n",
    "\n",
    "        # Update best score and parameters\n",
    "        if val_score < best_score:\n",
    "            best_score = val_score\n",
    "            best_params = {'n_estimators': n_estimators, 'max_depth': max_depth}\n",
    "\n",
    "# Print the best parameters and corresponding score\n",
    "print(\"Best parameters:\", best_params)\n",
    "print(\"Best score (log loss):\", best_score)\n"
   ]
  },
  {
   "cell_type": "code",
   "execution_count": 7,
   "metadata": {
    "colab": {
     "base_uri": "https://localhost:8080/",
     "height": 75
    },
    "id": "yxD8uEl2MKx9",
    "outputId": "47b433ff-db6f-4599-ad1e-2139d61be31b"
   },
   "outputs": [
    {
     "data": {
      "text/html": [
       "<style>#sk-container-id-1 {color: black;background-color: white;}#sk-container-id-1 pre{padding: 0;}#sk-container-id-1 div.sk-toggleable {background-color: white;}#sk-container-id-1 label.sk-toggleable__label {cursor: pointer;display: block;width: 100%;margin-bottom: 0;padding: 0.3em;box-sizing: border-box;text-align: center;}#sk-container-id-1 label.sk-toggleable__label-arrow:before {content: \"▸\";float: left;margin-right: 0.25em;color: #696969;}#sk-container-id-1 label.sk-toggleable__label-arrow:hover:before {color: black;}#sk-container-id-1 div.sk-estimator:hover label.sk-toggleable__label-arrow:before {color: black;}#sk-container-id-1 div.sk-toggleable__content {max-height: 0;max-width: 0;overflow: hidden;text-align: left;background-color: #f0f8ff;}#sk-container-id-1 div.sk-toggleable__content pre {margin: 0.2em;color: black;border-radius: 0.25em;background-color: #f0f8ff;}#sk-container-id-1 input.sk-toggleable__control:checked~div.sk-toggleable__content {max-height: 200px;max-width: 100%;overflow: auto;}#sk-container-id-1 input.sk-toggleable__control:checked~label.sk-toggleable__label-arrow:before {content: \"▾\";}#sk-container-id-1 div.sk-estimator input.sk-toggleable__control:checked~label.sk-toggleable__label {background-color: #d4ebff;}#sk-container-id-1 div.sk-label input.sk-toggleable__control:checked~label.sk-toggleable__label {background-color: #d4ebff;}#sk-container-id-1 input.sk-hidden--visually {border: 0;clip: rect(1px 1px 1px 1px);clip: rect(1px, 1px, 1px, 1px);height: 1px;margin: -1px;overflow: hidden;padding: 0;position: absolute;width: 1px;}#sk-container-id-1 div.sk-estimator {font-family: monospace;background-color: #f0f8ff;border: 1px dotted black;border-radius: 0.25em;box-sizing: border-box;margin-bottom: 0.5em;}#sk-container-id-1 div.sk-estimator:hover {background-color: #d4ebff;}#sk-container-id-1 div.sk-parallel-item::after {content: \"\";width: 100%;border-bottom: 1px solid gray;flex-grow: 1;}#sk-container-id-1 div.sk-label:hover label.sk-toggleable__label {background-color: #d4ebff;}#sk-container-id-1 div.sk-serial::before {content: \"\";position: absolute;border-left: 1px solid gray;box-sizing: border-box;top: 0;bottom: 0;left: 50%;z-index: 0;}#sk-container-id-1 div.sk-serial {display: flex;flex-direction: column;align-items: center;background-color: white;padding-right: 0.2em;padding-left: 0.2em;position: relative;}#sk-container-id-1 div.sk-item {position: relative;z-index: 1;}#sk-container-id-1 div.sk-parallel {display: flex;align-items: stretch;justify-content: center;background-color: white;position: relative;}#sk-container-id-1 div.sk-item::before, #sk-container-id-1 div.sk-parallel-item::before {content: \"\";position: absolute;border-left: 1px solid gray;box-sizing: border-box;top: 0;bottom: 0;left: 50%;z-index: -1;}#sk-container-id-1 div.sk-parallel-item {display: flex;flex-direction: column;z-index: 1;position: relative;background-color: white;}#sk-container-id-1 div.sk-parallel-item:first-child::after {align-self: flex-end;width: 50%;}#sk-container-id-1 div.sk-parallel-item:last-child::after {align-self: flex-start;width: 50%;}#sk-container-id-1 div.sk-parallel-item:only-child::after {width: 0;}#sk-container-id-1 div.sk-dashed-wrapped {border: 1px dashed gray;margin: 0 0.4em 0.5em 0.4em;box-sizing: border-box;padding-bottom: 0.4em;background-color: white;}#sk-container-id-1 div.sk-label label {font-family: monospace;font-weight: bold;display: inline-block;line-height: 1.2em;}#sk-container-id-1 div.sk-label-container {text-align: center;}#sk-container-id-1 div.sk-container {/* jupyter's `normalize.less` sets `[hidden] { display: none; }` but bootstrap.min.css set `[hidden] { display: none !important; }` so we also need the `!important` here to be able to override the default hidden behavior on the sphinx rendered scikit-learn.org. See: https://github.com/scikit-learn/scikit-learn/issues/21755 */display: inline-block !important;position: relative;}#sk-container-id-1 div.sk-text-repr-fallback {display: none;}</style><div id=\"sk-container-id-1\" class=\"sk-top-container\"><div class=\"sk-text-repr-fallback\"><pre>RandomForestClassifier(max_depth=20, n_estimators=300, random_state=42)</pre><b>In a Jupyter environment, please rerun this cell to show the HTML representation or trust the notebook. <br />On GitHub, the HTML representation is unable to render, please try loading this page with nbviewer.org.</b></div><div class=\"sk-container\" hidden><div class=\"sk-item\"><div class=\"sk-estimator sk-toggleable\"><input class=\"sk-toggleable__control sk-hidden--visually\" id=\"sk-estimator-id-1\" type=\"checkbox\" checked><label for=\"sk-estimator-id-1\" class=\"sk-toggleable__label sk-toggleable__label-arrow\">RandomForestClassifier</label><div class=\"sk-toggleable__content\"><pre>RandomForestClassifier(max_depth=20, n_estimators=300, random_state=42)</pre></div></div></div></div></div>"
      ],
      "text/plain": [
       "RandomForestClassifier(max_depth=20, n_estimators=300, random_state=42)"
      ]
     },
     "execution_count": 7,
     "metadata": {},
     "output_type": "execute_result"
    }
   ],
   "source": [
    "rf_model = RandomForestClassifier(n_estimators=300, max_depth=20, random_state=42)\n",
    "rf_model.fit(X_train, y_train)"
   ]
  },
  {
   "cell_type": "code",
   "execution_count": 8,
   "metadata": {
    "id": "oVcK9z9GDXWw"
   },
   "outputs": [],
   "source": [
    "pred = rf_model.predict(X_val)"
   ]
  },
  {
   "cell_type": "code",
   "execution_count": 10,
   "metadata": {
    "colab": {
     "base_uri": "https://localhost:8080/",
     "height": 71
    },
    "id": "aPwubejFU3hy",
    "outputId": "30a18bd8-7d4e-4f66-9d45-62d2bbc99bfb"
   },
   "outputs": [
    {
     "data": {
      "application/vnd.google.colaboratory.intrinsic+json": {
       "type": "string"
      },
      "text/plain": [
       "'              precision    recall  f1-score   support\\n\\n           0       0.84      0.99      0.91   1245224\\n           1       0.60      0.08      0.14    254776\\n\\n    accuracy                           0.83   1500000\\n   macro avg       0.72      0.53      0.52   1500000\\nweighted avg       0.80      0.83      0.78   1500000\\n'"
      ]
     },
     "execution_count": 10,
     "metadata": {},
     "output_type": "execute_result"
    }
   ],
   "source": [
    "from sklearn.metrics import classification_report, confusion_matrix, accuracy_score, log_loss, roc_curve, auc # Importing Scikit-learn modules for machine learning tasks\n",
    "\n",
    "\n",
    "classification_report(y_val, pred)"
   ]
  },
  {
   "cell_type": "code",
   "execution_count": 13,
   "metadata": {
    "colab": {
     "base_uri": "https://localhost:8080/"
    },
    "id": "mwfY3z2bh1ox",
    "outputId": "b4954e53-dd49-4653-f2d4-5cd95d713601"
   },
   "outputs": [
    {
     "name": "stdout",
     "output_type": "stream",
     "text": [
      "[[98.92975079  1.07024921]\n",
      " [92.10914686  7.89085314]]\n"
     ]
    }
   ],
   "source": [
    "from sklearn.metrics import confusion_matrix # Importing Scikit-learn modules for machine learning tasks\n",
    "import numpy as np # Importing libraries for data manipulation\n",
    "\n",
    "# Assuming 'pred' is your predictions and 'y_val' is the true labels\n",
    "\n",
    "# Calculate the confusion matrix\n",
    "cm = confusion_matrix(y_val, pred)\n",
    "\n",
    "# Normalize the confusion matrix\n",
    "cm_normalized = cm.astype('float') / cm.sum(axis=1)[:, np.newaxis]\n",
    "\n",
    "# Convert to percentage\n",
    "cm_percentage = cm_normalized * 100\n",
    "\n",
    "# Print or use the confusion matrix in percentage form\n",
    "print(cm_percentage)\n"
   ]
  },
  {
   "cell_type": "code",
   "execution_count": 16,
   "metadata": {
    "colab": {
     "base_uri": "https://localhost:8080/",
     "height": 564
    },
    "id": "4jAIyYQA5dEd",
    "outputId": "9c883fba-7b40-4c24-edc6-b45ee84da8c6"
   },
   "outputs": [
    {
     "data": {
      "image/png": "[encoded data removed]",
      "text/plain": [
       "<Figure size 800x600 with 2 Axes>"
      ]
     },
     "metadata": {},
     "output_type": "display_data"
    }
   ],
   "source": [
    "import matplotlib.pyplot as plt # Importing libraries for data visualization\n",
    "import seaborn as sns # Importing libraries for data visualization\n",
    "from sklearn.metrics import confusion_matrix # Importing Scikit-learn modules for machine learning tasks\n",
    "\n",
    "# Assuming 'y_val' are your true labels and 'pred' are your predictions\n",
    "# You can get the confusion matrix from scikit-learn\n",
    "cm = confusion_matrix(y_val, pred)\n",
    "\n",
    "# Normalize the confusion matrix to show percentages\n",
    "cm_percentage = cm.astype('float') / cm.sum(axis=1)[:, np.newaxis]\n",
    "\n",
    "# Plotting the confusion matrix\n",
    "plt.figure(figsize=(8, 6))\n",
    "sns.heatmap(cm_percentage, annot=True, fmt=\".2%\", cmap='Blues',\n",
    "            xticklabels=['Not Clicked', 'Clicked'],\n",
    "            yticklabels=['Not Clicked', 'Clicked'])\n",
    "plt.title('Confusion Matrix (Percentage)')\n",
    "plt.xlabel('Predicted Label')\n",
    "plt.ylabel('True Label')\n",
    "plt.show()\n"
   ]
  },
  {
   "cell_type": "code",
   "execution_count": null,
   "metadata": {
    "id": "RwvFjhuyQc3f"
   },
   "outputs": [],
   "source": []
  },
  {
   "cell_type": "code",
   "execution_count": null,
   "metadata": {
    "id": "rR7O8UviQ-88"
   },
   "outputs": [],
   "source": [
    "import xgboost as xgb # Importing XGBoost for gradient boosting\n",
    "import numpy as np # Importing libraries for data manipulation\n",
    "from sklearn.model_selection import train_test_split # Importing Scikit-learn modules for machine learning tasks\n",
    "\n",
    "# Define your calculate_log_loss function\n",
    "def calculate_log_loss(y_true, y_pred):\n",
    "    eps = 1e-15\n",
    "    y_pred = np.clip(y_pred, eps, 1 - eps)\n",
    "    return -np.mean(y_true * np.log(y_pred) + (1 - y_true) * np.log(1 - y_pred))\n",
    "\n",
    "# Split the dataset into training and test sets\n",
    "X_train, X_test, y_train, y_test = train_test_split(X, Y, test_size=0.25, random_state=42)\n",
    "\n",
    "# Initialize an XGBoost classifier\n",
    "model = xgb.XGBClassifier(\n",
    "    n_estimators=100,\n",
    "    max_depth=20,\n",
    "    learning_rate=0.1,\n",
    "    objective='binary:logistic',\n",
    "    n_jobs=-1,\n",
    "    random_state=42\n",
    ")\n",
    "\n",
    "# Fit the model to the training set\n",
    "model.fit(X_train, y_train)\n",
    "\n",
    "# Predict probabilities\n",
    "y_pred_prob = model.predict_proba(X_test)[:, 1]  # Assuming a binary classification; adjust if necessary\n",
    "\n",
    "# Calculate log loss\n",
    "log_loss = calculate_log_loss(y_test, y_pred_prob)\n",
    "print(f'Log Loss: {log_loss}')"
   ]
  },
  {
   "cell_type": "code",
   "execution_count": null,
   "metadata": {
    "id": "0GFRIhPERcrG"
   },
   "outputs": [],
   "source": [
    "import numpy as np # Importing libraries for data manipulation\n",
    "import pandas as pd # Importing libraries for data manipulation\n",
    "from sklearn.metrics import confusion_matrix # Importing Scikit-learn modules for machine learning tasks\n",
    "import matplotlib.pyplot as plt # Importing libraries for data visualization\n",
    "import seaborn as sns # Importing libraries for data visualization\n",
    "\n",
    "# Predict class labels based on a threshold\n",
    "threshold = 0.5\n",
    "y_pred_class = (y_pred_prob > threshold).astype(int)\n",
    "\n",
    "# Create the confusion matrix\n",
    "cm = confusion_matrix(y_test, y_pred_class)\n",
    "\n",
    "# Normalize the confusion matrix to show percentages\n",
    "cm_percentage = cm / cm.sum(axis=1).reshape(-1, 1)\n",
    "\n",
    "# Plotting the confusion matrix in percentage\n",
    "plt.figure(figsize=(8, 6))\n",
    "sns.heatmap(cm_percentage, annot=True, fmt='.2%', cmap='Blues', xticklabels=['Not Clicked', 'Clicked'], yticklabels=['Not Clicked', 'Clicked'])\n",
    "plt.title('Confusion Matrix (Percentage)')\n",
    "plt.xlabel('Predicted Label')\n",
    "plt.ylabel('True Label')\n",
    "plt.show()\n"
   ]
  },
  {
   "cell_type": "code",
   "execution_count": 1,
   "metadata": {
    "id": "xP6KXCwdQdan"
   },
   "outputs": [],
   "source": [
    "# import packages\n",
    "import pandas as pd # Importing libraries for data manipulation\n",
    "import numpy as np # Importing libraries for data manipulation\n",
    "import os # Importing os library for operating system dependent functionality\n",
    "import matplotlib.pyplot as plt # Importing libraries for data visualization\n",
    "import seaborn as sns # Importing libraries for data visualization"
   ]
  },
  {
   "cell_type": "code",
   "execution_count": 2,
   "metadata": {
    "colab": {
     "base_uri": "https://localhost:8080/"
    },
    "id": "d6FEbOTjQddg",
    "outputId": "3f9e482b-0be5-4a35-a23a-850c5921c28f"
   },
   "outputs": [
    {
     "name": "stdout",
     "output_type": "stream",
     "text": [
      "Mounted at /content/drive\n"
     ]
    }
   ],
   "source": [
    "from google.colab import drive # Importing Google Colab module for using Google Drive\n",
    "drive.mount('/content/drive')"
   ]
  },
  {
   "cell_type": "code",
   "execution_count": 3,
   "metadata": {
    "id": "JVUxqWRXQdgF"
   },
   "outputs": [],
   "source": [
    "# Varibales holding path to my datasets both train and test\n",
    "\n",
    "file_path_Train_2 = '/content/drive/MyDrive/AI & ML/Final Project /ProjectTrainingData.csv'\n",
    "file_path_Test_2 = '/content/drive/MyDrive/AI & ML/Final Project /ProjectTestData.csv'"
   ]
  },
  {
   "cell_type": "code",
   "execution_count": 4,
   "metadata": {
    "id": "LOpmFmuEQdje"
   },
   "outputs": [],
   "source": [
    "# Loading datasets\n",
    "data_train = pd.read_csv(file_path_Train_2)\n",
    "data_test = pd.read_csv(file_path_Test_2)"
   ]
  },
  {
   "cell_type": "code",
   "execution_count": 5,
   "metadata": {
    "id": "4BfkxHbQUhIL"
   },
   "outputs": [],
   "source": [
    "def label_encoding_on_train_test(train_df, test_df):\n",
    "    #train_df = train_df.drop('click', axis=1)\n",
    "    cat_cols = train_df.select_dtypes(include='object').columns\n",
    "\n",
    "    train_label_encoded = train_df.copy()\n",
    "    test_label_encoded = test_df.copy()\n",
    "\n",
    "    for col in cat_cols:\n",
    "        le = LabelEncoder()\n",
    "\n",
    "        # Corrected concatenation for fitting the encoder\n",
    "        # It concatenates the values of the column from both dataframes\n",
    "        le.fit(pd.concat([train_df[col], test_df[col]], ignore_index=True))\n",
    "\n",
    "        # Transform the training and test data with the fitted encoder\n",
    "        train_label_encoded[col] = le.transform(train_df[col])\n",
    "        test_label_encoded[col] = le.transform(test_df[col])\n",
    "\n",
    "    return train_label_encoded, test_label_encoded"
   ]
  },
  {
   "cell_type": "code",
   "execution_count": 6,
   "metadata": {
    "id": "YjNlIWWFVCuk"
   },
   "outputs": [],
   "source": [
    "# Reuse the function to perform encoding\n",
    "from sklearn.preprocessing import LabelEncoder # Importing Scikit-learn modules for machine learning tasks\n",
    "train_label_encoded, test_label_encoded = label_encoding_on_train_test(data_train, data_test)"
   ]
  },
  {
   "cell_type": "code",
   "execution_count": 7,
   "metadata": {
    "id": "Ow-EGBKzU7QA"
   },
   "outputs": [],
   "source": [
    "# Transforming hour column in the test dataset before exporting it\n",
    "\n",
    "# Transforming hour variable\n",
    "# Convert 'hour' to datetime\n",
    "test_label_encoded['hour'] = pd.to_datetime(test_label_encoded['hour'], format='%y%m%d%H')\n",
    "\n",
    "# Create 'day_of_week' column\n",
    "test_label_encoded['day_of_week'] = test_label_encoded['hour'].dt.day_name()"
   ]
  },
  {
   "cell_type": "code",
   "execution_count": 8,
   "metadata": {
    "id": "x7WXGPOLVXId"
   },
   "outputs": [],
   "source": [
    "# Function to categorize part of the day with numerical values\n",
    "def get_part_of_day(hour):\n",
    "    if 5 <= hour < 11:\n",
    "        return 1  # morning\n",
    "    elif 11 <= hour < 17:\n",
    "        return 2  # noon\n",
    "    elif 17 <= hour < 20:\n",
    "        return 3  # evening\n",
    "    else:\n",
    "        return 4  # night\n",
    "\n",
    "\n",
    "# Create 'part_of_day' column\n",
    "test_label_encoded['part_of_day'] = test_label_encoded['hour'].dt.hour.apply(get_part_of_day)"
   ]
  },
  {
   "cell_type": "code",
   "execution_count": 9,
   "metadata": {
    "id": "2KkOzKh8Vf1N"
   },
   "outputs": [],
   "source": [
    "# Label encoding day of the week column into numerical values\n",
    "\n",
    "# Sample data\n",
    "days = {'day_of_week': ['Tuesday', 'Wednesday', 'Thursday', 'Friday', 'Saturday', 'Sunday', 'Monday']}\n",
    "# Custom mapping for days of the week\n",
    "day_mapping = {'Monday': 1, 'Tuesday': 2, 'Wednesday': 3, 'Thursday': 4, 'Friday': 5, 'Saturday': 6, 'Sunday': 7}\n",
    "\n",
    "# Apply the mapping to the 'day_of_week' column\n",
    "test_label_encoded['day_of_week'] = test_label_encoded['day_of_week'].map(day_mapping)"
   ]
  },
  {
   "cell_type": "code",
   "execution_count": 14,
   "metadata": {
    "colab": {
     "base_uri": "https://localhost:8080/"
    },
    "id": "Rt9uMdFeV13Z",
    "outputId": "7d7bd509-46ee-45ea-d3ca-29a32a47b42f"
   },
   "outputs": [
    {
     "name": "stdout",
     "output_type": "stream",
     "text": [
      "Drive already mounted at /content/drive; to attempt to forcibly remount, call drive.mount(\"/content/drive\", force_remount=True).\n",
      "File saved to: /content/drive/MyDrive/AI & ML/Final Project /test_label_encoded.csv\n"
     ]
    }
   ],
   "source": [
    "# Saving encoded test dataset on my drive\n",
    "\n",
    "from google.colab import drive # Importing Google Colab module for using Google Drive\n",
    "import os # Importing os library for operating system dependent functionality\n",
    "\n",
    "# Mount your Google Drive\n",
    "drive.mount('/content/drive')\n",
    "\n",
    "# Specify the path where you want to save the file in your Google Drive\n",
    "drive_path = '/content/drive/MyDrive/AI & ML/Final Project /'  # You can change this to a specific folder in your Drive\n",
    "file_name = 'test_label_encoded.csv'\n",
    "full_path = os.path.join(drive_path, file_name)\n",
    "\n",
    "# Convert your DataFrame to a CSV file and save it in the specified path\n",
    "test_label_encoded.to_csv(full_path, index=False)\n",
    "\n",
    "print(f\"File saved to: {full_path}\")\n"
   ]
  },
  {
   "cell_type": "code",
   "execution_count": 17,
   "metadata": {
    "colab": {
     "base_uri": "https://localhost:8080/"
    },
    "id": "r2tsR3idYC71",
    "outputId": "50578eb1-7714-4a7e-d672-7f677aa1ea1b"
   },
   "outputs": [
    {
     "data": {
      "text/plain": [
       "19"
      ]
     },
     "execution_count": 17,
     "metadata": {},
     "output_type": "execute_result"
    }
   ],
   "source": [
    "# To free up RAM by deleting\n",
    "\n",
    "import gc # Importing garbage collection module\n",
    "# Delete the variable\n",
    "del test_label_encoded\n",
    "# Run the garbage collector\n",
    "gc.collect()\n"
   ]
  },
  {
   "cell_type": "code",
   "execution_count": 19,
   "metadata": {
    "colab": {
     "base_uri": "https://localhost:8080/"
    },
    "id": "i_sj329BYS6T",
    "outputId": "a1d0b1ba-3781-4e9a-be47-c63ea5bad15b"
   },
   "outputs": [
    {
     "data": {
      "text/plain": [
       "0    26556113\n",
       "1     5434977\n",
       "Name: click, dtype: int64"
      ]
     },
     "execution_count": 19,
     "metadata": {},
     "output_type": "execute_result"
    }
   ],
   "source": [
    "#Inspecting distribution for each class\n",
    "train_label_encoded['click'].value_counts()"
   ]
  },
  {
   "cell_type": "code",
   "execution_count": 20,
   "metadata": {
    "id": "o8UaIzNfaAmr"
   },
   "outputs": [],
   "source": [
    "# Transforming hour column in the test dataset before exporting it\n",
    "\n",
    "# Transforming hour variable\n",
    "# Convert 'hour' to datetime\n",
    "train_label_encoded['hour'] = pd.to_datetime(train_label_encoded['hour'], format='%y%m%d%H')\n",
    "\n",
    "# Create 'day_of_week' column\n",
    "train_label_encoded['day_of_week'] = train_label_encoded['hour'].dt.day_name()"
   ]
  },
  {
   "cell_type": "code",
   "execution_count": 21,
   "metadata": {
    "id": "N0vyU3iLaVFt"
   },
   "outputs": [],
   "source": [
    "# Function to categorize part of the day with numerical values\n",
    "def get_part_of_day(hour):\n",
    "    if 5 <= hour < 11:\n",
    "        return 1  # morning\n",
    "    elif 11 <= hour < 17:\n",
    "        return 2  # noon\n",
    "    elif 17 <= hour < 20:\n",
    "        return 3  # evening\n",
    "    else:\n",
    "        return 4  # night\n",
    "\n",
    "\n",
    "# Create 'part_of_day' column\n",
    "train_label_encoded['part_of_day'] = train_label_encoded['hour'].dt.hour.apply(get_part_of_day)"
   ]
  },
  {
   "cell_type": "code",
   "execution_count": 22,
   "metadata": {
    "id": "0xkzbRQRaeIN"
   },
   "outputs": [],
   "source": [
    "# Label encoding day of the week column into numerical values\n",
    "\n",
    "# Sample data\n",
    "days = {'day_of_week': ['Tuesday', 'Wednesday', 'Thursday', 'Friday', 'Saturday', 'Sunday', 'Monday']}\n",
    "# Custom mapping for days of the week\n",
    "day_mapping = {'Monday': 1, 'Tuesday': 2, 'Wednesday': 3, 'Thursday': 4, 'Friday': 5, 'Saturday': 6, 'Sunday': 7}\n",
    "\n",
    "# Apply the mapping to the 'day_of_week' column\n",
    "train_label_encoded['day_of_week'] = train_label_encoded['day_of_week'].map(day_mapping)"
   ]
  },
  {
   "cell_type": "code",
   "execution_count": 24,
   "metadata": {
    "id": "epLt2KR9aqbl"
   },
   "outputs": [],
   "source": [
    "# dropoing id from the train dataset\n",
    "data = train_label_encoded.drop('id', axis=1)"
   ]
  },
  {
   "cell_type": "code",
   "execution_count": 25,
   "metadata": {
    "id": "MyICMs7_bPSe"
   },
   "outputs": [],
   "source": [
    "data=data.drop('hour', axis=1)"
   ]
  },
  {
   "cell_type": "code",
   "execution_count": 27,
   "metadata": {
    "id": "ezQ27z5zbYKN"
   },
   "outputs": [],
   "source": [
    "del train_label_encoded"
   ]
  },
  {
   "cell_type": "code",
   "execution_count": 30,
   "metadata": {
    "id": "CbsueZ7bbnUt"
   },
   "outputs": [],
   "source": [
    "import pandas as pd # Importing libraries for data manipulation\n",
    "\n",
    "# Assuming 'data' is your DataFrame and it has a binary target column named 'target'\n",
    "\n",
    "# Count the number of ones\n",
    "ones_count = data[data['click'] == 1].shape[0]\n",
    "\n",
    "# Calculate the number of zeros to sample\n",
    "total_desired = 10000000  # total desired sample size\n",
    "zeros_to_sample = total_desired - ones_count\n",
    "\n",
    "# Sample from the zeros\n",
    "zeros_sampled = data[data['click'] == 0].sample(zeros_to_sample, random_state=42)\n",
    "\n",
    "# Concatenate the ones and the sampled zeros\n",
    "undersampled_data = pd.concat([data[data['click'] == 1], zeros_sampled])\n",
    "\n",
    "# Shuffle the dataset (optional, but often a good idea)\n",
    "undersampled_data = undersampled_data.sample(frac=1, random_state=42).reset_index(drop=True)\n",
    "\n",
    "# Now, 'undersampled_data' is your new DataFrame with the desired undersampling\n"
   ]
  },
  {
   "cell_type": "code",
   "execution_count": 31,
   "metadata": {
    "colab": {
     "base_uri": "https://localhost:8080/"
    },
    "id": "cyZnC2YGcHnD",
    "outputId": "52ce1f64-221a-4b60-af98-446d1449f39b"
   },
   "outputs": [
    {
     "data": {
      "text/plain": [
       "1    5434977\n",
       "0    4565023\n",
       "Name: click, dtype: int64"
      ]
     },
     "execution_count": 31,
     "metadata": {},
     "output_type": "execute_result"
    }
   ],
   "source": [
    "#Inspecting distribution for each class\n",
    "undersampled_data['click'].value_counts()"
   ]
  },
  {
   "cell_type": "code",
   "execution_count": 32,
   "metadata": {
    "colab": {
     "base_uri": "https://localhost:8080/"
    },
    "id": "bTnHZUS1cbiS",
    "outputId": "99a428f6-527e-4c04-e4d0-80722b8a8346"
   },
   "outputs": [
    {
     "data": {
      "text/plain": [
       "(10000000, 24)"
      ]
     },
     "execution_count": 32,
     "metadata": {},
     "output_type": "execute_result"
    }
   ],
   "source": [
    "undersampled_data.shape"
   ]
  },
  {
   "cell_type": "code",
   "execution_count": 35,
   "metadata": {
    "id": "trdA9PKUcftg"
   },
   "outputs": [],
   "source": [
    "# Free up space\n",
    "del data"
   ]
  },
  {
   "cell_type": "code",
   "execution_count": null,
   "metadata": {
    "id": "-drBplaWc1b7"
   },
   "outputs": [],
   "source": []
  },
  {
   "cell_type": "code",
   "execution_count": 36,
   "metadata": {
    "colab": {
     "base_uri": "https://localhost:8080/"
    },
    "id": "4xUhwyWtdD4-",
    "outputId": "8dcee471-4861-4edc-8858-044b5198967e"
   },
   "outputs": [
    {
     "name": "stdout",
     "output_type": "stream",
     "text": [
      "Drive already mounted at /content/drive; to attempt to forcibly remount, call drive.mount(\"/content/drive\", force_remount=True).\n",
      "File saved to: /content/drive/MyDrive/AI & ML/Final Project /pre-processed_label_encoded.csv\n"
     ]
    }
   ],
   "source": [
    "# Saving encoded train dataset on my drive\n",
    "\n",
    "from google.colab import drive # Importing Google Colab module for using Google Drive\n",
    "import os # Importing os library for operating system dependent functionality\n",
    "\n",
    "# Mount your Google Drive\n",
    "drive.mount('/content/drive')\n",
    "\n",
    "# Specify the path where you want to save the file in your Google Drive\n",
    "drive_path = '/content/drive/MyDrive/AI & ML/Final Project /'  # You can change this to a specific folder in your Drive\n",
    "file_name = 'pre-processed_label_encoded.csv'\n",
    "full_path = os.path.join(drive_path, file_name)\n",
    "\n",
    "# Convert your DataFrame to a CSV file and save it in the specified path\n",
    "undersampled_data.to_csv(full_path, index=False)\n",
    "\n",
    "print(f\"File saved to: {full_path}\")\n"
   ]
  },
  {
   "cell_type": "code",
   "execution_count": 1,
   "metadata": {
    "id": "3HED1EuSdiqQ"
   },
   "outputs": [],
   "source": [
    "# import packages\n",
    "import pandas as pd # Importing libraries for data manipulation\n",
    "import numpy as np # Importing libraries for data manipulation\n",
    "import os # Importing os library for operating system dependent functionality\n",
    "import matplotlib.pyplot as plt # Importing libraries for data visualization\n",
    "import seaborn as sns # Importing libraries for data visualization"
   ]
  },
  {
   "cell_type": "code",
   "execution_count": 2,
   "metadata": {
    "colab": {
     "base_uri": "https://localhost:8080/"
    },
    "id": "BCa2NP1kdr23",
    "outputId": "17455aea-4be1-4b0b-892a-940e3e6d3627"
   },
   "outputs": [
    {
     "name": "stdout",
     "output_type": "stream",
     "text": [
      "Mounted at /content/drive\n"
     ]
    }
   ],
   "source": [
    "from google.colab import drive # Importing Google Colab module for using Google Drive\n",
    "drive.mount('/content/drive')"
   ]
  },
  {
   "cell_type": "code",
   "execution_count": 3,
   "metadata": {
    "id": "eJoSjhsZdr5d"
   },
   "outputs": [],
   "source": [
    "# Varibales holding path to my datasets both train and test\n",
    "\n",
    "file_path_Train_3 = '/content/drive/MyDrive/AI & ML/Final Project /pre-processed_label_encoded.csv'"
   ]
  },
  {
   "cell_type": "code",
   "execution_count": 4,
   "metadata": {
    "id": "mfDOTJYYdr7b"
   },
   "outputs": [],
   "source": [
    "data = pd.read_csv(file_path_Train_3)"
   ]
  },
  {
   "cell_type": "code",
   "execution_count": 5,
   "metadata": {
    "id": "DY19TDE7dr94"
   },
   "outputs": [],
   "source": [
    "# Define the column names I want to select from the 'data' DataFrame\n",
    "selected_columns = [\n",
    "    'device_ip', 'device_model', 'C14', 'device_id', 'day_of_week', 'C20',\n",
    "    'part_of_day', 'site_id', 'site_domain', 'C21', 'app_id', 'C16',\n",
    "    'site_category', 'C19', 'C15', 'click' # 'C17' is excluded since it is too correlated to column  C14\n",
    "]\n",
    "\n",
    "selected_data = data[selected_columns]"
   ]
  },
  {
   "cell_type": "code",
   "execution_count": 6,
   "metadata": {
    "id": "1ER3z_2Kfr4x"
   },
   "outputs": [],
   "source": [
    "import pandas as pd # Importing libraries for data manipulation\n",
    "import numpy as np # Importing libraries for data manipulation\n",
    "\n",
    "# Shuffle columns\n",
    "shuffled_columns = np.random.permutation(selected_data.columns)\n",
    "data = selected_data[shuffled_columns]"
   ]
  },
  {
   "cell_type": "code",
   "execution_count": 7,
   "metadata": {
    "colab": {
     "base_uri": "https://localhost:8080/"
    },
    "id": "pxi2wfb2f-Ql",
    "outputId": "fad61469-5ddb-47fd-f72b-fb35f0084ae2"
   },
   "outputs": [
    {
     "name": "stdout",
     "output_type": "stream",
     "text": [
      "Drive already mounted at /content/drive; to attempt to forcibly remount, call drive.mount(\"/content/drive\", force_remount=True).\n",
      "File saved to: /content/drive/MyDrive/AI & ML/Final Project /pre-processed_data_modeling.csv\n"
     ]
    }
   ],
   "source": [
    "# Saving encoded train dataset on my drive after selecting features\n",
    "\n",
    "from google.colab import drive # Importing Google Colab module for using Google Drive\n",
    "import os # Importing os library for operating system dependent functionality\n",
    "\n",
    "# Mount to Google Drive\n",
    "drive.mount('/content/drive')\n",
    "\n",
    "# Specify the path where I want to save the file in my Google Drive\n",
    "drive_path = '/content/drive/MyDrive/AI & ML/Final Project /'  # You can change this to a specific folder in your Drive\n",
    "file_name = 'pre-processed_data_modeling.csv'\n",
    "full_path = os.path.join(drive_path, file_name)\n",
    "\n",
    "# Convert DataFrame to a CSV file and save it in the specified path\n",
    "data.to_csv(full_path, index=False)\n",
    "\n",
    "print(f\"File saved to: {full_path}\")\n"
   ]
  },
  {
   "cell_type": "code",
   "execution_count": 9,
   "metadata": {
    "colab": {
     "base_uri": "https://localhost:8080/"
    },
    "id": "wS9SylQUg9g0",
    "outputId": "b2ad5e10-da97-4d63-d564-eaa94c040225"
   },
   "outputs": [
    {
     "name": "stdout",
     "output_type": "stream",
     "text": [
      "Epoch 1/10\n",
      "117182/117188 [============================>.] - ETA: 0s - loss: 53.6686 - accuracy: 0.5415\n",
      "Epoch 1: val_loss improved from inf to 0.68944, saving model to /content/drive/MyDrive/AI & ML/Final Project/model_weights.click\n",
      "117188/117188 [==============================] - 305s 3ms/step - loss: 53.6661 - accuracy: 0.5415 - val_loss: 0.6894 - val_accuracy: 0.5432\n",
      "Epoch 2/10\n",
      "117178/117188 [============================>.] - ETA: 0s - loss: 0.6894 - accuracy: 0.5436\n",
      "Epoch 2: val_loss improved from 0.68944 to 0.68938, saving model to /content/drive/MyDrive/AI & ML/Final Project/model_weights.click\n",
      "117188/117188 [==============================] - 300s 3ms/step - loss: 0.6894 - accuracy: 0.5436 - val_loss: 0.6894 - val_accuracy: 0.5432\n",
      "Epoch 3/10\n",
      "117188/117188 [==============================] - ETA: 0s - loss: 0.6894 - accuracy: 0.5436\n",
      "Epoch 3: val_loss did not improve from 0.68938\n",
      "117188/117188 [==============================] - 305s 3ms/step - loss: 0.6894 - accuracy: 0.5436 - val_loss: 0.6894 - val_accuracy: 0.5432\n",
      "Epoch 4/10\n",
      "117179/117188 [============================>.] - ETA: 0s - loss: 0.6894 - accuracy: 0.5436\n",
      "Epoch 4: val_loss improved from 0.68938 to 0.68938, saving model to /content/drive/MyDrive/AI & ML/Final Project/model_weights.click\n",
      "117188/117188 [==============================] - 300s 3ms/step - loss: 0.6894 - accuracy: 0.5436 - val_loss: 0.6894 - val_accuracy: 0.5432\n",
      "Epoch 5/10\n",
      "117185/117188 [============================>.] - ETA: 0s - loss: 0.6894 - accuracy: 0.5436\n",
      "Epoch 5: val_loss improved from 0.68938 to 0.68938, saving model to /content/drive/MyDrive/AI & ML/Final Project/model_weights.click\n",
      "117188/117188 [==============================] - 304s 3ms/step - loss: 0.6894 - accuracy: 0.5436 - val_loss: 0.6894 - val_accuracy: 0.5432\n",
      "Epoch 6/10\n",
      "117180/117188 [============================>.] - ETA: 0s - loss: 0.6894 - accuracy: 0.5436\n",
      "Epoch 6: val_loss did not improve from 0.68938\n",
      "117188/117188 [==============================] - 298s 3ms/step - loss: 0.6894 - accuracy: 0.5436 - val_loss: 0.6894 - val_accuracy: 0.5432\n",
      "Epoch 7/10\n",
      "117175/117188 [============================>.] - ETA: 0s - loss: 0.6894 - accuracy: 0.5436\n",
      "Epoch 7: val_loss did not improve from 0.68938\n",
      "117188/117188 [==============================] - 329s 3ms/step - loss: 0.6894 - accuracy: 0.5436 - val_loss: 0.6894 - val_accuracy: 0.5432\n",
      "Epoch 8/10\n",
      "117182/117188 [============================>.] - ETA: 0s - loss: 0.6894 - accuracy: 0.5436\n",
      "Epoch 8: val_loss did not improve from 0.68938\n",
      "117188/117188 [==============================] - 299s 3ms/step - loss: 0.6894 - accuracy: 0.5436 - val_loss: 0.6894 - val_accuracy: 0.5432\n",
      "Epoch 9/10\n",
      "117183/117188 [============================>.] - ETA: 0s - loss: 0.6894 - accuracy: 0.5436\n",
      "Epoch 9: val_loss did not improve from 0.68938\n",
      "117188/117188 [==============================] - 299s 3ms/step - loss: 0.6894 - accuracy: 0.5436 - val_loss: 0.6894 - val_accuracy: 0.5432\n",
      "Epoch 10/10\n",
      "117177/117188 [============================>.] - ETA: 0s - loss: 0.6894 - accuracy: 0.5436\n",
      "Epoch 10: val_loss did not improve from 0.68938\n",
      "117188/117188 [==============================] - 307s 3ms/step - loss: 0.6894 - accuracy: 0.5436 - val_loss: 0.6895 - val_accuracy: 0.5432\n"
     ]
    }
   ],
   "source": [
    "import pandas as pd # Importing libraries for data manipulation\n",
    "import numpy as np # Importing libraries for data manipulation\n",
    "import matplotlib.pyplot as plt # Importing libraries for data visualization\n",
    "from sklearn.metrics import classification_report, confusion_matrix, accuracy_score, log_loss, roc_curve, auc # Importing Scikit-learn modules for machine learning tasks\n",
    "from keras.models import Sequential # Importing Keras modules for neural network modeling\n",
    "from keras.layers import Dense # Importing Keras modules for neural network modeling\n",
    "from keras.callbacks import ModelCheckpoint # Importing Keras modules for neural network modeling\n",
    "from keras.optimizers import Adam # Importing Keras modules for neural network modeling\n",
    "from sklearn.model_selection import train_test_split # Importing Scikit-learn modules for machine learning tasks\n",
    "\n",
    "\n",
    "X = data.drop('click', axis=1)\n",
    "y = data['click']\n",
    "\n",
    "# Split the data into training and validation sets (80% train, 20% validation)\n",
    "X_train, X_val, y_train, y_val = train_test_split(X, y, test_size=0.25, random_state=42)\n",
    "\n",
    "# Define custom learning rate\n",
    "learning_rate = 0.001  # Adjust this value as needed\n",
    "\n",
    "# Define the neural network model\n",
    "model = Sequential([\n",
    "    Dense(128, activation='relu', input_shape=(X_train.shape[1],)),\n",
    "    Dense(64, activation='relu'),\n",
    "    Dense(32, activation='relu'),\n",
    "    Dense(1, activation='sigmoid')\n",
    "])\n",
    "\n",
    "# Compile the model with the Adam optimizer and custom learning rate\n",
    "model.compile(optimizer=Adam(learning_rate=learning_rate), loss='binary_crossentropy', metrics=['accuracy'])\n",
    "\n",
    "# Corrected file path for the checkpoint callback (using a raw string)\n",
    "checkpoint_path = r'/content/drive/MyDrive/AI & ML/Final Project/model_weights.click'  # Update this path as needed\n",
    "\n",
    "# Define the checkpoint callback\n",
    "checkpoint = ModelCheckpoint(\n",
    "    checkpoint_path,\n",
    "    monitor='val_loss',\n",
    "    verbose=1,\n",
    "    save_best_only=True,\n",
    "    mode='min'\n",
    ")\n",
    "\n",
    "# Train the model with the checkpoint callback\n",
    "history = model.fit(\n",
    "    X_train, y_train,\n",
    "    validation_data=(X_val, y_val),\n",
    "    epochs=10,\n",
    "    batch_size=64,\n",
    "    callbacks=[checkpoint]\n",
    ")\n",
    "\n",
    "# Function to calculate and print performance metrics and save classification report\n",
    "def evaluate_performance(X, y, dataset_name):\n",
    "    # Predict probabilities and classes\n",
    "    y_pred_probs = model.predict(X)\n",
    "    y_pred = (y_pred_probs > 0.5).astype(int)\n",
    "\n",
    "    # Log Loss\n",
    "    log_loss_value = log_loss(y, y_pred_probs)\n",
    "\n",
    "    # Classification Report, F1 Score, and Saving Report\n",
    "    report = classification_report(y, y_pred, output_dict=True)\n",
    "    f1_score = report['weighted avg']['f1-score']\n",
    "    report_df = pd.DataFrame(report).transpose()\n",
    "    report_df.to_csv(f'{dataset_name.lower()}_classification_report.csv')\n",
    "\n",
    "    # Confusion Matrix\n",
    "    cm = confusion_matrix(y, y_pred)\n",
    "    cm_normalized = cm.astype('float') / cm.sum(axis=1)[:, np.newaxis]\n",
    "\n",
    "    # Accuracy\n",
    "    accuracy = accuracy_score(y, y_pred)\n",
    "\n",
    "    # ROC Curve and AUC\n",
    "    fpr, tpr, thresholds = roc_curve(y, y_pred_probs)\n",
    "    roc_auc = auc(fpr, tpr)\n",
    "\n",
    "    # Print Metrics\n",
    "    print(f\"Performance on {dataset_name} Dataset:\")\n",
    "    print(f\"Accuracy: {accuracy}\")\n",
    "    print(f\"Log Loss: {log_loss_value}\")\n",
    "    print(f\"F1 Score: {f1_score}\")\n",
    "    print(\"Classification Report:\")\n",
    "    print(report_df)\n",
    "    print(\"Normalized Confusion Matrix:\")\n",
    "    print(cm_normalized)\n",
    "\n",
    "# Make sure to replace X_train, y_train, X_val, y_val with your actual data\n"
   ]
  }
 ],
 "metadata": {
  "colab": {
   "machine_shape": "hm",
   "provenance": []
  },
  "kernelspec": {
   "display_name": "Python 3",
   "name": "python3"
  },
  "language_info": {
   "name": "python"
  }
 },
 "nbformat": 4,
 "nbformat_minor": 0
}
